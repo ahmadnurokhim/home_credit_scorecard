{
 "cells": [
  {
   "cell_type": "code",
   "execution_count": 1,
   "metadata": {
    "collapsed": true,
    "pycharm": {
     "name": "#%%\n"
    }
   },
   "outputs": [],
   "source": [
    "import numpy as np\n",
    "import pandas as pd\n",
    "import seaborn as sns\n",
    "import matplotlib.pyplot as plt\n",
    "from sklearn.feature_selection import SelectKBest, chi2\n",
    "from sklearn.preprocessing import LabelEncoder, MinMaxScaler\n"
   ]
  },
  {
   "cell_type": "code",
   "execution_count": 2,
   "metadata": {
    "collapsed": false,
    "pycharm": {
     "name": "#%%\n"
    }
   },
   "outputs": [],
   "source": [
    "# Load the dataset\n",
    "appl_train = pd.read_csv('home-credit-default-risk/application_train.csv')"
   ]
  },
  {
   "cell_type": "markdown",
   "metadata": {
    "collapsed": false,
    "pycharm": {
     "name": "#%% md\n"
    }
   },
   "source": [
    "# 1. Problem Research"
   ]
  },
  {
   "cell_type": "markdown",
   "metadata": {},
   "source": [
    "Home Credit Indonesia is a finance company that provides financing services for customers who shop either online or offline. They provide financing services for customers who want to buy various products such as household utilities, electronics, handphones, furniture, etc.\n",
    "\n",
    "As a financing service company, the main problem that Home Credit Indonesia must solve is **how to provide installments to customers with a high probability of successful loan payment**.\n",
    "\n",
    "## 1.1 Goal\n",
    "**Achieve higher rate of customer's success installment payment.**\n",
    "\n",
    "## 1.2 Objective\n",
    "**Build a better model to predict wether the customer will have successful loan payment or not.**\n",
    "\n",
    "## 1.3 Metrics\n",
    "**Use F1 Score and ROC AUC to choose the best model to use.**"
   ]
  },
  {
   "cell_type": "markdown",
   "metadata": {
    "collapsed": false,
    "pycharm": {
     "name": "#%% md\n"
    }
   },
   "source": [
    "# 2. Data Pre-Processing"
   ]
  },
  {
   "cell_type": "markdown",
   "metadata": {},
   "source": [
    "## 2.1 NA Values and Label Encoding "
   ]
  },
  {
   "cell_type": "markdown",
   "metadata": {
    "collapsed": false,
    "pycharm": {
     "name": "#%% md\n"
    }
   },
   "source": [
    "We will drop any feature with more than 30% NA value."
   ]
  },
  {
   "cell_type": "code",
   "execution_count": 3,
   "metadata": {
    "collapsed": false,
    "pycharm": {
     "name": "#%%\n"
    }
   },
   "outputs": [
    {
     "data": {
      "text/html": [
       "<div>\n",
       "<style scoped>\n",
       "    .dataframe tbody tr th:only-of-type {\n",
       "        vertical-align: middle;\n",
       "    }\n",
       "\n",
       "    .dataframe tbody tr th {\n",
       "        vertical-align: top;\n",
       "    }\n",
       "\n",
       "    .dataframe thead th {\n",
       "        text-align: right;\n",
       "    }\n",
       "</style>\n",
       "<table border=\"1\" class=\"dataframe\">\n",
       "  <thead>\n",
       "    <tr style=\"text-align: right;\">\n",
       "      <th></th>\n",
       "      <th>SK_ID_CURR</th>\n",
       "      <th>TARGET</th>\n",
       "      <th>NAME_CONTRACT_TYPE</th>\n",
       "      <th>CODE_GENDER</th>\n",
       "      <th>FLAG_OWN_CAR</th>\n",
       "      <th>FLAG_OWN_REALTY</th>\n",
       "      <th>CNT_CHILDREN</th>\n",
       "      <th>AMT_INCOME_TOTAL</th>\n",
       "      <th>AMT_CREDIT</th>\n",
       "      <th>AMT_ANNUITY</th>\n",
       "      <th>...</th>\n",
       "      <th>DEF_30_CNT_SOCIAL_CIRCLE</th>\n",
       "      <th>OBS_60_CNT_SOCIAL_CIRCLE</th>\n",
       "      <th>DEF_60_CNT_SOCIAL_CIRCLE</th>\n",
       "      <th>DAYS_LAST_PHONE_CHANGE</th>\n",
       "      <th>AMT_REQ_CREDIT_BUREAU_HOUR</th>\n",
       "      <th>AMT_REQ_CREDIT_BUREAU_DAY</th>\n",
       "      <th>AMT_REQ_CREDIT_BUREAU_WEEK</th>\n",
       "      <th>AMT_REQ_CREDIT_BUREAU_MON</th>\n",
       "      <th>AMT_REQ_CREDIT_BUREAU_QRT</th>\n",
       "      <th>AMT_REQ_CREDIT_BUREAU_YEAR</th>\n",
       "    </tr>\n",
       "  </thead>\n",
       "  <tbody>\n",
       "    <tr>\n",
       "      <th>0</th>\n",
       "      <td>100002</td>\n",
       "      <td>1</td>\n",
       "      <td>Cash loans</td>\n",
       "      <td>M</td>\n",
       "      <td>N</td>\n",
       "      <td>Y</td>\n",
       "      <td>0</td>\n",
       "      <td>202500.0</td>\n",
       "      <td>406597.5</td>\n",
       "      <td>24700.5</td>\n",
       "      <td>...</td>\n",
       "      <td>2.0</td>\n",
       "      <td>2.0</td>\n",
       "      <td>2.0</td>\n",
       "      <td>-1134.0</td>\n",
       "      <td>0.0</td>\n",
       "      <td>0.0</td>\n",
       "      <td>0.0</td>\n",
       "      <td>0.0</td>\n",
       "      <td>0.0</td>\n",
       "      <td>1.0</td>\n",
       "    </tr>\n",
       "    <tr>\n",
       "      <th>1</th>\n",
       "      <td>100003</td>\n",
       "      <td>0</td>\n",
       "      <td>Cash loans</td>\n",
       "      <td>F</td>\n",
       "      <td>N</td>\n",
       "      <td>N</td>\n",
       "      <td>0</td>\n",
       "      <td>270000.0</td>\n",
       "      <td>1293502.5</td>\n",
       "      <td>35698.5</td>\n",
       "      <td>...</td>\n",
       "      <td>0.0</td>\n",
       "      <td>1.0</td>\n",
       "      <td>0.0</td>\n",
       "      <td>-828.0</td>\n",
       "      <td>0.0</td>\n",
       "      <td>0.0</td>\n",
       "      <td>0.0</td>\n",
       "      <td>0.0</td>\n",
       "      <td>0.0</td>\n",
       "      <td>0.0</td>\n",
       "    </tr>\n",
       "    <tr>\n",
       "      <th>2</th>\n",
       "      <td>100004</td>\n",
       "      <td>0</td>\n",
       "      <td>Revolving loans</td>\n",
       "      <td>M</td>\n",
       "      <td>Y</td>\n",
       "      <td>Y</td>\n",
       "      <td>0</td>\n",
       "      <td>67500.0</td>\n",
       "      <td>135000.0</td>\n",
       "      <td>6750.0</td>\n",
       "      <td>...</td>\n",
       "      <td>0.0</td>\n",
       "      <td>0.0</td>\n",
       "      <td>0.0</td>\n",
       "      <td>-815.0</td>\n",
       "      <td>0.0</td>\n",
       "      <td>0.0</td>\n",
       "      <td>0.0</td>\n",
       "      <td>0.0</td>\n",
       "      <td>0.0</td>\n",
       "      <td>0.0</td>\n",
       "    </tr>\n",
       "    <tr>\n",
       "      <th>3</th>\n",
       "      <td>100006</td>\n",
       "      <td>0</td>\n",
       "      <td>Cash loans</td>\n",
       "      <td>F</td>\n",
       "      <td>N</td>\n",
       "      <td>Y</td>\n",
       "      <td>0</td>\n",
       "      <td>135000.0</td>\n",
       "      <td>312682.5</td>\n",
       "      <td>29686.5</td>\n",
       "      <td>...</td>\n",
       "      <td>0.0</td>\n",
       "      <td>2.0</td>\n",
       "      <td>0.0</td>\n",
       "      <td>-617.0</td>\n",
       "      <td>NaN</td>\n",
       "      <td>NaN</td>\n",
       "      <td>NaN</td>\n",
       "      <td>NaN</td>\n",
       "      <td>NaN</td>\n",
       "      <td>NaN</td>\n",
       "    </tr>\n",
       "    <tr>\n",
       "      <th>4</th>\n",
       "      <td>100007</td>\n",
       "      <td>0</td>\n",
       "      <td>Cash loans</td>\n",
       "      <td>M</td>\n",
       "      <td>N</td>\n",
       "      <td>Y</td>\n",
       "      <td>0</td>\n",
       "      <td>121500.0</td>\n",
       "      <td>513000.0</td>\n",
       "      <td>21865.5</td>\n",
       "      <td>...</td>\n",
       "      <td>0.0</td>\n",
       "      <td>0.0</td>\n",
       "      <td>0.0</td>\n",
       "      <td>-1106.0</td>\n",
       "      <td>0.0</td>\n",
       "      <td>0.0</td>\n",
       "      <td>0.0</td>\n",
       "      <td>0.0</td>\n",
       "      <td>0.0</td>\n",
       "      <td>0.0</td>\n",
       "    </tr>\n",
       "  </tbody>\n",
       "</table>\n",
       "<p>5 rows × 52 columns</p>\n",
       "</div>"
      ],
      "text/plain": [
       "   SK_ID_CURR  TARGET NAME_CONTRACT_TYPE CODE_GENDER FLAG_OWN_CAR  \\\n",
       "0      100002       1         Cash loans           M            N   \n",
       "1      100003       0         Cash loans           F            N   \n",
       "2      100004       0    Revolving loans           M            Y   \n",
       "3      100006       0         Cash loans           F            N   \n",
       "4      100007       0         Cash loans           M            N   \n",
       "\n",
       "  FLAG_OWN_REALTY  CNT_CHILDREN  AMT_INCOME_TOTAL  AMT_CREDIT  AMT_ANNUITY  \\\n",
       "0               Y             0          202500.0    406597.5      24700.5   \n",
       "1               N             0          270000.0   1293502.5      35698.5   \n",
       "2               Y             0           67500.0    135000.0       6750.0   \n",
       "3               Y             0          135000.0    312682.5      29686.5   \n",
       "4               Y             0          121500.0    513000.0      21865.5   \n",
       "\n",
       "   ...  DEF_30_CNT_SOCIAL_CIRCLE OBS_60_CNT_SOCIAL_CIRCLE  \\\n",
       "0  ...                       2.0                      2.0   \n",
       "1  ...                       0.0                      1.0   \n",
       "2  ...                       0.0                      0.0   \n",
       "3  ...                       0.0                      2.0   \n",
       "4  ...                       0.0                      0.0   \n",
       "\n",
       "  DEF_60_CNT_SOCIAL_CIRCLE DAYS_LAST_PHONE_CHANGE AMT_REQ_CREDIT_BUREAU_HOUR  \\\n",
       "0                      2.0                -1134.0                        0.0   \n",
       "1                      0.0                 -828.0                        0.0   \n",
       "2                      0.0                 -815.0                        0.0   \n",
       "3                      0.0                 -617.0                        NaN   \n",
       "4                      0.0                -1106.0                        0.0   \n",
       "\n",
       "  AMT_REQ_CREDIT_BUREAU_DAY  AMT_REQ_CREDIT_BUREAU_WEEK  \\\n",
       "0                       0.0                         0.0   \n",
       "1                       0.0                         0.0   \n",
       "2                       0.0                         0.0   \n",
       "3                       NaN                         NaN   \n",
       "4                       0.0                         0.0   \n",
       "\n",
       "   AMT_REQ_CREDIT_BUREAU_MON  AMT_REQ_CREDIT_BUREAU_QRT  \\\n",
       "0                        0.0                        0.0   \n",
       "1                        0.0                        0.0   \n",
       "2                        0.0                        0.0   \n",
       "3                        NaN                        NaN   \n",
       "4                        0.0                        0.0   \n",
       "\n",
       "   AMT_REQ_CREDIT_BUREAU_YEAR  \n",
       "0                         1.0  \n",
       "1                         0.0  \n",
       "2                         0.0  \n",
       "3                         NaN  \n",
       "4                         0.0  \n",
       "\n",
       "[5 rows x 52 columns]"
      ]
     },
     "execution_count": 3,
     "metadata": {},
     "output_type": "execute_result"
    }
   ],
   "source": [
    "# Define the max number of allowed NA values and count the NA values (in this case 30%)\n",
    "na_limit = int(0.3 * appl_train.shape[0])\n",
    "na_count = appl_train.isna().sum()\n",
    "\n",
    "# Drop column if it has NA values more than the threshold\n",
    "col_to_drop_by_na_count = na_count.where(na_count>=na_limit).dropna().index\n",
    "appl_train_dropped = appl_train.drop(col_to_drop_by_na_count, axis=1)\n",
    "\n",
    "# Drop additional columns\n",
    "appl_train_dropped = appl_train_dropped.drop([f\"FLAG_DOCUMENT_{x}\" for x in range(2, 22)], axis=1)\n",
    "appl_train_dropped.head()"
   ]
  },
  {
   "cell_type": "markdown",
   "metadata": {},
   "source": [
    "The first feature dropping gives us 52 features left to work with. The next step is to encode the categorical features"
   ]
  },
  {
   "cell_type": "code",
   "execution_count": 4,
   "metadata": {},
   "outputs": [
    {
     "data": {
      "text/html": [
       "<div>\n",
       "<style scoped>\n",
       "    .dataframe tbody tr th:only-of-type {\n",
       "        vertical-align: middle;\n",
       "    }\n",
       "\n",
       "    .dataframe tbody tr th {\n",
       "        vertical-align: top;\n",
       "    }\n",
       "\n",
       "    .dataframe thead th {\n",
       "        text-align: right;\n",
       "    }\n",
       "</style>\n",
       "<table border=\"1\" class=\"dataframe\">\n",
       "  <thead>\n",
       "    <tr style=\"text-align: right;\">\n",
       "      <th></th>\n",
       "      <th>SK_ID_CURR</th>\n",
       "      <th>TARGET</th>\n",
       "      <th>NAME_CONTRACT_TYPE</th>\n",
       "      <th>CODE_GENDER</th>\n",
       "      <th>FLAG_OWN_CAR</th>\n",
       "      <th>FLAG_OWN_REALTY</th>\n",
       "      <th>CNT_CHILDREN</th>\n",
       "      <th>AMT_INCOME_TOTAL</th>\n",
       "      <th>AMT_CREDIT</th>\n",
       "      <th>AMT_ANNUITY</th>\n",
       "      <th>...</th>\n",
       "      <th>DEF_30_CNT_SOCIAL_CIRCLE</th>\n",
       "      <th>OBS_60_CNT_SOCIAL_CIRCLE</th>\n",
       "      <th>DEF_60_CNT_SOCIAL_CIRCLE</th>\n",
       "      <th>DAYS_LAST_PHONE_CHANGE</th>\n",
       "      <th>AMT_REQ_CREDIT_BUREAU_HOUR</th>\n",
       "      <th>AMT_REQ_CREDIT_BUREAU_DAY</th>\n",
       "      <th>AMT_REQ_CREDIT_BUREAU_WEEK</th>\n",
       "      <th>AMT_REQ_CREDIT_BUREAU_MON</th>\n",
       "      <th>AMT_REQ_CREDIT_BUREAU_QRT</th>\n",
       "      <th>AMT_REQ_CREDIT_BUREAU_YEAR</th>\n",
       "    </tr>\n",
       "  </thead>\n",
       "  <tbody>\n",
       "    <tr>\n",
       "      <th>0</th>\n",
       "      <td>100002</td>\n",
       "      <td>1</td>\n",
       "      <td>0</td>\n",
       "      <td>1</td>\n",
       "      <td>0</td>\n",
       "      <td>1</td>\n",
       "      <td>0</td>\n",
       "      <td>202500.0</td>\n",
       "      <td>406597.5</td>\n",
       "      <td>24700.5</td>\n",
       "      <td>...</td>\n",
       "      <td>2.0</td>\n",
       "      <td>2.0</td>\n",
       "      <td>2.0</td>\n",
       "      <td>-1134.0</td>\n",
       "      <td>0.0</td>\n",
       "      <td>0.0</td>\n",
       "      <td>0.0</td>\n",
       "      <td>0.0</td>\n",
       "      <td>0.0</td>\n",
       "      <td>1.0</td>\n",
       "    </tr>\n",
       "    <tr>\n",
       "      <th>1</th>\n",
       "      <td>100003</td>\n",
       "      <td>0</td>\n",
       "      <td>0</td>\n",
       "      <td>0</td>\n",
       "      <td>0</td>\n",
       "      <td>0</td>\n",
       "      <td>0</td>\n",
       "      <td>270000.0</td>\n",
       "      <td>1293502.5</td>\n",
       "      <td>35698.5</td>\n",
       "      <td>...</td>\n",
       "      <td>0.0</td>\n",
       "      <td>1.0</td>\n",
       "      <td>0.0</td>\n",
       "      <td>-828.0</td>\n",
       "      <td>0.0</td>\n",
       "      <td>0.0</td>\n",
       "      <td>0.0</td>\n",
       "      <td>0.0</td>\n",
       "      <td>0.0</td>\n",
       "      <td>0.0</td>\n",
       "    </tr>\n",
       "    <tr>\n",
       "      <th>2</th>\n",
       "      <td>100004</td>\n",
       "      <td>0</td>\n",
       "      <td>1</td>\n",
       "      <td>1</td>\n",
       "      <td>1</td>\n",
       "      <td>1</td>\n",
       "      <td>0</td>\n",
       "      <td>67500.0</td>\n",
       "      <td>135000.0</td>\n",
       "      <td>6750.0</td>\n",
       "      <td>...</td>\n",
       "      <td>0.0</td>\n",
       "      <td>0.0</td>\n",
       "      <td>0.0</td>\n",
       "      <td>-815.0</td>\n",
       "      <td>0.0</td>\n",
       "      <td>0.0</td>\n",
       "      <td>0.0</td>\n",
       "      <td>0.0</td>\n",
       "      <td>0.0</td>\n",
       "      <td>0.0</td>\n",
       "    </tr>\n",
       "    <tr>\n",
       "      <th>3</th>\n",
       "      <td>100006</td>\n",
       "      <td>0</td>\n",
       "      <td>0</td>\n",
       "      <td>0</td>\n",
       "      <td>0</td>\n",
       "      <td>1</td>\n",
       "      <td>0</td>\n",
       "      <td>135000.0</td>\n",
       "      <td>312682.5</td>\n",
       "      <td>29686.5</td>\n",
       "      <td>...</td>\n",
       "      <td>0.0</td>\n",
       "      <td>2.0</td>\n",
       "      <td>0.0</td>\n",
       "      <td>-617.0</td>\n",
       "      <td>NaN</td>\n",
       "      <td>NaN</td>\n",
       "      <td>NaN</td>\n",
       "      <td>NaN</td>\n",
       "      <td>NaN</td>\n",
       "      <td>NaN</td>\n",
       "    </tr>\n",
       "    <tr>\n",
       "      <th>4</th>\n",
       "      <td>100007</td>\n",
       "      <td>0</td>\n",
       "      <td>0</td>\n",
       "      <td>1</td>\n",
       "      <td>0</td>\n",
       "      <td>1</td>\n",
       "      <td>0</td>\n",
       "      <td>121500.0</td>\n",
       "      <td>513000.0</td>\n",
       "      <td>21865.5</td>\n",
       "      <td>...</td>\n",
       "      <td>0.0</td>\n",
       "      <td>0.0</td>\n",
       "      <td>0.0</td>\n",
       "      <td>-1106.0</td>\n",
       "      <td>0.0</td>\n",
       "      <td>0.0</td>\n",
       "      <td>0.0</td>\n",
       "      <td>0.0</td>\n",
       "      <td>0.0</td>\n",
       "      <td>0.0</td>\n",
       "    </tr>\n",
       "  </tbody>\n",
       "</table>\n",
       "<p>5 rows × 52 columns</p>\n",
       "</div>"
      ],
      "text/plain": [
       "   SK_ID_CURR  TARGET  NAME_CONTRACT_TYPE  CODE_GENDER  FLAG_OWN_CAR  \\\n",
       "0      100002       1                   0            1             0   \n",
       "1      100003       0                   0            0             0   \n",
       "2      100004       0                   1            1             1   \n",
       "3      100006       0                   0            0             0   \n",
       "4      100007       0                   0            1             0   \n",
       "\n",
       "   FLAG_OWN_REALTY  CNT_CHILDREN  AMT_INCOME_TOTAL  AMT_CREDIT  AMT_ANNUITY  \\\n",
       "0                1             0          202500.0    406597.5      24700.5   \n",
       "1                0             0          270000.0   1293502.5      35698.5   \n",
       "2                1             0           67500.0    135000.0       6750.0   \n",
       "3                1             0          135000.0    312682.5      29686.5   \n",
       "4                1             0          121500.0    513000.0      21865.5   \n",
       "\n",
       "   ...  DEF_30_CNT_SOCIAL_CIRCLE  OBS_60_CNT_SOCIAL_CIRCLE  \\\n",
       "0  ...                       2.0                       2.0   \n",
       "1  ...                       0.0                       1.0   \n",
       "2  ...                       0.0                       0.0   \n",
       "3  ...                       0.0                       2.0   \n",
       "4  ...                       0.0                       0.0   \n",
       "\n",
       "   DEF_60_CNT_SOCIAL_CIRCLE  DAYS_LAST_PHONE_CHANGE  \\\n",
       "0                       2.0                 -1134.0   \n",
       "1                       0.0                  -828.0   \n",
       "2                       0.0                  -815.0   \n",
       "3                       0.0                  -617.0   \n",
       "4                       0.0                 -1106.0   \n",
       "\n",
       "   AMT_REQ_CREDIT_BUREAU_HOUR  AMT_REQ_CREDIT_BUREAU_DAY  \\\n",
       "0                         0.0                        0.0   \n",
       "1                         0.0                        0.0   \n",
       "2                         0.0                        0.0   \n",
       "3                         NaN                        NaN   \n",
       "4                         0.0                        0.0   \n",
       "\n",
       "   AMT_REQ_CREDIT_BUREAU_WEEK  AMT_REQ_CREDIT_BUREAU_MON  \\\n",
       "0                         0.0                        0.0   \n",
       "1                         0.0                        0.0   \n",
       "2                         0.0                        0.0   \n",
       "3                         NaN                        NaN   \n",
       "4                         0.0                        0.0   \n",
       "\n",
       "   AMT_REQ_CREDIT_BUREAU_QRT  AMT_REQ_CREDIT_BUREAU_YEAR  \n",
       "0                        0.0                         1.0  \n",
       "1                        0.0                         0.0  \n",
       "2                        0.0                         0.0  \n",
       "3                        NaN                         NaN  \n",
       "4                        0.0                         0.0  \n",
       "\n",
       "[5 rows x 52 columns]"
      ]
     },
     "execution_count": 4,
     "metadata": {},
     "output_type": "execute_result"
    }
   ],
   "source": [
    "# Encode the categorical columns\n",
    "encoder_dict = {} # Dictionary to store the feature encoders\n",
    "\n",
    "categorical_features = appl_train_dropped.select_dtypes('object')\n",
    "for x in categorical_features:\n",
    "    encoder_dict[x] = LabelEncoder()\n",
    "    appl_train_dropped[x] = encoder_dict[x].fit_transform(appl_train_dropped[x])\n",
    "appl_train_dropped.head()"
   ]
  },
  {
   "cell_type": "markdown",
   "metadata": {},
   "source": [
    "Next, fill the NA values with the most appropriate values and observe the distribution."
   ]
  },
  {
   "cell_type": "code",
   "execution_count": 5,
   "metadata": {},
   "outputs": [
    {
     "data": {
      "image/png": "[encoded data removed]",
      "text/plain": [
       "<Figure size 1080x576 with 16 Axes>"
      ]
     },
     "metadata": {
      "needs_background": "light"
     },
     "output_type": "display_data"
    }
   ],
   "source": [
    "# Define columns with NA to fill\n",
    "col_with_na = appl_train_dropped.isna().sum().sort_values(ascending=False).head(16).index\n",
    "\n",
    "# Test to fill NA values \n",
    "fill_na_dummy = appl_train_dropped.fillna({\n",
    "    'AMT_ANNUITY': appl_train_dropped['AMT_ANNUITY'].mean(),\n",
    "    'AMT_GOODS_PRICE': appl_train_dropped['AMT_GOODS_PRICE'].mean(),\n",
    "    'CNT_FAM_MEMBERS': 0,\n",
    "    'EXT_SOURCE_2': appl_train_dropped['EXT_SOURCE_2'].mean(),\n",
    "    'EXT_SOURCE_3': appl_train_dropped['EXT_SOURCE_3'].mean(),\n",
    "    'OBS_30_CNT_SOCIAL_CIRCLE': 0,\n",
    "    'DEF_30_CNT_SOCIAL_CIRCLE': 0,\n",
    "    'OBS_60_CNT_SOCIAL_CIRCLE': 0,\n",
    "    'DEF_60_CNT_SOCIAL_CIRCLE': 0,\n",
    "    'DAYS_LAST_PHONE_CHANGE': appl_train_dropped['DAYS_LAST_PHONE_CHANGE'].mean(),\n",
    "    'AMT_REQ_CREDIT_BUREAU_HOUR': appl_train_dropped['AMT_REQ_CREDIT_BUREAU_HOUR'].mean(),\n",
    "    'AMT_REQ_CREDIT_BUREAU_DAY': appl_train_dropped['AMT_REQ_CREDIT_BUREAU_DAY'].mean(),\n",
    "    'AMT_REQ_CREDIT_BUREAU_WEEK': appl_train_dropped['AMT_REQ_CREDIT_BUREAU_WEEK'].mean(),\n",
    "    'AMT_REQ_CREDIT_BUREAU_MON': appl_train_dropped['AMT_REQ_CREDIT_BUREAU_MON'].mean(),\n",
    "    'AMT_REQ_CREDIT_BUREAU_QRT': appl_train_dropped['AMT_REQ_CREDIT_BUREAU_QRT'].mean(),\n",
    "    'AMT_REQ_CREDIT_BUREAU_YEAR': appl_train_dropped['AMT_REQ_CREDIT_BUREAU_YEAR'].mean(),\n",
    "})\n",
    "\n",
    "# Check the distribution\n",
    "fig, ax = plt.subplots(4, 4, figsize=(15,8))\n",
    "i = 0\n",
    "for x in range(4):\n",
    "    for y in range(4):\n",
    "        ax[x][y].hist(fill_na_dummy[col_with_na[i]], bins=20)\n",
    "        ax[x][y].set_title(col_with_na[i])\n",
    "        ax[x][y].axis('off')\n",
    "        i += 1"
   ]
  },
  {
   "cell_type": "markdown",
   "metadata": {},
   "source": [
    "We can see that there are strange distribution in EXT_SOURCE_3 feature after we fill the NA values. So we'll fix the NA replacement value for the EXT_SOURCE_3 feature using random select from exsisting value rather than using the mean value."
   ]
  },
  {
   "cell_type": "code",
   "execution_count": 6,
   "metadata": {},
   "outputs": [
    {
     "data": {
      "text/plain": [
       "<AxesSubplot:ylabel='Frequency'>"
      ]
     },
     "execution_count": 6,
     "metadata": {},
     "output_type": "execute_result"
    },
    {
     "data": {
      "image/png": "[encoded data removed]",
      "text/plain": [
       "<Figure size 432x288 with 1 Axes>"
      ]
     },
     "metadata": {
      "needs_background": "light"
     },
     "output_type": "display_data"
    }
   ],
   "source": [
    "# Fill NA values \n",
    "appl_train_dropped = appl_train_dropped.fillna({\n",
    "    'AMT_ANNUITY': appl_train_dropped['AMT_ANNUITY'].mean(),\n",
    "    'AMT_GOODS_PRICE': appl_train_dropped['AMT_GOODS_PRICE'].mean(),\n",
    "    'CNT_FAM_MEMBERS': 0,\n",
    "    'EXT_SOURCE_2': appl_train_dropped['EXT_SOURCE_2'].mean(),\n",
    "    'OBS_30_CNT_SOCIAL_CIRCLE': 0,\n",
    "    'DEF_30_CNT_SOCIAL_CIRCLE': 0,\n",
    "    'OBS_60_CNT_SOCIAL_CIRCLE': 0,\n",
    "    'DEF_60_CNT_SOCIAL_CIRCLE': 0,\n",
    "    'DAYS_LAST_PHONE_CHANGE': appl_train_dropped['DAYS_LAST_PHONE_CHANGE'].mean(),\n",
    "    'AMT_REQ_CREDIT_BUREAU_HOUR': appl_train_dropped['AMT_REQ_CREDIT_BUREAU_HOUR'].mean(),\n",
    "    'AMT_REQ_CREDIT_BUREAU_DAY': appl_train_dropped['AMT_REQ_CREDIT_BUREAU_DAY'].mean(),\n",
    "    'AMT_REQ_CREDIT_BUREAU_WEEK': appl_train_dropped['AMT_REQ_CREDIT_BUREAU_WEEK'].mean(),\n",
    "    'AMT_REQ_CREDIT_BUREAU_MON': appl_train_dropped['AMT_REQ_CREDIT_BUREAU_MON'].mean(),\n",
    "    'AMT_REQ_CREDIT_BUREAU_QRT': appl_train_dropped['AMT_REQ_CREDIT_BUREAU_QRT'].mean(),\n",
    "    'AMT_REQ_CREDIT_BUREAU_YEAR': appl_train_dropped['AMT_REQ_CREDIT_BUREAU_YEAR'].mean(),\n",
    "})\n",
    "\n",
    "ext_source_3_values = appl_train_dropped['EXT_SOURCE_3'].dropna().values\n",
    "appl_train_dropped['EXT_SOURCE_3'] = appl_train_dropped['EXT_SOURCE_3'].apply(lambda x: x if str(x)!=\"nan\" else np.random.choice(ext_source_3_values))\n",
    "appl_train_dropped['EXT_SOURCE_3'].plot.hist(bins=40)"
   ]
  },
  {
   "cell_type": "markdown",
   "metadata": {},
   "source": [
    "## 2.2 Scale The Dataset"
   ]
  },
  {
   "cell_type": "markdown",
   "metadata": {},
   "source": [
    "We will scale the dataset using MinMaxScaler so we can use it in feature selection by chi2 (that require positive values)."
   ]
  },
  {
   "cell_type": "code",
   "execution_count": 7,
   "metadata": {},
   "outputs": [
    {
     "data": {
      "text/html": [
       "<div>\n",
       "<style scoped>\n",
       "    .dataframe tbody tr th:only-of-type {\n",
       "        vertical-align: middle;\n",
       "    }\n",
       "\n",
       "    .dataframe tbody tr th {\n",
       "        vertical-align: top;\n",
       "    }\n",
       "\n",
       "    .dataframe thead th {\n",
       "        text-align: right;\n",
       "    }\n",
       "</style>\n",
       "<table border=\"1\" class=\"dataframe\">\n",
       "  <thead>\n",
       "    <tr style=\"text-align: right;\">\n",
       "      <th></th>\n",
       "      <th>SK_ID_CURR</th>\n",
       "      <th>TARGET</th>\n",
       "      <th>NAME_CONTRACT_TYPE</th>\n",
       "      <th>CODE_GENDER</th>\n",
       "      <th>FLAG_OWN_CAR</th>\n",
       "      <th>FLAG_OWN_REALTY</th>\n",
       "      <th>CNT_CHILDREN</th>\n",
       "      <th>AMT_INCOME_TOTAL</th>\n",
       "      <th>AMT_CREDIT</th>\n",
       "      <th>AMT_ANNUITY</th>\n",
       "      <th>...</th>\n",
       "      <th>DEF_30_CNT_SOCIAL_CIRCLE</th>\n",
       "      <th>OBS_60_CNT_SOCIAL_CIRCLE</th>\n",
       "      <th>DEF_60_CNT_SOCIAL_CIRCLE</th>\n",
       "      <th>DAYS_LAST_PHONE_CHANGE</th>\n",
       "      <th>AMT_REQ_CREDIT_BUREAU_HOUR</th>\n",
       "      <th>AMT_REQ_CREDIT_BUREAU_DAY</th>\n",
       "      <th>AMT_REQ_CREDIT_BUREAU_WEEK</th>\n",
       "      <th>AMT_REQ_CREDIT_BUREAU_MON</th>\n",
       "      <th>AMT_REQ_CREDIT_BUREAU_QRT</th>\n",
       "      <th>AMT_REQ_CREDIT_BUREAU_YEAR</th>\n",
       "    </tr>\n",
       "  </thead>\n",
       "  <tbody>\n",
       "    <tr>\n",
       "      <th>0</th>\n",
       "      <td>0.000000</td>\n",
       "      <td>1.0</td>\n",
       "      <td>0.0</td>\n",
       "      <td>0.5</td>\n",
       "      <td>0.0</td>\n",
       "      <td>1.0</td>\n",
       "      <td>0.0</td>\n",
       "      <td>0.001512</td>\n",
       "      <td>0.090287</td>\n",
       "      <td>0.090032</td>\n",
       "      <td>...</td>\n",
       "      <td>0.058824</td>\n",
       "      <td>0.005814</td>\n",
       "      <td>0.083333</td>\n",
       "      <td>0.735788</td>\n",
       "      <td>0.000000</td>\n",
       "      <td>0.000000</td>\n",
       "      <td>0.000000</td>\n",
       "      <td>0.000000</td>\n",
       "      <td>0.000000</td>\n",
       "      <td>0.040000</td>\n",
       "    </tr>\n",
       "    <tr>\n",
       "      <th>1</th>\n",
       "      <td>0.000003</td>\n",
       "      <td>0.0</td>\n",
       "      <td>0.0</td>\n",
       "      <td>0.0</td>\n",
       "      <td>0.0</td>\n",
       "      <td>0.0</td>\n",
       "      <td>0.0</td>\n",
       "      <td>0.002089</td>\n",
       "      <td>0.311736</td>\n",
       "      <td>0.132924</td>\n",
       "      <td>...</td>\n",
       "      <td>0.000000</td>\n",
       "      <td>0.002907</td>\n",
       "      <td>0.000000</td>\n",
       "      <td>0.807083</td>\n",
       "      <td>0.000000</td>\n",
       "      <td>0.000000</td>\n",
       "      <td>0.000000</td>\n",
       "      <td>0.000000</td>\n",
       "      <td>0.000000</td>\n",
       "      <td>0.000000</td>\n",
       "    </tr>\n",
       "    <tr>\n",
       "      <th>2</th>\n",
       "      <td>0.000006</td>\n",
       "      <td>0.0</td>\n",
       "      <td>1.0</td>\n",
       "      <td>0.5</td>\n",
       "      <td>1.0</td>\n",
       "      <td>1.0</td>\n",
       "      <td>0.0</td>\n",
       "      <td>0.000358</td>\n",
       "      <td>0.022472</td>\n",
       "      <td>0.020025</td>\n",
       "      <td>...</td>\n",
       "      <td>0.000000</td>\n",
       "      <td>0.000000</td>\n",
       "      <td>0.000000</td>\n",
       "      <td>0.810112</td>\n",
       "      <td>0.000000</td>\n",
       "      <td>0.000000</td>\n",
       "      <td>0.000000</td>\n",
       "      <td>0.000000</td>\n",
       "      <td>0.000000</td>\n",
       "      <td>0.000000</td>\n",
       "    </tr>\n",
       "    <tr>\n",
       "      <th>3</th>\n",
       "      <td>0.000011</td>\n",
       "      <td>0.0</td>\n",
       "      <td>0.0</td>\n",
       "      <td>0.0</td>\n",
       "      <td>0.0</td>\n",
       "      <td>1.0</td>\n",
       "      <td>0.0</td>\n",
       "      <td>0.000935</td>\n",
       "      <td>0.066837</td>\n",
       "      <td>0.109477</td>\n",
       "      <td>...</td>\n",
       "      <td>0.000000</td>\n",
       "      <td>0.005814</td>\n",
       "      <td>0.000000</td>\n",
       "      <td>0.856244</td>\n",
       "      <td>0.001601</td>\n",
       "      <td>0.000778</td>\n",
       "      <td>0.004295</td>\n",
       "      <td>0.009904</td>\n",
       "      <td>0.001017</td>\n",
       "      <td>0.075999</td>\n",
       "    </tr>\n",
       "    <tr>\n",
       "      <th>4</th>\n",
       "      <td>0.000014</td>\n",
       "      <td>0.0</td>\n",
       "      <td>0.0</td>\n",
       "      <td>0.5</td>\n",
       "      <td>0.0</td>\n",
       "      <td>1.0</td>\n",
       "      <td>0.0</td>\n",
       "      <td>0.000819</td>\n",
       "      <td>0.116854</td>\n",
       "      <td>0.078975</td>\n",
       "      <td>...</td>\n",
       "      <td>0.000000</td>\n",
       "      <td>0.000000</td>\n",
       "      <td>0.000000</td>\n",
       "      <td>0.742311</td>\n",
       "      <td>0.000000</td>\n",
       "      <td>0.000000</td>\n",
       "      <td>0.000000</td>\n",
       "      <td>0.000000</td>\n",
       "      <td>0.000000</td>\n",
       "      <td>0.000000</td>\n",
       "    </tr>\n",
       "  </tbody>\n",
       "</table>\n",
       "<p>5 rows × 52 columns</p>\n",
       "</div>"
      ],
      "text/plain": [
       "   SK_ID_CURR  TARGET  NAME_CONTRACT_TYPE  CODE_GENDER  FLAG_OWN_CAR  \\\n",
       "0    0.000000     1.0                 0.0          0.5           0.0   \n",
       "1    0.000003     0.0                 0.0          0.0           0.0   \n",
       "2    0.000006     0.0                 1.0          0.5           1.0   \n",
       "3    0.000011     0.0                 0.0          0.0           0.0   \n",
       "4    0.000014     0.0                 0.0          0.5           0.0   \n",
       "\n",
       "   FLAG_OWN_REALTY  CNT_CHILDREN  AMT_INCOME_TOTAL  AMT_CREDIT  AMT_ANNUITY  \\\n",
       "0              1.0           0.0          0.001512    0.090287     0.090032   \n",
       "1              0.0           0.0          0.002089    0.311736     0.132924   \n",
       "2              1.0           0.0          0.000358    0.022472     0.020025   \n",
       "3              1.0           0.0          0.000935    0.066837     0.109477   \n",
       "4              1.0           0.0          0.000819    0.116854     0.078975   \n",
       "\n",
       "   ...  DEF_30_CNT_SOCIAL_CIRCLE  OBS_60_CNT_SOCIAL_CIRCLE  \\\n",
       "0  ...                  0.058824                  0.005814   \n",
       "1  ...                  0.000000                  0.002907   \n",
       "2  ...                  0.000000                  0.000000   \n",
       "3  ...                  0.000000                  0.005814   \n",
       "4  ...                  0.000000                  0.000000   \n",
       "\n",
       "   DEF_60_CNT_SOCIAL_CIRCLE  DAYS_LAST_PHONE_CHANGE  \\\n",
       "0                  0.083333                0.735788   \n",
       "1                  0.000000                0.807083   \n",
       "2                  0.000000                0.810112   \n",
       "3                  0.000000                0.856244   \n",
       "4                  0.000000                0.742311   \n",
       "\n",
       "   AMT_REQ_CREDIT_BUREAU_HOUR  AMT_REQ_CREDIT_BUREAU_DAY  \\\n",
       "0                    0.000000                   0.000000   \n",
       "1                    0.000000                   0.000000   \n",
       "2                    0.000000                   0.000000   \n",
       "3                    0.001601                   0.000778   \n",
       "4                    0.000000                   0.000000   \n",
       "\n",
       "   AMT_REQ_CREDIT_BUREAU_WEEK  AMT_REQ_CREDIT_BUREAU_MON  \\\n",
       "0                    0.000000                   0.000000   \n",
       "1                    0.000000                   0.000000   \n",
       "2                    0.000000                   0.000000   \n",
       "3                    0.004295                   0.009904   \n",
       "4                    0.000000                   0.000000   \n",
       "\n",
       "   AMT_REQ_CREDIT_BUREAU_QRT  AMT_REQ_CREDIT_BUREAU_YEAR  \n",
       "0                   0.000000                    0.040000  \n",
       "1                   0.000000                    0.000000  \n",
       "2                   0.000000                    0.000000  \n",
       "3                   0.001017                    0.075999  \n",
       "4                   0.000000                    0.000000  \n",
       "\n",
       "[5 rows x 52 columns]"
      ]
     },
     "execution_count": 7,
     "metadata": {},
     "output_type": "execute_result"
    }
   ],
   "source": [
    "# Scale using MinMaxScaler to use chi2 for feature selection using SelectKBest\n",
    "min_max_scaler_dict = {} # Dictionary to store the feature scalers\n",
    "\n",
    "appl_train_dropped_scaled = appl_train_dropped.copy()\n",
    "for x in appl_train_dropped_scaled.columns:\n",
    "    min_max_scaler_dict[x] = MinMaxScaler()\n",
    "    appl_train_dropped_scaled[x] = pd.DataFrame(\n",
    "        min_max_scaler_dict[x].fit_transform(appl_train_dropped[[x]]), \n",
    "        columns=[x])\n",
    "appl_train_dropped_scaled.head()"
   ]
  },
  {
   "cell_type": "markdown",
   "metadata": {},
   "source": [
    "## 2.3 Select Top 10 Features"
   ]
  },
  {
   "cell_type": "markdown",
   "metadata": {},
   "source": [
    "Next we will select top 10 features using SelectKBest with chi2 scoring function."
   ]
  },
  {
   "cell_type": "code",
   "execution_count": 8,
   "metadata": {},
   "outputs": [
    {
     "data": {
      "text/html": [
       "<div>\n",
       "<style scoped>\n",
       "    .dataframe tbody tr th:only-of-type {\n",
       "        vertical-align: middle;\n",
       "    }\n",
       "\n",
       "    .dataframe tbody tr th {\n",
       "        vertical-align: top;\n",
       "    }\n",
       "\n",
       "    .dataframe thead th {\n",
       "        text-align: right;\n",
       "    }\n",
       "</style>\n",
       "<table border=\"1\" class=\"dataframe\">\n",
       "  <thead>\n",
       "    <tr style=\"text-align: right;\">\n",
       "      <th></th>\n",
       "      <th>TARGET</th>\n",
       "      <th>NAME_CONTRACT_TYPE</th>\n",
       "      <th>CODE_GENDER</th>\n",
       "      <th>DAYS_BIRTH</th>\n",
       "      <th>DAYS_EMPLOYED</th>\n",
       "      <th>FLAG_WORK_PHONE</th>\n",
       "      <th>REG_CITY_NOT_LIVE_CITY</th>\n",
       "      <th>REG_CITY_NOT_WORK_CITY</th>\n",
       "      <th>LIVE_CITY_NOT_WORK_CITY</th>\n",
       "      <th>EXT_SOURCE_2</th>\n",
       "      <th>EXT_SOURCE_3</th>\n",
       "    </tr>\n",
       "  </thead>\n",
       "  <tbody>\n",
       "    <tr>\n",
       "      <th>0</th>\n",
       "      <td>1.0</td>\n",
       "      <td>0.0</td>\n",
       "      <td>0.5</td>\n",
       "      <td>0.888839</td>\n",
       "      <td>0.045086</td>\n",
       "      <td>0.0</td>\n",
       "      <td>0.0</td>\n",
       "      <td>0.0</td>\n",
       "      <td>0.0</td>\n",
       "      <td>0.307542</td>\n",
       "      <td>0.155054</td>\n",
       "    </tr>\n",
       "    <tr>\n",
       "      <th>1</th>\n",
       "      <td>0.0</td>\n",
       "      <td>0.0</td>\n",
       "      <td>0.0</td>\n",
       "      <td>0.477114</td>\n",
       "      <td>0.043648</td>\n",
       "      <td>0.0</td>\n",
       "      <td>0.0</td>\n",
       "      <td>0.0</td>\n",
       "      <td>0.0</td>\n",
       "      <td>0.727773</td>\n",
       "      <td>0.638935</td>\n",
       "    </tr>\n",
       "    <tr>\n",
       "      <th>2</th>\n",
       "      <td>0.0</td>\n",
       "      <td>1.0</td>\n",
       "      <td>0.5</td>\n",
       "      <td>0.348534</td>\n",
       "      <td>0.046161</td>\n",
       "      <td>1.0</td>\n",
       "      <td>0.0</td>\n",
       "      <td>0.0</td>\n",
       "      <td>0.0</td>\n",
       "      <td>0.650190</td>\n",
       "      <td>0.814130</td>\n",
       "    </tr>\n",
       "    <tr>\n",
       "      <th>3</th>\n",
       "      <td>0.0</td>\n",
       "      <td>0.0</td>\n",
       "      <td>0.0</td>\n",
       "      <td>0.350846</td>\n",
       "      <td>0.038817</td>\n",
       "      <td>0.0</td>\n",
       "      <td>0.0</td>\n",
       "      <td>0.0</td>\n",
       "      <td>0.0</td>\n",
       "      <td>0.760751</td>\n",
       "      <td>0.476983</td>\n",
       "    </tr>\n",
       "    <tr>\n",
       "      <th>4</th>\n",
       "      <td>0.0</td>\n",
       "      <td>0.0</td>\n",
       "      <td>0.5</td>\n",
       "      <td>0.298591</td>\n",
       "      <td>0.038820</td>\n",
       "      <td>0.0</td>\n",
       "      <td>0.0</td>\n",
       "      <td>1.0</td>\n",
       "      <td>1.0</td>\n",
       "      <td>0.377472</td>\n",
       "      <td>0.634989</td>\n",
       "    </tr>\n",
       "  </tbody>\n",
       "</table>\n",
       "</div>"
      ],
      "text/plain": [
       "   TARGET  NAME_CONTRACT_TYPE  CODE_GENDER  DAYS_BIRTH  DAYS_EMPLOYED  \\\n",
       "0     1.0                 0.0          0.5    0.888839       0.045086   \n",
       "1     0.0                 0.0          0.0    0.477114       0.043648   \n",
       "2     0.0                 1.0          0.5    0.348534       0.046161   \n",
       "3     0.0                 0.0          0.0    0.350846       0.038817   \n",
       "4     0.0                 0.0          0.5    0.298591       0.038820   \n",
       "\n",
       "   FLAG_WORK_PHONE  REG_CITY_NOT_LIVE_CITY  REG_CITY_NOT_WORK_CITY  \\\n",
       "0              0.0                     0.0                     0.0   \n",
       "1              0.0                     0.0                     0.0   \n",
       "2              1.0                     0.0                     0.0   \n",
       "3              0.0                     0.0                     0.0   \n",
       "4              0.0                     0.0                     1.0   \n",
       "\n",
       "   LIVE_CITY_NOT_WORK_CITY  EXT_SOURCE_2  EXT_SOURCE_3  \n",
       "0                      0.0      0.307542      0.155054  \n",
       "1                      0.0      0.727773      0.638935  \n",
       "2                      0.0      0.650190      0.814130  \n",
       "3                      0.0      0.760751      0.476983  \n",
       "4                      1.0      0.377472      0.634989  "
      ]
     },
     "execution_count": 8,
     "metadata": {},
     "output_type": "execute_result"
    }
   ],
   "source": [
    "# Select best 20 features using chi2 score function and k=21 since the target is included in the X\n",
    "feature_selector = SelectKBest(chi2, k=11)\n",
    "appl_train_top_10 = pd.DataFrame(\n",
    "    feature_selector.fit_transform(appl_train_dropped_scaled, appl_train_dropped_scaled['TARGET']))\n",
    "appl_train_top_10.columns = appl_train_dropped.columns[feature_selector.get_support()]\n",
    "appl_train_top_10.head()"
   ]
  },
  {
   "cell_type": "code",
   "execution_count": 9,
   "metadata": {},
   "outputs": [
    {
     "data": {
      "text/html": [
       "<div>\n",
       "<style scoped>\n",
       "    .dataframe tbody tr th:only-of-type {\n",
       "        vertical-align: middle;\n",
       "    }\n",
       "\n",
       "    .dataframe tbody tr th {\n",
       "        vertical-align: top;\n",
       "    }\n",
       "\n",
       "    .dataframe thead th {\n",
       "        text-align: right;\n",
       "    }\n",
       "</style>\n",
       "<table border=\"1\" class=\"dataframe\">\n",
       "  <thead>\n",
       "    <tr style=\"text-align: right;\">\n",
       "      <th></th>\n",
       "      <th>TARGET</th>\n",
       "      <th>NAME_CONTRACT_TYPE</th>\n",
       "      <th>CODE_GENDER</th>\n",
       "      <th>DAYS_BIRTH</th>\n",
       "      <th>DAYS_EMPLOYED</th>\n",
       "      <th>FLAG_WORK_PHONE</th>\n",
       "      <th>REG_CITY_NOT_LIVE_CITY</th>\n",
       "      <th>REG_CITY_NOT_WORK_CITY</th>\n",
       "      <th>LIVE_CITY_NOT_WORK_CITY</th>\n",
       "      <th>EXT_SOURCE_2</th>\n",
       "      <th>EXT_SOURCE_3</th>\n",
       "    </tr>\n",
       "  </thead>\n",
       "  <tbody>\n",
       "    <tr>\n",
       "      <th>TARGET</th>\n",
       "      <td>1.000000</td>\n",
       "      <td>-0.030896</td>\n",
       "      <td>0.054692</td>\n",
       "      <td>0.078239</td>\n",
       "      <td>-0.044932</td>\n",
       "      <td>0.028524</td>\n",
       "      <td>0.044395</td>\n",
       "      <td>0.050994</td>\n",
       "      <td>0.032518</td>\n",
       "      <td>-0.160303</td>\n",
       "      <td>-0.140724</td>\n",
       "    </tr>\n",
       "    <tr>\n",
       "      <th>NAME_CONTRACT_TYPE</th>\n",
       "      <td>-0.030896</td>\n",
       "      <td>1.000000</td>\n",
       "      <td>-0.008613</td>\n",
       "      <td>0.086364</td>\n",
       "      <td>-0.054450</td>\n",
       "      <td>-0.033647</td>\n",
       "      <td>0.013586</td>\n",
       "      <td>0.004487</td>\n",
       "      <td>-0.004999</td>\n",
       "      <td>0.015947</td>\n",
       "      <td>-0.004956</td>\n",
       "    </tr>\n",
       "    <tr>\n",
       "      <th>CODE_GENDER</th>\n",
       "      <td>0.054692</td>\n",
       "      <td>-0.008613</td>\n",
       "      <td>1.000000</td>\n",
       "      <td>0.148080</td>\n",
       "      <td>-0.156018</td>\n",
       "      <td>0.034030</td>\n",
       "      <td>0.048237</td>\n",
       "      <td>0.137541</td>\n",
       "      <td>0.133239</td>\n",
       "      <td>-0.014587</td>\n",
       "      <td>-0.017357</td>\n",
       "    </tr>\n",
       "    <tr>\n",
       "      <th>DAYS_BIRTH</th>\n",
       "      <td>0.078239</td>\n",
       "      <td>0.086364</td>\n",
       "      <td>0.148080</td>\n",
       "      <td>1.000000</td>\n",
       "      <td>-0.615864</td>\n",
       "      <td>0.172457</td>\n",
       "      <td>0.180382</td>\n",
       "      <td>0.242401</td>\n",
       "      <td>0.158882</td>\n",
       "      <td>-0.091885</td>\n",
       "      <td>-0.162128</td>\n",
       "    </tr>\n",
       "    <tr>\n",
       "      <th>DAYS_EMPLOYED</th>\n",
       "      <td>-0.044932</td>\n",
       "      <td>-0.054450</td>\n",
       "      <td>-0.156018</td>\n",
       "      <td>-0.615864</td>\n",
       "      <td>1.000000</td>\n",
       "      <td>-0.233972</td>\n",
       "      <td>-0.090516</td>\n",
       "      <td>-0.254559</td>\n",
       "      <td>-0.218101</td>\n",
       "      <td>-0.020739</td>\n",
       "      <td>0.089758</td>\n",
       "    </tr>\n",
       "    <tr>\n",
       "      <th>FLAG_WORK_PHONE</th>\n",
       "      <td>0.028524</td>\n",
       "      <td>-0.033647</td>\n",
       "      <td>0.034030</td>\n",
       "      <td>0.172457</td>\n",
       "      <td>-0.233972</td>\n",
       "      <td>1.000000</td>\n",
       "      <td>0.045948</td>\n",
       "      <td>0.121000</td>\n",
       "      <td>0.109890</td>\n",
       "      <td>-0.018823</td>\n",
       "      <td>-0.051024</td>\n",
       "    </tr>\n",
       "    <tr>\n",
       "      <th>REG_CITY_NOT_LIVE_CITY</th>\n",
       "      <td>0.044395</td>\n",
       "      <td>0.013586</td>\n",
       "      <td>0.048237</td>\n",
       "      <td>0.180382</td>\n",
       "      <td>-0.090516</td>\n",
       "      <td>0.045948</td>\n",
       "      <td>1.000000</td>\n",
       "      <td>0.440409</td>\n",
       "      <td>0.028112</td>\n",
       "      <td>-0.043220</td>\n",
       "      <td>-0.062012</td>\n",
       "    </tr>\n",
       "    <tr>\n",
       "      <th>REG_CITY_NOT_WORK_CITY</th>\n",
       "      <td>0.050994</td>\n",
       "      <td>0.004487</td>\n",
       "      <td>0.137541</td>\n",
       "      <td>0.242401</td>\n",
       "      <td>-0.254559</td>\n",
       "      <td>0.121000</td>\n",
       "      <td>0.440409</td>\n",
       "      <td>1.000000</td>\n",
       "      <td>0.825575</td>\n",
       "      <td>-0.075887</td>\n",
       "      <td>-0.064178</td>\n",
       "    </tr>\n",
       "    <tr>\n",
       "      <th>LIVE_CITY_NOT_WORK_CITY</th>\n",
       "      <td>0.032518</td>\n",
       "      <td>-0.004999</td>\n",
       "      <td>0.133239</td>\n",
       "      <td>0.158882</td>\n",
       "      <td>-0.218101</td>\n",
       "      <td>0.109890</td>\n",
       "      <td>0.028112</td>\n",
       "      <td>0.825575</td>\n",
       "      <td>1.000000</td>\n",
       "      <td>-0.058835</td>\n",
       "      <td>-0.036073</td>\n",
       "    </tr>\n",
       "    <tr>\n",
       "      <th>EXT_SOURCE_2</th>\n",
       "      <td>-0.160303</td>\n",
       "      <td>0.015947</td>\n",
       "      <td>-0.014587</td>\n",
       "      <td>-0.091885</td>\n",
       "      <td>-0.020739</td>\n",
       "      <td>-0.018823</td>\n",
       "      <td>-0.043220</td>\n",
       "      <td>-0.075887</td>\n",
       "      <td>-0.058835</td>\n",
       "      <td>1.000000</td>\n",
       "      <td>0.085443</td>\n",
       "    </tr>\n",
       "    <tr>\n",
       "      <th>EXT_SOURCE_3</th>\n",
       "      <td>-0.140724</td>\n",
       "      <td>-0.004956</td>\n",
       "      <td>-0.017357</td>\n",
       "      <td>-0.162128</td>\n",
       "      <td>0.089758</td>\n",
       "      <td>-0.051024</td>\n",
       "      <td>-0.062012</td>\n",
       "      <td>-0.064178</td>\n",
       "      <td>-0.036073</td>\n",
       "      <td>0.085443</td>\n",
       "      <td>1.000000</td>\n",
       "    </tr>\n",
       "  </tbody>\n",
       "</table>\n",
       "</div>"
      ],
      "text/plain": [
       "                           TARGET  NAME_CONTRACT_TYPE  CODE_GENDER  \\\n",
       "TARGET                   1.000000           -0.030896     0.054692   \n",
       "NAME_CONTRACT_TYPE      -0.030896            1.000000    -0.008613   \n",
       "CODE_GENDER              0.054692           -0.008613     1.000000   \n",
       "DAYS_BIRTH               0.078239            0.086364     0.148080   \n",
       "DAYS_EMPLOYED           -0.044932           -0.054450    -0.156018   \n",
       "FLAG_WORK_PHONE          0.028524           -0.033647     0.034030   \n",
       "REG_CITY_NOT_LIVE_CITY   0.044395            0.013586     0.048237   \n",
       "REG_CITY_NOT_WORK_CITY   0.050994            0.004487     0.137541   \n",
       "LIVE_CITY_NOT_WORK_CITY  0.032518           -0.004999     0.133239   \n",
       "EXT_SOURCE_2            -0.160303            0.015947    -0.014587   \n",
       "EXT_SOURCE_3            -0.140724           -0.004956    -0.017357   \n",
       "\n",
       "                         DAYS_BIRTH  DAYS_EMPLOYED  FLAG_WORK_PHONE  \\\n",
       "TARGET                     0.078239      -0.044932         0.028524   \n",
       "NAME_CONTRACT_TYPE         0.086364      -0.054450        -0.033647   \n",
       "CODE_GENDER                0.148080      -0.156018         0.034030   \n",
       "DAYS_BIRTH                 1.000000      -0.615864         0.172457   \n",
       "DAYS_EMPLOYED             -0.615864       1.000000        -0.233972   \n",
       "FLAG_WORK_PHONE            0.172457      -0.233972         1.000000   \n",
       "REG_CITY_NOT_LIVE_CITY     0.180382      -0.090516         0.045948   \n",
       "REG_CITY_NOT_WORK_CITY     0.242401      -0.254559         0.121000   \n",
       "LIVE_CITY_NOT_WORK_CITY    0.158882      -0.218101         0.109890   \n",
       "EXT_SOURCE_2              -0.091885      -0.020739        -0.018823   \n",
       "EXT_SOURCE_3              -0.162128       0.089758        -0.051024   \n",
       "\n",
       "                         REG_CITY_NOT_LIVE_CITY  REG_CITY_NOT_WORK_CITY  \\\n",
       "TARGET                                 0.044395                0.050994   \n",
       "NAME_CONTRACT_TYPE                     0.013586                0.004487   \n",
       "CODE_GENDER                            0.048237                0.137541   \n",
       "DAYS_BIRTH                             0.180382                0.242401   \n",
       "DAYS_EMPLOYED                         -0.090516               -0.254559   \n",
       "FLAG_WORK_PHONE                        0.045948                0.121000   \n",
       "REG_CITY_NOT_LIVE_CITY                 1.000000                0.440409   \n",
       "REG_CITY_NOT_WORK_CITY                 0.440409                1.000000   \n",
       "LIVE_CITY_NOT_WORK_CITY                0.028112                0.825575   \n",
       "EXT_SOURCE_2                          -0.043220               -0.075887   \n",
       "EXT_SOURCE_3                          -0.062012               -0.064178   \n",
       "\n",
       "                         LIVE_CITY_NOT_WORK_CITY  EXT_SOURCE_2  EXT_SOURCE_3  \n",
       "TARGET                                  0.032518     -0.160303     -0.140724  \n",
       "NAME_CONTRACT_TYPE                     -0.004999      0.015947     -0.004956  \n",
       "CODE_GENDER                             0.133239     -0.014587     -0.017357  \n",
       "DAYS_BIRTH                              0.158882     -0.091885     -0.162128  \n",
       "DAYS_EMPLOYED                          -0.218101     -0.020739      0.089758  \n",
       "FLAG_WORK_PHONE                         0.109890     -0.018823     -0.051024  \n",
       "REG_CITY_NOT_LIVE_CITY                  0.028112     -0.043220     -0.062012  \n",
       "REG_CITY_NOT_WORK_CITY                  0.825575     -0.075887     -0.064178  \n",
       "LIVE_CITY_NOT_WORK_CITY                 1.000000     -0.058835     -0.036073  \n",
       "EXT_SOURCE_2                           -0.058835      1.000000      0.085443  \n",
       "EXT_SOURCE_3                           -0.036073      0.085443      1.000000  "
      ]
     },
     "execution_count": 9,
     "metadata": {},
     "output_type": "execute_result"
    }
   ],
   "source": [
    "appl_train_top_10.corr()"
   ]
  },
  {
   "cell_type": "markdown",
   "metadata": {
    "collapsed": false,
    "pycharm": {
     "name": "#%% md\n"
    }
   },
   "source": [
    "# 3. Data Visualization and Business Insight"
   ]
  },
  {
   "cell_type": "markdown",
   "metadata": {},
   "source": [
    "## 3.1 Graphs"
   ]
  },
  {
   "cell_type": "markdown",
   "metadata": {},
   "source": [
    "### 3.1.1 Categorical Feature Plots"
   ]
  },
  {
   "cell_type": "code",
   "execution_count": 10,
   "metadata": {},
   "outputs": [],
   "source": [
    "feature_selector_vis = SelectKBest(chi2, k=21)\n",
    "appl_train_top_20 = pd.DataFrame(\n",
    "    feature_selector_vis.fit_transform(appl_train_dropped_scaled, appl_train_dropped_scaled['TARGET']))\n",
    "appl_train_top_20.columns = appl_train_dropped.columns[feature_selector_vis.get_support()]"
   ]
  },
  {
   "cell_type": "code",
   "execution_count": 11,
   "metadata": {},
   "outputs": [
    {
     "data": {
      "image/png": "[encoded data removed]",
      "text/plain": [
       "<Figure size 1080x1440 with 15 Axes>"
      ]
     },
     "metadata": {
      "needs_background": "light"
     },
     "output_type": "display_data"
    }
   ],
   "source": [
    "# Inverse data to it's original values\n",
    "data_to_visualize = appl_train_top_20.copy()\n",
    "for c in appl_train_top_20.columns:\n",
    "    data_to_visualize[c] = min_max_scaler_dict[c].inverse_transform(appl_train_top_20[[c]])\n",
    "for c in np.intersect1d(list(appl_train_top_20.columns), list(categorical_features)):\n",
    "    data_to_visualize[c] = encoder_dict[c].inverse_transform(data_to_visualize[c].astype(int))\n",
    "\n",
    "# Define the category list\n",
    "col_to_visualize = appl_train_top_20.columns[1:]\n",
    "categorical_features_complete = ['NAME_CONTRACT_TYPE', 'CODE_GENDER', 'FLAG_OWN_CAR', 'NAME_INCOME_TYPE', 'NAME_EDUCATION_TYPE', \n",
    "'FLAG_EMP_PHONE', 'FLAG_WORK_PHONE', 'FLAG_PHONE', 'REGION_RATING_CLIENT', 'REGION_RATING_CLIENT_W_CITY', \n",
    "'REG_CITY_NOT_LIVE_CITY', 'REG_CITY_NOT_WORK_CITY', 'LIVE_CITY_NOT_WORK_CITY']\n",
    "# note: I didnt include 'ORGANIZATION_TYPE' because there are so much categories\n",
    "\n",
    "# For loop to plots\n",
    "fig, ax = plt.subplots(5, 3, figsize=(15,20))\n",
    "i = 0\n",
    "for row in range(5):\n",
    "    for col in range(3):\n",
    "        if i > 19:\n",
    "            break\n",
    "        while col_to_visualize[i] not in categorical_features_complete and i < 19:\n",
    "            i += 1\n",
    "        if col_to_visualize[i] in categorical_features_complete:\n",
    "            temp_pd = pd.concat([\n",
    "                data_to_visualize[data_to_visualize['TARGET'] ==0][col_to_visualize[i]].value_counts(),\n",
    "                data_to_visualize[data_to_visualize['TARGET'] ==1][col_to_visualize[i]].value_counts()],\n",
    "                axis=1,).fillna(0)\n",
    "            temp_pd.columns = ['Without payment difficulties', 'With payment difficulties']\n",
    "            X_axis = np.arange(len(temp_pd.index))\n",
    "            ax[row][col].barh(X_axis - 0.2, temp_pd['Without payment difficulties'], 0.4, label = 'Without payment difficulties')\n",
    "            ax[row][col].barh(X_axis + 0.2, temp_pd['With payment difficulties'], 0.4, label = 'With payment difficulties')\n",
    "            ax[row][col].set_yticks(X_axis, temp_pd.index, ha='right')\n",
    "            ax[row][col].invert_yaxis()\n",
    "            ax[row][col].legend()\n",
    "            ax[row][col].set_title(col_to_visualize[i])\n",
    "        i += 1\n"
   ]
  },
  {
   "cell_type": "code",
   "execution_count": 12,
   "metadata": {},
   "outputs": [
    {
     "data": {
      "image/png": "[encoded data removed]",
      "text/plain": [
       "<Figure size 576x1080 with 1 Axes>"
      ]
     },
     "metadata": {
      "needs_background": "light"
     },
     "output_type": "display_data"
    }
   ],
   "source": [
    "# PLot the Organization type\n",
    "org_type_df = pd.concat([\n",
    "    appl_train_top_20[appl_train_top_20['TARGET'] ==0]['ORGANIZATION_TYPE'].value_counts(),\n",
    "    appl_train_top_20[appl_train_top_20['TARGET'] ==1]['ORGANIZATION_TYPE'].value_counts()],\n",
    "    axis=1,\n",
    "    ).fillna(0)\n",
    "org_type_df.columns = ['Without payment difficulties', 'With payment difficulties']\n",
    "org_type_df.index = encoder_dict['ORGANIZATION_TYPE'].inverse_transform(\n",
    "    min_max_scaler_dict['ORGANIZATION_TYPE'].inverse_transform([org_type_df.index]).squeeze().astype(int))\n",
    "\n",
    "wo_pd = org_type_df['Without payment difficulties']\n",
    "w_pd = org_type_df['With payment difficulties']\n",
    "  \n",
    "X_axis = np.arange(len(org_type_df.index))\n",
    "\n",
    "plt.figure(figsize=(8, 15))\n",
    "plt.barh(X_axis - 0.2, wo_pd, 0.4, label = 'Without payment difficulties')\n",
    "plt.barh(X_axis + 0.2, w_pd, 0.4, label = 'With payment difficulties')\n",
    "plt.yticks(X_axis, org_type_df.index, ha='right')\n",
    "plt.gca().invert_yaxis()\n",
    "plt.title('ORGANIZATION_TYPE')\n",
    "plt.legend()\n",
    "plt.show()"
   ]
  },
  {
   "cell_type": "markdown",
   "metadata": {},
   "source": [
    "### 3.1.2 Numerical Feature Distribution Plots"
   ]
  },
  {
   "cell_type": "code",
   "execution_count": 13,
   "metadata": {},
   "outputs": [
    {
     "data": {
      "image/png": "[encoded data removed]",
      "text/plain": [
       "<Figure size 1080x432 with 6 Axes>"
      ]
     },
     "metadata": {
      "needs_background": "light"
     },
     "output_type": "display_data"
    },
    {
     "data": {
      "image/png": "[encoded data removed]",
      "text/plain": [
       "<Figure size 1080x432 with 6 Axes>"
      ]
     },
     "metadata": {
      "needs_background": "light"
     },
     "output_type": "display_data"
    }
   ],
   "source": [
    "for idx, target in enumerate(['Without payment difficulties', 'With payment difficulties']):\n",
    "    i = 0\n",
    "    fig, ax = plt.subplots(2, 3, figsize=(15,6))\n",
    "    plt.subplots_adjust(hspace=0.4)\n",
    "    fig.suptitle(target)\n",
    "    for row in range(2):\n",
    "        for col in range(3):\n",
    "            if i > 19:\n",
    "                break\n",
    "            while col_to_visualize[i] in categorical_features_complete+['ORGANIZATION_TYPE']:\n",
    "                i += 1 \n",
    "            if True:\n",
    "                hist_1 = data_to_visualize[data_to_visualize['TARGET']==idx][col_to_visualize[i]]\n",
    "                color = 'tab:orange' if idx==1 else 'tab:blue'\n",
    "                ax[row][col].hist(data_to_visualize[data_to_visualize['TARGET']==idx][col_to_visualize[i]], color=color)\n",
    "                ax[row][col].set_title(col_to_visualize[i])\n",
    "            i += 1"
   ]
  },
  {
   "cell_type": "markdown",
   "metadata": {},
   "source": [
    "### 3.1.3 Additional Graphs for Visualization Purpose"
   ]
  },
  {
   "cell_type": "code",
   "execution_count": 224,
   "metadata": {},
   "outputs": [
    {
     "data": {
      "image/png": "[encoded data removed]",
      "text/plain": [
       "<Figure size 432x288 with 1 Axes>"
      ]
     },
     "metadata": {},
     "output_type": "display_data"
    }
   ],
   "source": [
    "zzz = data_to_visualize[['TARGET', 'DAYS_BIRTH']].groupby('TARGET').count()\n",
    "plt.figure(figsize=(6, 4))\n",
    "plt.pie(zzz.values.ravel() / sum(zzz.values.ravel()), autopct=\"%1.2f%%\", colors=['lightblue', 'yellow'], labels=['No difficulties', 'With payment difficulties'])\n",
    "plt.show()"
   ]
  },
  {
   "cell_type": "code",
   "execution_count": 227,
   "metadata": {},
   "outputs": [
    {
     "data": {
      "image/png": "[encoded data removed]",
      "text/plain": [
       "<Figure size 432x288 with 1 Axes>"
      ]
     },
     "metadata": {
      "needs_background": "light"
     },
     "output_type": "display_data"
    },
    {
     "data": {
      "text/html": [
       "<div>\n",
       "<style scoped>\n",
       "    .dataframe tbody tr th:only-of-type {\n",
       "        vertical-align: middle;\n",
       "    }\n",
       "\n",
       "    .dataframe tbody tr th {\n",
       "        vertical-align: top;\n",
       "    }\n",
       "\n",
       "    .dataframe thead th {\n",
       "        text-align: right;\n",
       "    }\n",
       "</style>\n",
       "<table border=\"1\" class=\"dataframe\">\n",
       "  <thead>\n",
       "    <tr style=\"text-align: right;\">\n",
       "      <th></th>\n",
       "      <th>Without payment difficulties</th>\n",
       "      <th>With payment difficulties</th>\n",
       "    </tr>\n",
       "  </thead>\n",
       "  <tbody>\n",
       "    <tr>\n",
       "      <th>Working</th>\n",
       "      <td>143550</td>\n",
       "      <td>15224</td>\n",
       "    </tr>\n",
       "    <tr>\n",
       "      <th>Commercial associate</th>\n",
       "      <td>66257</td>\n",
       "      <td>5360</td>\n",
       "    </tr>\n",
       "    <tr>\n",
       "      <th>Pensioner</th>\n",
       "      <td>52380</td>\n",
       "      <td>2982</td>\n",
       "    </tr>\n",
       "    <tr>\n",
       "      <th>State servant</th>\n",
       "      <td>20454</td>\n",
       "      <td>1249</td>\n",
       "    </tr>\n",
       "    <tr>\n",
       "      <th>Student</th>\n",
       "      <td>18</td>\n",
       "      <td>0</td>\n",
       "    </tr>\n",
       "    <tr>\n",
       "      <th>Unemployed</th>\n",
       "      <td>14</td>\n",
       "      <td>8</td>\n",
       "    </tr>\n",
       "    <tr>\n",
       "      <th>Businessman</th>\n",
       "      <td>10</td>\n",
       "      <td>0</td>\n",
       "    </tr>\n",
       "    <tr>\n",
       "      <th>Maternity leave</th>\n",
       "      <td>3</td>\n",
       "      <td>2</td>\n",
       "    </tr>\n",
       "  </tbody>\n",
       "</table>\n",
       "</div>"
      ],
      "text/plain": [
       "                      Without payment difficulties  With payment difficulties\n",
       "Working                                     143550                      15224\n",
       "Commercial associate                         66257                       5360\n",
       "Pensioner                                    52380                       2982\n",
       "State servant                                20454                       1249\n",
       "Student                                         18                          0\n",
       "Unemployed                                      14                          8\n",
       "Businessman                                     10                          0\n",
       "Maternity leave                                  3                          2"
      ]
     },
     "execution_count": 227,
     "metadata": {},
     "output_type": "execute_result"
    }
   ],
   "source": [
    "plt.figure(figsize=(6,4))\n",
    "temp_pd_zz = pd.concat([\n",
    "    data_to_visualize[data_to_visualize['TARGET'] ==0]['NAME_INCOME_TYPE'].value_counts(),\n",
    "    data_to_visualize[data_to_visualize['TARGET'] ==1]['NAME_INCOME_TYPE'].value_counts()],\n",
    "    axis=1,).fillna(0).astype(int)\n",
    "temp_pd_zz.columns = ['Without payment difficulties', 'With payment difficulties']\n",
    "X_axis_zz = np.arange(len(temp_pd_zz.index))\n",
    "plt.barh(X_axis_zz - 0.2, temp_pd_zz['Without payment difficulties'], 0.4, label = 'Without payment difficulties')\n",
    "plt.barh(X_axis_zz + 0.2, temp_pd_zz['With payment difficulties'], 0.4, label = 'With payment difficulties')\n",
    "plt.yticks(X_axis_zz, temp_pd_zz.index, ha='right')\n",
    "plt.gca().invert_yaxis()\n",
    "plt.legend()\n",
    "plt.title(' INCOME TYPE')\n",
    "plt.show()\n",
    "temp_pd_zz"
   ]
  },
  {
   "cell_type": "code",
   "execution_count": 286,
   "metadata": {},
   "outputs": [
    {
     "data": {
      "image/png": "[encoded data removed]",
      "text/plain": [
       "<Figure size 648x288 with 1 Axes>"
      ]
     },
     "metadata": {
      "needs_background": "light"
     },
     "output_type": "display_data"
    },
    {
     "name": "stdout",
     "output_type": "stream",
     "text": [
      "99.9 Percentile: 900000.0\n"
     ]
    },
    {
     "data": {
      "text/html": [
       "<div>\n",
       "<style scoped>\n",
       "    .dataframe tbody tr th:only-of-type {\n",
       "        vertical-align: middle;\n",
       "    }\n",
       "\n",
       "    .dataframe tbody tr th {\n",
       "        vertical-align: top;\n",
       "    }\n",
       "\n",
       "    .dataframe thead th {\n",
       "        text-align: right;\n",
       "    }\n",
       "</style>\n",
       "<table border=\"1\" class=\"dataframe\">\n",
       "  <thead>\n",
       "    <tr style=\"text-align: right;\">\n",
       "      <th></th>\n",
       "      <th>0</th>\n",
       "      <th>1</th>\n",
       "    </tr>\n",
       "  </thead>\n",
       "  <tbody>\n",
       "    <tr>\n",
       "      <th>0</th>\n",
       "      <td>4517</td>\n",
       "      <td>0</td>\n",
       "    </tr>\n",
       "    <tr>\n",
       "      <th>1</th>\n",
       "      <td>59181</td>\n",
       "      <td>50000</td>\n",
       "    </tr>\n",
       "    <tr>\n",
       "      <th>2</th>\n",
       "      <td>91591</td>\n",
       "      <td>100000</td>\n",
       "    </tr>\n",
       "    <tr>\n",
       "      <th>3</th>\n",
       "      <td>64307</td>\n",
       "      <td>150000</td>\n",
       "    </tr>\n",
       "    <tr>\n",
       "      <th>4</th>\n",
       "      <td>48137</td>\n",
       "      <td>200000</td>\n",
       "    </tr>\n",
       "    <tr>\n",
       "      <th>5</th>\n",
       "      <td>17039</td>\n",
       "      <td>250000</td>\n",
       "    </tr>\n",
       "    <tr>\n",
       "      <th>6</th>\n",
       "      <td>8874</td>\n",
       "      <td>300000</td>\n",
       "    </tr>\n",
       "    <tr>\n",
       "      <th>7</th>\n",
       "      <td>5802</td>\n",
       "      <td>350000</td>\n",
       "    </tr>\n",
       "    <tr>\n",
       "      <th>8</th>\n",
       "      <td>2489</td>\n",
       "      <td>400000</td>\n",
       "    </tr>\n",
       "    <tr>\n",
       "      <th>9</th>\n",
       "      <td>2872</td>\n",
       "      <td>450000</td>\n",
       "    </tr>\n",
       "    <tr>\n",
       "      <th>10</th>\n",
       "      <td>835</td>\n",
       "      <td>500000</td>\n",
       "    </tr>\n",
       "    <tr>\n",
       "      <th>11</th>\n",
       "      <td>260</td>\n",
       "      <td>550000</td>\n",
       "    </tr>\n",
       "    <tr>\n",
       "      <th>12</th>\n",
       "      <td>171</td>\n",
       "      <td>600000</td>\n",
       "    </tr>\n",
       "    <tr>\n",
       "      <th>13</th>\n",
       "      <td>698</td>\n",
       "      <td>650000</td>\n",
       "    </tr>\n",
       "    <tr>\n",
       "      <th>14</th>\n",
       "      <td>94</td>\n",
       "      <td>700000</td>\n",
       "    </tr>\n",
       "    <tr>\n",
       "      <th>15</th>\n",
       "      <td>68</td>\n",
       "      <td>750000</td>\n",
       "    </tr>\n",
       "    <tr>\n",
       "      <th>16</th>\n",
       "      <td>98</td>\n",
       "      <td>800000</td>\n",
       "    </tr>\n",
       "    <tr>\n",
       "      <th>17</th>\n",
       "      <td>26</td>\n",
       "      <td>850000</td>\n",
       "    </tr>\n",
       "    <tr>\n",
       "      <th>18</th>\n",
       "      <td>0</td>\n",
       "      <td>900000</td>\n",
       "    </tr>\n",
       "    <tr>\n",
       "      <th>19</th>\n",
       "      <td>0</td>\n",
       "      <td>950000</td>\n",
       "    </tr>\n",
       "    <tr>\n",
       "      <th>20</th>\n",
       "      <td>0</td>\n",
       "      <td>1000000</td>\n",
       "    </tr>\n",
       "  </tbody>\n",
       "</table>\n",
       "</div>"
      ],
      "text/plain": [
       "        0        1\n",
       "0    4517        0\n",
       "1   59181    50000\n",
       "2   91591   100000\n",
       "3   64307   150000\n",
       "4   48137   200000\n",
       "5   17039   250000\n",
       "6    8874   300000\n",
       "7    5802   350000\n",
       "8    2489   400000\n",
       "9    2872   450000\n",
       "10    835   500000\n",
       "11    260   550000\n",
       "12    171   600000\n",
       "13    698   650000\n",
       "14     94   700000\n",
       "15     68   750000\n",
       "16     98   800000\n",
       "17     26   850000\n",
       "18      0   900000\n",
       "19      0   950000\n",
       "20      0  1000000"
      ]
     },
     "execution_count": 286,
     "metadata": {},
     "output_type": "execute_result"
    }
   ],
   "source": [
    "plt.figure(figsize=(9, 4))\n",
    "\n",
    "zzz = appl_train[['AMT_INCOME_TOTAL']][appl_train['AMT_INCOME_TOTAL']<np.percentile(appl_train['AMT_INCOME_TOTAL'], 99.9)]\n",
    "plt.hist(appl_train[['AMT_INCOME_TOTAL']][appl_train['AMT_INCOME_TOTAL']<np.percentile(appl_train['AMT_INCOME_TOTAL'], 99.9)], range=(0, 1000000), bins=20)\n",
    "X_axis_zz = np.arange(0, 1000000, 100000)\n",
    "plt.xticks(X_axis_zz)\n",
    "plt.ticklabel_format(style='plain')\n",
    "plt.title(\"INCOME DISTRIBUTION\")\n",
    "plt.show()\n",
    "appl_train[['AMT_INCOME_TOTAL', 'SK_ID_CURR']].set_index('SK_ID_CURR').sort_values('AMT_INCOME_TOTAL', ascending=False).head(10)\n",
    "print(f\"99.9 Percentile: {np.percentile(appl_train['AMT_INCOME_TOTAL'], 99.9)}\")\n",
    "pd.DataFrame(np.histogram(appl_train[['AMT_INCOME_TOTAL']][appl_train['AMT_INCOME_TOTAL']<np.percentile(appl_train['AMT_INCOME_TOTAL'], 99.9)], range=(0, 1000000), bins=20)).transpose().fillna(0).astype(int)"
   ]
  },
  {
   "cell_type": "code",
   "execution_count": 311,
   "metadata": {},
   "outputs": [
    {
     "data": {
      "image/png": "[encoded data removed]",
      "text/plain": [
       "<Figure size 432x288 with 1 Axes>"
      ]
     },
     "metadata": {
      "needs_background": "light"
     },
     "output_type": "display_data"
    },
    {
     "data": {
      "text/html": [
       "<div>\n",
       "<style scoped>\n",
       "    .dataframe tbody tr th:only-of-type {\n",
       "        vertical-align: middle;\n",
       "    }\n",
       "\n",
       "    .dataframe tbody tr th {\n",
       "        vertical-align: top;\n",
       "    }\n",
       "\n",
       "    .dataframe thead th {\n",
       "        text-align: right;\n",
       "    }\n",
       "</style>\n",
       "<table border=\"1\" class=\"dataframe\">\n",
       "  <thead>\n",
       "    <tr style=\"text-align: right;\">\n",
       "      <th></th>\n",
       "      <th>Without payment difficulties</th>\n",
       "      <th>With payment difficulties</th>\n",
       "    </tr>\n",
       "  </thead>\n",
       "  <tbody>\n",
       "    <tr>\n",
       "      <th>Cash loans</th>\n",
       "      <td>255011</td>\n",
       "      <td>23221</td>\n",
       "    </tr>\n",
       "    <tr>\n",
       "      <th>Revolving loans</th>\n",
       "      <td>27675</td>\n",
       "      <td>1604</td>\n",
       "    </tr>\n",
       "  </tbody>\n",
       "</table>\n",
       "</div>"
      ],
      "text/plain": [
       "                 Without payment difficulties  With payment difficulties\n",
       "Cash loans                             255011                      23221\n",
       "Revolving loans                         27675                       1604"
      ]
     },
     "execution_count": 311,
     "metadata": {},
     "output_type": "execute_result"
    }
   ],
   "source": [
    "plt.figure(figsize=(6,4))\n",
    "temp_pd_zz = pd.concat([\n",
    "    data_to_visualize[data_to_visualize['TARGET'] ==0]['NAME_CONTRACT_TYPE'].value_counts(),\n",
    "    data_to_visualize[data_to_visualize['TARGET'] ==1]['NAME_CONTRACT_TYPE'].value_counts()],\n",
    "    axis=1,).fillna(0).astype(int)\n",
    "temp_pd_zz.columns = ['Without payment difficulties', 'With payment difficulties']\n",
    "X_axis_zz = np.arange(len(temp_pd_zz.index))\n",
    "plt.barh(X_axis_zz - 0.2, temp_pd_zz['Without payment difficulties'], 0.4, label = 'Without payment difficulties')\n",
    "plt.barh(X_axis_zz + 0.2, temp_pd_zz['With payment difficulties'], 0.4, label = 'With payment difficulties')\n",
    "plt.yticks(X_axis_zz, temp_pd_zz.index, ha='right')\n",
    "plt.gca().invert_yaxis()\n",
    "plt.legend()\n",
    "plt.title('LOAN TYPE')\n",
    "plt.show()\n",
    "temp_pd_zz"
   ]
  },
  {
   "cell_type": "markdown",
   "metadata": {},
   "source": [
    "## 3.2 Analysis and Insight"
   ]
  },
  {
   "cell_type": "markdown",
   "metadata": {},
   "source": [
    "### 3.2.1 Customer Region With City Rating"
   ]
  },
  {
   "cell_type": "markdown",
   "metadata": {},
   "source": [
    "From the categorical feature graphs above, there are one particular feature that interesting, it is REGION_RATING_CLIENT_W_CITY.\n",
    "We can see that the the category 2 lead the customer base, followed far behind by category 3 and 1 with minor difference between those two.\n",
    "\n",
    "Let's calculate the total percentage of each category:"
   ]
  },
  {
   "cell_type": "code",
   "execution_count": 14,
   "metadata": {},
   "outputs": [
    {
     "name": "stdout",
     "output_type": "stream",
     "text": [
      "Customer count percentage:\n",
      "1: 11.11 %\n",
      "2: 74.63 %\n",
      "3: 14.26 %\n",
      "Total loan amount percentage:\n",
      "1: 14.06 %\n",
      "2: 72.47 %\n",
      "3: 13.47 %\n"
     ]
    }
   ],
   "source": [
    "# Total customer count\n",
    "rrcwc = appl_train[['REGION_RATING_CLIENT_W_CITY', 'SK_ID_CURR']].groupby('REGION_RATING_CLIENT_W_CITY').count()\n",
    "print(\"Customer count percentage:\")\n",
    "for i in rrcwc.index: print(f\"{i}: {round(rrcwc.loc[i]/rrcwc.sum() * 100, 2).values[0]} %\")\n",
    "# Total loan sum\n",
    "p = appl_train[['REGION_RATING_CLIENT_W_CITY', 'AMT_CREDIT']].groupby('REGION_RATING_CLIENT_W_CITY').sum()\\\n",
    "    .apply(lambda x: '%.5f' % x, axis=1).astype(float)\n",
    "print(\"Total loan amount percentage:\")\n",
    "for i in p.index: print(f\"{i}: {round(p.loc[i]/p.sum() * 100, 2)} %\")"
   ]
  },
  {
   "cell_type": "code",
   "execution_count": 307,
   "metadata": {},
   "outputs": [
    {
     "data": {
      "text/html": [
       "<div>\n",
       "<style scoped>\n",
       "    .dataframe tbody tr th:only-of-type {\n",
       "        vertical-align: middle;\n",
       "    }\n",
       "\n",
       "    .dataframe tbody tr th {\n",
       "        vertical-align: top;\n",
       "    }\n",
       "\n",
       "    .dataframe thead th {\n",
       "        text-align: right;\n",
       "    }\n",
       "</style>\n",
       "<table border=\"1\" class=\"dataframe\">\n",
       "  <thead>\n",
       "    <tr style=\"text-align: right;\">\n",
       "      <th></th>\n",
       "      <th>RATIO</th>\n",
       "    </tr>\n",
       "    <tr>\n",
       "      <th>REGION_RATING_CLIENT_W_CITY</th>\n",
       "      <th></th>\n",
       "    </tr>\n",
       "  </thead>\n",
       "  <tbody>\n",
       "    <tr>\n",
       "      <th>1</th>\n",
       "      <td>758160.943015</td>\n",
       "    </tr>\n",
       "    <tr>\n",
       "      <th>2</th>\n",
       "      <td>581714.265753</td>\n",
       "    </tr>\n",
       "    <tr>\n",
       "      <th>3</th>\n",
       "      <td>565638.000308</td>\n",
       "    </tr>\n",
       "  </tbody>\n",
       "</table>\n",
       "</div>"
      ],
      "text/plain": [
       "                                     RATIO\n",
       "REGION_RATING_CLIENT_W_CITY               \n",
       "1                            758160.943015\n",
       "2                            581714.265753\n",
       "3                            565638.000308"
      ]
     },
     "execution_count": 307,
     "metadata": {},
     "output_type": "execute_result"
    }
   ],
   "source": [
    "zzz1 = appl_train[['REGION_RATING_CLIENT_W_CITY','SK_ID_CURR']].groupby('REGION_RATING_CLIENT_W_CITY').count()\n",
    "zzz2 = appl_train[['REGION_RATING_CLIENT_W_CITY','AMT_CREDIT']].groupby('REGION_RATING_CLIENT_W_CITY').sum()\n",
    "zzz3 = pd.concat([zzz1, zzz2], axis=1)\n",
    "zzz3['RATIO'] = zzz3['AMT_CREDIT'] / zzz3['SK_ID_CURR']\n",
    "zzz3[['RATIO']]"
   ]
  },
  {
   "cell_type": "markdown",
   "metadata": {},
   "source": [
    "From the analysis above, we can see that while category 2 leads the total customer count, the loan per customer rate is led by category 1 more than category 2.\n",
    "\n",
    "**I suggest that Home Credit Indonesia can expand their marketing in region with city rating category 1 so the company can achieve more total sum of customer loans with fewer customer count.**"
   ]
  },
  {
   "cell_type": "markdown",
   "metadata": {},
   "source": [
    "Additional calculation:"
   ]
  },
  {
   "cell_type": "markdown",
   "metadata": {},
   "source": [
    "### 3.2.2 Loan Types"
   ]
  },
  {
   "cell_type": "markdown",
   "metadata": {},
   "source": [
    "Besides the RRCWC feature, there are one more feature that is interesting. From the contract type graph in the categorical graphs above, we can see that while the revolving loan have smaller customer base, it has small failed loan repayment count. Let's see the percentage as follow:"
   ]
  },
  {
   "cell_type": "code",
   "execution_count": 15,
   "metadata": {},
   "outputs": [
    {
     "name": "stdout",
     "output_type": "stream",
     "text": [
      "without payment difficulty percentage:\n",
      "Cash loans: 91.65 %\n",
      "Revolving loans: 94.52 %\n",
      "Total loan amount percentage:\n",
      "Cash loans: 94.85 %\n",
      "Revolving loans: 5.15 %\n"
     ]
    }
   ],
   "source": [
    "nct = appl_train[['TARGET', 'NAME_CONTRACT_TYPE', 'SK_ID_CURR']].groupby(['NAME_CONTRACT_TYPE', 'TARGET']).count()\n",
    "print('without payment difficulty percentage:')\n",
    "print(f\"Cash loans: {round((nct.loc['Cash loans'].loc[0] / (nct.loc['Cash loans'].sum())) * 100, 2)[0]} %\")\n",
    "print(f\"Revolving loans: {round((nct.loc['Revolving loans'].loc[0] / (nct.loc['Revolving loans'].sum())) * 100, 2)[0]} %\")\n",
    "# Total loan sum\n",
    "nct2 = appl_train[['NAME_CONTRACT_TYPE', 'AMT_CREDIT']].groupby('NAME_CONTRACT_TYPE').sum()\\\n",
    "    .apply(lambda x: '%.5f' % x, axis=1).astype(float)\n",
    "print(\"Total loan amount percentage:\")\n",
    "for i in nct2.index: print(f\"{i}: {round(nct2.loc[i]/nct2.sum() * 100, 2)} %\")"
   ]
  },
  {
   "cell_type": "markdown",
   "metadata": {},
   "source": [
    "From the analysis above, we can say that revolving loans have very high probability to successfully paid by customer with the success rate of 94.52%, that's very close to 95%. Even so, we can see that revolving loan share a much smaller total loan amount. It's 5.15% compared to 94.85% of by cash loans. There are huge gaps between the two.\n",
    "\n",
    "**I suggest that Home Credit Indonesia can market the revolving loans more intensively so the we can increase the total amount share of revolving loans and close the gaps between the two. We also have a chance to decrease our customer's failure of repayment**"
   ]
  },
  {
   "cell_type": "markdown",
   "metadata": {
    "collapsed": false,
    "pycharm": {
     "name": "#%% md\n"
    }
   },
   "source": [
    "# 4. Machine Learning Implementation and Evaluation"
   ]
  },
  {
   "cell_type": "markdown",
   "metadata": {},
   "source": [
    "## 4.1 Preparation"
   ]
  },
  {
   "cell_type": "markdown",
   "metadata": {},
   "source": [
    "We'll use this code to ignore warnings from sklearn"
   ]
  },
  {
   "cell_type": "code",
   "execution_count": 16,
   "metadata": {},
   "outputs": [],
   "source": [
    "def warn(*args, **kwargs):\n",
    "    pass\n",
    "import warnings\n",
    "warnings.warn = warn"
   ]
  },
  {
   "cell_type": "markdown",
   "metadata": {},
   "source": [
    "Here, we're importing the needed module/libraries and the dataset."
   ]
  },
  {
   "cell_type": "code",
   "execution_count": 41,
   "metadata": {},
   "outputs": [],
   "source": [
    "from sklearn.linear_model import LogisticRegression\n",
    "from sklearn.svm import SVC\n",
    "from sklearn.ensemble import RandomForestClassifier, GradientBoostingClassifier\n",
    "from sklearn.neural_network import MLPClassifier\n",
    "from sklearn.model_selection import GridSearchCV\n",
    "from imblearn.under_sampling import RandomUnderSampler\n",
    "\n",
    "# Load data\n",
    "tr_features = appl_train_top_10.drop('TARGET', axis=1).copy().astype(float)\n",
    "tr_labels = appl_train_top_10[['TARGET']].copy().astype(float)"
   ]
  },
  {
   "cell_type": "markdown",
   "metadata": {},
   "source": [
    "Since we have very imbalance dataset, we can either upsampling the minority class or downsampling the majority class. Considering the limited compute power, we'll downsampling the majority class (TARGET=0) to match the amount of minority class data. We'll do the downsampling using RandomUnderSampler from sklearn. "
   ]
  },
  {
   "cell_type": "code",
   "execution_count": 23,
   "metadata": {},
   "outputs": [
    {
     "data": {
      "text/html": [
       "<div>\n",
       "<style scoped>\n",
       "    .dataframe tbody tr th:only-of-type {\n",
       "        vertical-align: middle;\n",
       "    }\n",
       "\n",
       "    .dataframe tbody tr th {\n",
       "        vertical-align: top;\n",
       "    }\n",
       "\n",
       "    .dataframe thead th {\n",
       "        text-align: right;\n",
       "    }\n",
       "</style>\n",
       "<table border=\"1\" class=\"dataframe\">\n",
       "  <thead>\n",
       "    <tr style=\"text-align: right;\">\n",
       "      <th></th>\n",
       "      <th>NAME_CONTRACT_TYPE</th>\n",
       "      <th>CODE_GENDER</th>\n",
       "      <th>DAYS_BIRTH</th>\n",
       "      <th>DAYS_EMPLOYED</th>\n",
       "      <th>FLAG_WORK_PHONE</th>\n",
       "      <th>REG_CITY_NOT_LIVE_CITY</th>\n",
       "      <th>REG_CITY_NOT_WORK_CITY</th>\n",
       "      <th>LIVE_CITY_NOT_WORK_CITY</th>\n",
       "      <th>EXT_SOURCE_2</th>\n",
       "      <th>EXT_SOURCE_3</th>\n",
       "    </tr>\n",
       "    <tr>\n",
       "      <th>TARGET</th>\n",
       "      <th></th>\n",
       "      <th></th>\n",
       "      <th></th>\n",
       "      <th></th>\n",
       "      <th></th>\n",
       "      <th></th>\n",
       "      <th></th>\n",
       "      <th></th>\n",
       "      <th></th>\n",
       "      <th></th>\n",
       "    </tr>\n",
       "  </thead>\n",
       "  <tbody>\n",
       "    <tr>\n",
       "      <th>0.0</th>\n",
       "      <td>24825</td>\n",
       "      <td>24825</td>\n",
       "      <td>24825</td>\n",
       "      <td>24825</td>\n",
       "      <td>24825</td>\n",
       "      <td>24825</td>\n",
       "      <td>24825</td>\n",
       "      <td>24825</td>\n",
       "      <td>24825</td>\n",
       "      <td>24825</td>\n",
       "    </tr>\n",
       "    <tr>\n",
       "      <th>1.0</th>\n",
       "      <td>24825</td>\n",
       "      <td>24825</td>\n",
       "      <td>24825</td>\n",
       "      <td>24825</td>\n",
       "      <td>24825</td>\n",
       "      <td>24825</td>\n",
       "      <td>24825</td>\n",
       "      <td>24825</td>\n",
       "      <td>24825</td>\n",
       "      <td>24825</td>\n",
       "    </tr>\n",
       "  </tbody>\n",
       "</table>\n",
       "</div>"
      ],
      "text/plain": [
       "        NAME_CONTRACT_TYPE  CODE_GENDER  DAYS_BIRTH  DAYS_EMPLOYED  \\\n",
       "TARGET                                                               \n",
       "0.0                  24825        24825       24825          24825   \n",
       "1.0                  24825        24825       24825          24825   \n",
       "\n",
       "        FLAG_WORK_PHONE  REG_CITY_NOT_LIVE_CITY  REG_CITY_NOT_WORK_CITY  \\\n",
       "TARGET                                                                    \n",
       "0.0               24825                   24825                   24825   \n",
       "1.0               24825                   24825                   24825   \n",
       "\n",
       "        LIVE_CITY_NOT_WORK_CITY  EXT_SOURCE_2  EXT_SOURCE_3  \n",
       "TARGET                                                       \n",
       "0.0                       24825         24825         24825  \n",
       "1.0                       24825         24825         24825  "
      ]
     },
     "execution_count": 23,
     "metadata": {},
     "output_type": "execute_result"
    }
   ],
   "source": [
    "rus = RandomUnderSampler(random_state=20)\n",
    "tr_features_resample, tr_labels_resample = rus.fit_resample(tr_features, tr_labels)\n",
    "pd.concat([tr_features_resample, tr_labels_resample], axis=1).groupby('TARGET').count()"
   ]
  },
  {
   "cell_type": "markdown",
   "metadata": {},
   "source": [
    "## 4.2 Training"
   ]
  },
  {
   "cell_type": "markdown",
   "metadata": {},
   "source": [
    "For the training, we choose 5 classifier algorithms to test which one is the best by observing the f1 score and ROC AUC score. The 5 algorithms including:\n",
    "- Logistic Regression\n",
    "- Support Vector Machine\n",
    "- Random Forest\n",
    "- Gradient Boosting\n",
    "- Multi Layer Perceptron\n",
    "\n",
    "Below is the training and hyperparameter tuning using GridSearchCV for all the models."
   ]
  },
  {
   "cell_type": "code",
   "execution_count": 24,
   "metadata": {},
   "outputs": [],
   "source": [
    "def print_results(results: GridSearchCV):\n",
    "\n",
    "    means = results.cv_results_['mean_test_score']\n",
    "    stds = results.cv_results_['std_test_score']\n",
    "    for mean, std, params in zip(means, stds, results.cv_results_['params']):\n",
    "        print('{} (+/-{}) for {}'.format(round(mean, 3), round(std * 2, 3), params))\n",
    "    print('BEST PARAMS: {}\\n'.format(results.best_params_))"
   ]
  },
  {
   "cell_type": "markdown",
   "metadata": {},
   "source": [
    "### 4.2.1 Logistic Regression"
   ]
  },
  {
   "cell_type": "code",
   "execution_count": 31,
   "metadata": {},
   "outputs": [
    {
     "name": "stdout",
     "output_type": "stream",
     "text": [
      "Fitting 3 folds for each of 9 candidates, totalling 27 fits\n",
      "[CV 1/3] END ...........................C=0.001;, score=0.649 total time=   0.0s\n",
      "[CV 2/3] END ...........................C=0.001;, score=0.648 total time=   0.0s\n",
      "[CV 3/3] END ...........................C=0.001;, score=0.656 total time=   0.0s\n",
      "[CV 1/3] END ...........................C=0.005;, score=0.657 total time=   0.0s\n",
      "[CV 2/3] END ...........................C=0.005;, score=0.654 total time=   0.0s\n",
      "[CV 3/3] END ...........................C=0.005;, score=0.660 total time=   0.0s\n",
      "[CV 1/3] END ............................C=0.01;, score=0.657 total time=   0.0s\n",
      "[CV 2/3] END ............................C=0.01;, score=0.655 total time=   0.0s\n",
      "[CV 3/3] END ............................C=0.01;, score=0.660 total time=   0.0s\n",
      "[CV 1/3] END ............................C=0.05;, score=0.658 total time=   0.0s\n",
      "[CV 2/3] END ............................C=0.05;, score=0.653 total time=   0.0s\n",
      "[CV 3/3] END ............................C=0.05;, score=0.660 total time=   0.0s\n",
      "[CV 1/3] END .............................C=0.1;, score=0.658 total time=   0.0s\n",
      "[CV 2/3] END .............................C=0.1;, score=0.654 total time=   0.0s\n",
      "[CV 3/3] END .............................C=0.1;, score=0.660 total time=   0.0s\n",
      "[CV 1/3] END ...............................C=1;, score=0.658 total time=   0.0s\n",
      "[CV 2/3] END ...............................C=1;, score=0.654 total time=   0.0s\n",
      "[CV 3/3] END ...............................C=1;, score=0.660 total time=   0.0s\n",
      "[CV 1/3] END ..............................C=10;, score=0.658 total time=   0.0s\n",
      "[CV 2/3] END ..............................C=10;, score=0.654 total time=   0.0s\n",
      "[CV 3/3] END ..............................C=10;, score=0.660 total time=   0.0s\n",
      "[CV 1/3] END .............................C=100;, score=0.658 total time=   0.0s\n",
      "[CV 2/3] END .............................C=100;, score=0.654 total time=   0.0s\n",
      "[CV 3/3] END .............................C=100;, score=0.660 total time=   0.0s\n",
      "[CV 1/3] END ............................C=1000;, score=0.658 total time=   0.0s\n",
      "[CV 2/3] END ............................C=1000;, score=0.654 total time=   0.0s\n",
      "[CV 3/3] END ............................C=1000;, score=0.660 total time=   0.0s\n"
     ]
    },
    {
     "data": {
      "text/html": [
       "<style>#sk-container-id-2 {color: black;background-color: white;}#sk-container-id-2 pre{padding: 0;}#sk-container-id-2 div.sk-toggleable {background-color: white;}#sk-container-id-2 label.sk-toggleable__label {cursor: pointer;display: block;width: 100%;margin-bottom: 0;padding: 0.3em;box-sizing: border-box;text-align: center;}#sk-container-id-2 label.sk-toggleable__label-arrow:before {content: \"▸\";float: left;margin-right: 0.25em;color: #696969;}#sk-container-id-2 label.sk-toggleable__label-arrow:hover:before {color: black;}#sk-container-id-2 div.sk-estimator:hover label.sk-toggleable__label-arrow:before {color: black;}#sk-container-id-2 div.sk-toggleable__content {max-height: 0;max-width: 0;overflow: hidden;text-align: left;background-color: #f0f8ff;}#sk-container-id-2 div.sk-toggleable__content pre {margin: 0.2em;color: black;border-radius: 0.25em;background-color: #f0f8ff;}#sk-container-id-2 input.sk-toggleable__control:checked~div.sk-toggleable__content {max-height: 200px;max-width: 100%;overflow: auto;}#sk-container-id-2 input.sk-toggleable__control:checked~label.sk-toggleable__label-arrow:before {content: \"▾\";}#sk-container-id-2 div.sk-estimator input.sk-toggleable__control:checked~label.sk-toggleable__label {background-color: #d4ebff;}#sk-container-id-2 div.sk-label input.sk-toggleable__control:checked~label.sk-toggleable__label {background-color: #d4ebff;}#sk-container-id-2 input.sk-hidden--visually {border: 0;clip: rect(1px 1px 1px 1px);clip: rect(1px, 1px, 1px, 1px);height: 1px;margin: -1px;overflow: hidden;padding: 0;position: absolute;width: 1px;}#sk-container-id-2 div.sk-estimator {font-family: monospace;background-color: #f0f8ff;border: 1px dotted black;border-radius: 0.25em;box-sizing: border-box;margin-bottom: 0.5em;}#sk-container-id-2 div.sk-estimator:hover {background-color: #d4ebff;}#sk-container-id-2 div.sk-parallel-item::after {content: \"\";width: 100%;border-bottom: 1px solid gray;flex-grow: 1;}#sk-container-id-2 div.sk-label:hover label.sk-toggleable__label {background-color: #d4ebff;}#sk-container-id-2 div.sk-serial::before {content: \"\";position: absolute;border-left: 1px solid gray;box-sizing: border-box;top: 0;bottom: 0;left: 50%;z-index: 0;}#sk-container-id-2 div.sk-serial {display: flex;flex-direction: column;align-items: center;background-color: white;padding-right: 0.2em;padding-left: 0.2em;position: relative;}#sk-container-id-2 div.sk-item {position: relative;z-index: 1;}#sk-container-id-2 div.sk-parallel {display: flex;align-items: stretch;justify-content: center;background-color: white;position: relative;}#sk-container-id-2 div.sk-item::before, #sk-container-id-2 div.sk-parallel-item::before {content: \"\";position: absolute;border-left: 1px solid gray;box-sizing: border-box;top: 0;bottom: 0;left: 50%;z-index: -1;}#sk-container-id-2 div.sk-parallel-item {display: flex;flex-direction: column;z-index: 1;position: relative;background-color: white;}#sk-container-id-2 div.sk-parallel-item:first-child::after {align-self: flex-end;width: 50%;}#sk-container-id-2 div.sk-parallel-item:last-child::after {align-self: flex-start;width: 50%;}#sk-container-id-2 div.sk-parallel-item:only-child::after {width: 0;}#sk-container-id-2 div.sk-dashed-wrapped {border: 1px dashed gray;margin: 0 0.4em 0.5em 0.4em;box-sizing: border-box;padding-bottom: 0.4em;background-color: white;}#sk-container-id-2 div.sk-label label {font-family: monospace;font-weight: bold;display: inline-block;line-height: 1.2em;}#sk-container-id-2 div.sk-label-container {text-align: center;}#sk-container-id-2 div.sk-container {/* jupyter's `normalize.less` sets `[hidden] { display: none; }` but bootstrap.min.css set `[hidden] { display: none !important; }` so we also need the `!important` here to be able to override the default hidden behavior on the sphinx rendered scikit-learn.org. See: https://github.com/scikit-learn/scikit-learn/issues/21755 */display: inline-block !important;position: relative;}#sk-container-id-2 div.sk-text-repr-fallback {display: none;}</style><div id=\"sk-container-id-2\" class=\"sk-top-container\"><div class=\"sk-text-repr-fallback\"><pre>GridSearchCV(cv=3, estimator=LogisticRegression(),\n",
       "             param_grid={&#x27;C&#x27;: [0.001, 0.005, 0.01, 0.05, 0.1, 1, 10, 100,\n",
       "                               1000]},\n",
       "             verbose=3)</pre><b>In a Jupyter environment, please rerun this cell to show the HTML representation or trust the notebook. <br />On GitHub, the HTML representation is unable to render, please try loading this page with nbviewer.org.</b></div><div class=\"sk-container\" hidden><div class=\"sk-item sk-dashed-wrapped\"><div class=\"sk-label-container\"><div class=\"sk-label sk-toggleable\"><input class=\"sk-toggleable__control sk-hidden--visually\" id=\"sk-estimator-id-4\" type=\"checkbox\" ><label for=\"sk-estimator-id-4\" class=\"sk-toggleable__label sk-toggleable__label-arrow\">GridSearchCV</label><div class=\"sk-toggleable__content\"><pre>GridSearchCV(cv=3, estimator=LogisticRegression(),\n",
       "             param_grid={&#x27;C&#x27;: [0.001, 0.005, 0.01, 0.05, 0.1, 1, 10, 100,\n",
       "                               1000]},\n",
       "             verbose=3)</pre></div></div></div><div class=\"sk-parallel\"><div class=\"sk-parallel-item\"><div class=\"sk-item\"><div class=\"sk-label-container\"><div class=\"sk-label sk-toggleable\"><input class=\"sk-toggleable__control sk-hidden--visually\" id=\"sk-estimator-id-5\" type=\"checkbox\" ><label for=\"sk-estimator-id-5\" class=\"sk-toggleable__label sk-toggleable__label-arrow\">estimator: LogisticRegression</label><div class=\"sk-toggleable__content\"><pre>LogisticRegression()</pre></div></div></div><div class=\"sk-serial\"><div class=\"sk-item\"><div class=\"sk-estimator sk-toggleable\"><input class=\"sk-toggleable__control sk-hidden--visually\" id=\"sk-estimator-id-6\" type=\"checkbox\" ><label for=\"sk-estimator-id-6\" class=\"sk-toggleable__label sk-toggleable__label-arrow\">LogisticRegression</label><div class=\"sk-toggleable__content\"><pre>LogisticRegression()</pre></div></div></div></div></div></div></div></div></div></div>"
      ],
      "text/plain": [
       "GridSearchCV(cv=3, estimator=LogisticRegression(),\n",
       "             param_grid={'C': [0.001, 0.005, 0.01, 0.05, 0.1, 1, 10, 100,\n",
       "                               1000]},\n",
       "             verbose=3)"
      ]
     },
     "execution_count": 31,
     "metadata": {},
     "output_type": "execute_result"
    }
   ],
   "source": [
    "lr = LogisticRegression()\n",
    "lr_params = {\n",
    "    'C': [0.001, 0.005, 0.01, 0.05, 0.1, 1, 10, 100, 1000]\n",
    "}\n",
    "lr_cv = GridSearchCV(lr, lr_params, cv=3, verbose=3)\n",
    "lr_cv.fit(tr_features_resample, tr_labels_resample.values)"
   ]
  },
  {
   "cell_type": "code",
   "execution_count": 32,
   "metadata": {},
   "outputs": [
    {
     "name": "stdout",
     "output_type": "stream",
     "text": [
      "0.651 (+/-0.007) for {'C': 0.001}\n",
      "0.657 (+/-0.005) for {'C': 0.005}\n",
      "0.657 (+/-0.004) for {'C': 0.01}\n",
      "0.657 (+/-0.006) for {'C': 0.05}\n",
      "0.658 (+/-0.005) for {'C': 0.1}\n",
      "0.657 (+/-0.006) for {'C': 1}\n",
      "0.657 (+/-0.006) for {'C': 10}\n",
      "0.657 (+/-0.006) for {'C': 100}\n",
      "0.657 (+/-0.006) for {'C': 1000}\n",
      "BEST PARAMS: {'C': 0.1}\n",
      "\n"
     ]
    }
   ],
   "source": [
    "print_results(lr_cv)"
   ]
  },
  {
   "cell_type": "markdown",
   "metadata": {},
   "source": [
    "### 4.2.2 Support Vector Machine"
   ]
  },
  {
   "cell_type": "code",
   "execution_count": 38,
   "metadata": {},
   "outputs": [
    {
     "name": "stdout",
     "output_type": "stream",
     "text": [
      "Fitting 3 folds for each of 6 candidates, totalling 18 fits\n",
      "[CV 1/3] END ..............C=0.1, kernel=linear;, score=0.657 total time=  41.5s\n",
      "[CV 2/3] END ..............C=0.1, kernel=linear;, score=0.653 total time=  44.2s\n",
      "[CV 3/3] END ..............C=0.1, kernel=linear;, score=0.660 total time=  44.2s\n",
      "[CV 1/3] END .................C=0.1, kernel=rbf;, score=0.659 total time= 1.6min\n",
      "[CV 2/3] END .................C=0.1, kernel=rbf;, score=0.654 total time= 1.7min\n",
      "[CV 3/3] END .................C=0.1, kernel=rbf;, score=0.657 total time= 1.7min\n",
      "[CV 1/3] END ................C=1, kernel=linear;, score=0.657 total time=  45.7s\n",
      "[CV 2/3] END ................C=1, kernel=linear;, score=0.653 total time=  45.8s\n",
      "[CV 3/3] END ................C=1, kernel=linear;, score=0.659 total time=  46.6s\n",
      "[CV 1/3] END ...................C=1, kernel=rbf;, score=0.660 total time= 1.6min\n",
      "[CV 2/3] END ...................C=1, kernel=rbf;, score=0.656 total time= 1.6min\n",
      "[CV 3/3] END ...................C=1, kernel=rbf;, score=0.656 total time= 1.7min\n",
      "[CV 1/3] END ...............C=10, kernel=linear;, score=0.657 total time=  51.4s\n",
      "[CV 2/3] END ...............C=10, kernel=linear;, score=0.653 total time=  50.3s\n",
      "[CV 3/3] END ...............C=10, kernel=linear;, score=0.659 total time=  50.6s\n",
      "[CV 1/3] END ..................C=10, kernel=rbf;, score=0.659 total time= 1.7min\n",
      "[CV 2/3] END ..................C=10, kernel=rbf;, score=0.655 total time= 1.7min\n",
      "[CV 3/3] END ..................C=10, kernel=rbf;, score=0.659 total time= 1.7min\n"
     ]
    },
    {
     "data": {
      "text/html": [
       "<style>#sk-container-id-5 {color: black;background-color: white;}#sk-container-id-5 pre{padding: 0;}#sk-container-id-5 div.sk-toggleable {background-color: white;}#sk-container-id-5 label.sk-toggleable__label {cursor: pointer;display: block;width: 100%;margin-bottom: 0;padding: 0.3em;box-sizing: border-box;text-align: center;}#sk-container-id-5 label.sk-toggleable__label-arrow:before {content: \"▸\";float: left;margin-right: 0.25em;color: #696969;}#sk-container-id-5 label.sk-toggleable__label-arrow:hover:before {color: black;}#sk-container-id-5 div.sk-estimator:hover label.sk-toggleable__label-arrow:before {color: black;}#sk-container-id-5 div.sk-toggleable__content {max-height: 0;max-width: 0;overflow: hidden;text-align: left;background-color: #f0f8ff;}#sk-container-id-5 div.sk-toggleable__content pre {margin: 0.2em;color: black;border-radius: 0.25em;background-color: #f0f8ff;}#sk-container-id-5 input.sk-toggleable__control:checked~div.sk-toggleable__content {max-height: 200px;max-width: 100%;overflow: auto;}#sk-container-id-5 input.sk-toggleable__control:checked~label.sk-toggleable__label-arrow:before {content: \"▾\";}#sk-container-id-5 div.sk-estimator input.sk-toggleable__control:checked~label.sk-toggleable__label {background-color: #d4ebff;}#sk-container-id-5 div.sk-label input.sk-toggleable__control:checked~label.sk-toggleable__label {background-color: #d4ebff;}#sk-container-id-5 input.sk-hidden--visually {border: 0;clip: rect(1px 1px 1px 1px);clip: rect(1px, 1px, 1px, 1px);height: 1px;margin: -1px;overflow: hidden;padding: 0;position: absolute;width: 1px;}#sk-container-id-5 div.sk-estimator {font-family: monospace;background-color: #f0f8ff;border: 1px dotted black;border-radius: 0.25em;box-sizing: border-box;margin-bottom: 0.5em;}#sk-container-id-5 div.sk-estimator:hover {background-color: #d4ebff;}#sk-container-id-5 div.sk-parallel-item::after {content: \"\";width: 100%;border-bottom: 1px solid gray;flex-grow: 1;}#sk-container-id-5 div.sk-label:hover label.sk-toggleable__label {background-color: #d4ebff;}#sk-container-id-5 div.sk-serial::before {content: \"\";position: absolute;border-left: 1px solid gray;box-sizing: border-box;top: 0;bottom: 0;left: 50%;z-index: 0;}#sk-container-id-5 div.sk-serial {display: flex;flex-direction: column;align-items: center;background-color: white;padding-right: 0.2em;padding-left: 0.2em;position: relative;}#sk-container-id-5 div.sk-item {position: relative;z-index: 1;}#sk-container-id-5 div.sk-parallel {display: flex;align-items: stretch;justify-content: center;background-color: white;position: relative;}#sk-container-id-5 div.sk-item::before, #sk-container-id-5 div.sk-parallel-item::before {content: \"\";position: absolute;border-left: 1px solid gray;box-sizing: border-box;top: 0;bottom: 0;left: 50%;z-index: -1;}#sk-container-id-5 div.sk-parallel-item {display: flex;flex-direction: column;z-index: 1;position: relative;background-color: white;}#sk-container-id-5 div.sk-parallel-item:first-child::after {align-self: flex-end;width: 50%;}#sk-container-id-5 div.sk-parallel-item:last-child::after {align-self: flex-start;width: 50%;}#sk-container-id-5 div.sk-parallel-item:only-child::after {width: 0;}#sk-container-id-5 div.sk-dashed-wrapped {border: 1px dashed gray;margin: 0 0.4em 0.5em 0.4em;box-sizing: border-box;padding-bottom: 0.4em;background-color: white;}#sk-container-id-5 div.sk-label label {font-family: monospace;font-weight: bold;display: inline-block;line-height: 1.2em;}#sk-container-id-5 div.sk-label-container {text-align: center;}#sk-container-id-5 div.sk-container {/* jupyter's `normalize.less` sets `[hidden] { display: none; }` but bootstrap.min.css set `[hidden] { display: none !important; }` so we also need the `!important` here to be able to override the default hidden behavior on the sphinx rendered scikit-learn.org. See: https://github.com/scikit-learn/scikit-learn/issues/21755 */display: inline-block !important;position: relative;}#sk-container-id-5 div.sk-text-repr-fallback {display: none;}</style><div id=\"sk-container-id-5\" class=\"sk-top-container\"><div class=\"sk-text-repr-fallback\"><pre>GridSearchCV(cv=3, estimator=SVC(),\n",
       "             param_grid={&#x27;C&#x27;: [0.1, 1, 10], &#x27;kernel&#x27;: [&#x27;linear&#x27;, &#x27;rbf&#x27;]},\n",
       "             verbose=3)</pre><b>In a Jupyter environment, please rerun this cell to show the HTML representation or trust the notebook. <br />On GitHub, the HTML representation is unable to render, please try loading this page with nbviewer.org.</b></div><div class=\"sk-container\" hidden><div class=\"sk-item sk-dashed-wrapped\"><div class=\"sk-label-container\"><div class=\"sk-label sk-toggleable\"><input class=\"sk-toggleable__control sk-hidden--visually\" id=\"sk-estimator-id-13\" type=\"checkbox\" ><label for=\"sk-estimator-id-13\" class=\"sk-toggleable__label sk-toggleable__label-arrow\">GridSearchCV</label><div class=\"sk-toggleable__content\"><pre>GridSearchCV(cv=3, estimator=SVC(),\n",
       "             param_grid={&#x27;C&#x27;: [0.1, 1, 10], &#x27;kernel&#x27;: [&#x27;linear&#x27;, &#x27;rbf&#x27;]},\n",
       "             verbose=3)</pre></div></div></div><div class=\"sk-parallel\"><div class=\"sk-parallel-item\"><div class=\"sk-item\"><div class=\"sk-label-container\"><div class=\"sk-label sk-toggleable\"><input class=\"sk-toggleable__control sk-hidden--visually\" id=\"sk-estimator-id-14\" type=\"checkbox\" ><label for=\"sk-estimator-id-14\" class=\"sk-toggleable__label sk-toggleable__label-arrow\">estimator: SVC</label><div class=\"sk-toggleable__content\"><pre>SVC()</pre></div></div></div><div class=\"sk-serial\"><div class=\"sk-item\"><div class=\"sk-estimator sk-toggleable\"><input class=\"sk-toggleable__control sk-hidden--visually\" id=\"sk-estimator-id-15\" type=\"checkbox\" ><label for=\"sk-estimator-id-15\" class=\"sk-toggleable__label sk-toggleable__label-arrow\">SVC</label><div class=\"sk-toggleable__content\"><pre>SVC()</pre></div></div></div></div></div></div></div></div></div></div>"
      ],
      "text/plain": [
       "GridSearchCV(cv=3, estimator=SVC(),\n",
       "             param_grid={'C': [0.1, 1, 10], 'kernel': ['linear', 'rbf']},\n",
       "             verbose=3)"
      ]
     },
     "execution_count": 38,
     "metadata": {},
     "output_type": "execute_result"
    }
   ],
   "source": [
    "svc = SVC()\n",
    "svc_params = {\n",
    "    'kernel': ['linear', 'rbf'],\n",
    "    'C': [0.1, 1, 10]\n",
    "}\n",
    "svc_cv = GridSearchCV(svc, svc_params, cv=3, verbose=3)\n",
    "svc_cv.fit(tr_features_resample, tr_labels_resample.values)"
   ]
  },
  {
   "cell_type": "code",
   "execution_count": 39,
   "metadata": {},
   "outputs": [
    {
     "name": "stdout",
     "output_type": "stream",
     "text": [
      "0.657 (+/-0.005) for {'C': 0.1, 'kernel': 'linear'}\n",
      "0.657 (+/-0.004) for {'C': 0.1, 'kernel': 'rbf'}\n",
      "0.657 (+/-0.005) for {'C': 1, 'kernel': 'linear'}\n",
      "0.657 (+/-0.004) for {'C': 1, 'kernel': 'rbf'}\n",
      "0.657 (+/-0.005) for {'C': 10, 'kernel': 'linear'}\n",
      "0.658 (+/-0.004) for {'C': 10, 'kernel': 'rbf'}\n",
      "BEST PARAMS: {'C': 10, 'kernel': 'rbf'}\n",
      "\n"
     ]
    }
   ],
   "source": [
    "print_results(svc_cv)"
   ]
  },
  {
   "cell_type": "markdown",
   "metadata": {},
   "source": [
    "### 4.2.3 Random Forest"
   ]
  },
  {
   "cell_type": "code",
   "execution_count": 33,
   "metadata": {},
   "outputs": [
    {
     "name": "stdout",
     "output_type": "stream",
     "text": [
      "Fitting 3 folds for each of 15 candidates, totalling 45 fits\n",
      "[CV 1/3] END .......max_depth=2, n_estimators=5;, score=0.619 total time=   0.0s\n",
      "[CV 2/3] END .......max_depth=2, n_estimators=5;, score=0.619 total time=   0.0s\n",
      "[CV 3/3] END .......max_depth=2, n_estimators=5;, score=0.618 total time=   0.0s\n",
      "[CV 1/3] END ......max_depth=2, n_estimators=20;, score=0.634 total time=   0.1s\n",
      "[CV 2/3] END ......max_depth=2, n_estimators=20;, score=0.652 total time=   0.1s\n",
      "[CV 3/3] END ......max_depth=2, n_estimators=20;, score=0.644 total time=   0.1s\n",
      "[CV 1/3] END .....max_depth=2, n_estimators=250;, score=0.653 total time=   2.6s\n",
      "[CV 2/3] END .....max_depth=2, n_estimators=250;, score=0.650 total time=   3.1s\n",
      "[CV 3/3] END .....max_depth=2, n_estimators=250;, score=0.651 total time=   2.6s\n",
      "[CV 1/3] END .......max_depth=4, n_estimators=5;, score=0.651 total time=   0.0s\n",
      "[CV 2/3] END .......max_depth=4, n_estimators=5;, score=0.649 total time=   0.0s\n",
      "[CV 3/3] END .......max_depth=4, n_estimators=5;, score=0.642 total time=   0.0s\n",
      "[CV 1/3] END ......max_depth=4, n_estimators=20;, score=0.657 total time=   0.2s\n",
      "[CV 2/3] END ......max_depth=4, n_estimators=20;, score=0.654 total time=   0.2s\n",
      "[CV 3/3] END ......max_depth=4, n_estimators=20;, score=0.655 total time=   0.2s\n",
      "[CV 1/3] END .....max_depth=4, n_estimators=250;, score=0.658 total time=   4.0s\n",
      "[CV 2/3] END .....max_depth=4, n_estimators=250;, score=0.658 total time=   3.9s\n",
      "[CV 3/3] END .....max_depth=4, n_estimators=250;, score=0.654 total time=   3.9s\n",
      "[CV 1/3] END .......max_depth=8, n_estimators=5;, score=0.659 total time=   0.0s\n",
      "[CV 2/3] END .......max_depth=8, n_estimators=5;, score=0.655 total time=   0.1s\n",
      "[CV 3/3] END .......max_depth=8, n_estimators=5;, score=0.649 total time=   0.0s\n",
      "[CV 1/3] END ......max_depth=8, n_estimators=20;, score=0.662 total time=   0.5s\n",
      "[CV 2/3] END ......max_depth=8, n_estimators=20;, score=0.658 total time=   0.5s\n",
      "[CV 3/3] END ......max_depth=8, n_estimators=20;, score=0.659 total time=   0.5s\n",
      "[CV 1/3] END .....max_depth=8, n_estimators=250;, score=0.665 total time=   6.6s\n",
      "[CV 2/3] END .....max_depth=8, n_estimators=250;, score=0.661 total time=   7.0s\n",
      "[CV 3/3] END .....max_depth=8, n_estimators=250;, score=0.659 total time=   7.1s\n",
      "[CV 1/3] END ......max_depth=16, n_estimators=5;, score=0.626 total time=   0.2s\n",
      "[CV 2/3] END ......max_depth=16, n_estimators=5;, score=0.625 total time=   0.1s\n",
      "[CV 3/3] END ......max_depth=16, n_estimators=5;, score=0.627 total time=   0.2s\n",
      "[CV 1/3] END .....max_depth=16, n_estimators=20;, score=0.647 total time=   0.9s\n",
      "[CV 2/3] END .....max_depth=16, n_estimators=20;, score=0.645 total time=   0.8s\n",
      "[CV 3/3] END .....max_depth=16, n_estimators=20;, score=0.645 total time=   0.8s\n",
      "[CV 1/3] END ....max_depth=16, n_estimators=250;, score=0.657 total time=  11.7s\n",
      "[CV 2/3] END ....max_depth=16, n_estimators=250;, score=0.654 total time=  13.7s\n",
      "[CV 3/3] END ....max_depth=16, n_estimators=250;, score=0.654 total time=  12.1s\n",
      "[CV 1/3] END ......max_depth=32, n_estimators=5;, score=0.603 total time=   0.2s\n",
      "[CV 2/3] END ......max_depth=32, n_estimators=5;, score=0.601 total time=   0.2s\n",
      "[CV 3/3] END ......max_depth=32, n_estimators=5;, score=0.599 total time=   0.2s\n",
      "[CV 1/3] END .....max_depth=32, n_estimators=20;, score=0.632 total time=   1.1s\n",
      "[CV 2/3] END .....max_depth=32, n_estimators=20;, score=0.626 total time=   1.1s\n",
      "[CV 3/3] END .....max_depth=32, n_estimators=20;, score=0.625 total time=   1.0s\n",
      "[CV 1/3] END ....max_depth=32, n_estimators=250;, score=0.644 total time=  14.0s\n",
      "[CV 2/3] END ....max_depth=32, n_estimators=250;, score=0.643 total time=  14.1s\n",
      "[CV 3/3] END ....max_depth=32, n_estimators=250;, score=0.641 total time=  14.2s\n"
     ]
    },
    {
     "data": {
      "text/html": [
       "<style>#sk-container-id-3 {color: black;background-color: white;}#sk-container-id-3 pre{padding: 0;}#sk-container-id-3 div.sk-toggleable {background-color: white;}#sk-container-id-3 label.sk-toggleable__label {cursor: pointer;display: block;width: 100%;margin-bottom: 0;padding: 0.3em;box-sizing: border-box;text-align: center;}#sk-container-id-3 label.sk-toggleable__label-arrow:before {content: \"▸\";float: left;margin-right: 0.25em;color: #696969;}#sk-container-id-3 label.sk-toggleable__label-arrow:hover:before {color: black;}#sk-container-id-3 div.sk-estimator:hover label.sk-toggleable__label-arrow:before {color: black;}#sk-container-id-3 div.sk-toggleable__content {max-height: 0;max-width: 0;overflow: hidden;text-align: left;background-color: #f0f8ff;}#sk-container-id-3 div.sk-toggleable__content pre {margin: 0.2em;color: black;border-radius: 0.25em;background-color: #f0f8ff;}#sk-container-id-3 input.sk-toggleable__control:checked~div.sk-toggleable__content {max-height: 200px;max-width: 100%;overflow: auto;}#sk-container-id-3 input.sk-toggleable__control:checked~label.sk-toggleable__label-arrow:before {content: \"▾\";}#sk-container-id-3 div.sk-estimator input.sk-toggleable__control:checked~label.sk-toggleable__label {background-color: #d4ebff;}#sk-container-id-3 div.sk-label input.sk-toggleable__control:checked~label.sk-toggleable__label {background-color: #d4ebff;}#sk-container-id-3 input.sk-hidden--visually {border: 0;clip: rect(1px 1px 1px 1px);clip: rect(1px, 1px, 1px, 1px);height: 1px;margin: -1px;overflow: hidden;padding: 0;position: absolute;width: 1px;}#sk-container-id-3 div.sk-estimator {font-family: monospace;background-color: #f0f8ff;border: 1px dotted black;border-radius: 0.25em;box-sizing: border-box;margin-bottom: 0.5em;}#sk-container-id-3 div.sk-estimator:hover {background-color: #d4ebff;}#sk-container-id-3 div.sk-parallel-item::after {content: \"\";width: 100%;border-bottom: 1px solid gray;flex-grow: 1;}#sk-container-id-3 div.sk-label:hover label.sk-toggleable__label {background-color: #d4ebff;}#sk-container-id-3 div.sk-serial::before {content: \"\";position: absolute;border-left: 1px solid gray;box-sizing: border-box;top: 0;bottom: 0;left: 50%;z-index: 0;}#sk-container-id-3 div.sk-serial {display: flex;flex-direction: column;align-items: center;background-color: white;padding-right: 0.2em;padding-left: 0.2em;position: relative;}#sk-container-id-3 div.sk-item {position: relative;z-index: 1;}#sk-container-id-3 div.sk-parallel {display: flex;align-items: stretch;justify-content: center;background-color: white;position: relative;}#sk-container-id-3 div.sk-item::before, #sk-container-id-3 div.sk-parallel-item::before {content: \"\";position: absolute;border-left: 1px solid gray;box-sizing: border-box;top: 0;bottom: 0;left: 50%;z-index: -1;}#sk-container-id-3 div.sk-parallel-item {display: flex;flex-direction: column;z-index: 1;position: relative;background-color: white;}#sk-container-id-3 div.sk-parallel-item:first-child::after {align-self: flex-end;width: 50%;}#sk-container-id-3 div.sk-parallel-item:last-child::after {align-self: flex-start;width: 50%;}#sk-container-id-3 div.sk-parallel-item:only-child::after {width: 0;}#sk-container-id-3 div.sk-dashed-wrapped {border: 1px dashed gray;margin: 0 0.4em 0.5em 0.4em;box-sizing: border-box;padding-bottom: 0.4em;background-color: white;}#sk-container-id-3 div.sk-label label {font-family: monospace;font-weight: bold;display: inline-block;line-height: 1.2em;}#sk-container-id-3 div.sk-label-container {text-align: center;}#sk-container-id-3 div.sk-container {/* jupyter's `normalize.less` sets `[hidden] { display: none; }` but bootstrap.min.css set `[hidden] { display: none !important; }` so we also need the `!important` here to be able to override the default hidden behavior on the sphinx rendered scikit-learn.org. See: https://github.com/scikit-learn/scikit-learn/issues/21755 */display: inline-block !important;position: relative;}#sk-container-id-3 div.sk-text-repr-fallback {display: none;}</style><div id=\"sk-container-id-3\" class=\"sk-top-container\"><div class=\"sk-text-repr-fallback\"><pre>GridSearchCV(cv=3, estimator=RandomForestClassifier(),\n",
       "             param_grid={&#x27;max_depth&#x27;: [2, 4, 8, 16, 32],\n",
       "                         &#x27;n_estimators&#x27;: [5, 20, 250]},\n",
       "             verbose=3)</pre><b>In a Jupyter environment, please rerun this cell to show the HTML representation or trust the notebook. <br />On GitHub, the HTML representation is unable to render, please try loading this page with nbviewer.org.</b></div><div class=\"sk-container\" hidden><div class=\"sk-item sk-dashed-wrapped\"><div class=\"sk-label-container\"><div class=\"sk-label sk-toggleable\"><input class=\"sk-toggleable__control sk-hidden--visually\" id=\"sk-estimator-id-7\" type=\"checkbox\" ><label for=\"sk-estimator-id-7\" class=\"sk-toggleable__label sk-toggleable__label-arrow\">GridSearchCV</label><div class=\"sk-toggleable__content\"><pre>GridSearchCV(cv=3, estimator=RandomForestClassifier(),\n",
       "             param_grid={&#x27;max_depth&#x27;: [2, 4, 8, 16, 32],\n",
       "                         &#x27;n_estimators&#x27;: [5, 20, 250]},\n",
       "             verbose=3)</pre></div></div></div><div class=\"sk-parallel\"><div class=\"sk-parallel-item\"><div class=\"sk-item\"><div class=\"sk-label-container\"><div class=\"sk-label sk-toggleable\"><input class=\"sk-toggleable__control sk-hidden--visually\" id=\"sk-estimator-id-8\" type=\"checkbox\" ><label for=\"sk-estimator-id-8\" class=\"sk-toggleable__label sk-toggleable__label-arrow\">estimator: RandomForestClassifier</label><div class=\"sk-toggleable__content\"><pre>RandomForestClassifier()</pre></div></div></div><div class=\"sk-serial\"><div class=\"sk-item\"><div class=\"sk-estimator sk-toggleable\"><input class=\"sk-toggleable__control sk-hidden--visually\" id=\"sk-estimator-id-9\" type=\"checkbox\" ><label for=\"sk-estimator-id-9\" class=\"sk-toggleable__label sk-toggleable__label-arrow\">RandomForestClassifier</label><div class=\"sk-toggleable__content\"><pre>RandomForestClassifier()</pre></div></div></div></div></div></div></div></div></div></div>"
      ],
      "text/plain": [
       "GridSearchCV(cv=3, estimator=RandomForestClassifier(),\n",
       "             param_grid={'max_depth': [2, 4, 8, 16, 32],\n",
       "                         'n_estimators': [5, 20, 250]},\n",
       "             verbose=3)"
      ]
     },
     "execution_count": 33,
     "metadata": {},
     "output_type": "execute_result"
    }
   ],
   "source": [
    "rf = RandomForestClassifier()\n",
    "rf_params = {\n",
    "    'n_estimators': [5, 20, 250],\n",
    "    'max_depth': [2, 4, 8, 16, 32]\n",
    "}\n",
    "rf_cv = GridSearchCV(rf, rf_params, cv=3, verbose=3)\n",
    "rf_cv.fit(tr_features_resample, tr_labels_resample.values.ravel())"
   ]
  },
  {
   "cell_type": "code",
   "execution_count": 34,
   "metadata": {},
   "outputs": [
    {
     "name": "stdout",
     "output_type": "stream",
     "text": [
      "0.619 (+/-0.0) for {'max_depth': 2, 'n_estimators': 5}\n",
      "0.644 (+/-0.015) for {'max_depth': 2, 'n_estimators': 20}\n",
      "0.651 (+/-0.002) for {'max_depth': 2, 'n_estimators': 250}\n",
      "0.647 (+/-0.007) for {'max_depth': 4, 'n_estimators': 5}\n",
      "0.655 (+/-0.002) for {'max_depth': 4, 'n_estimators': 20}\n",
      "0.657 (+/-0.003) for {'max_depth': 4, 'n_estimators': 250}\n",
      "0.654 (+/-0.008) for {'max_depth': 8, 'n_estimators': 5}\n",
      "0.66 (+/-0.004) for {'max_depth': 8, 'n_estimators': 20}\n",
      "0.662 (+/-0.005) for {'max_depth': 8, 'n_estimators': 250}\n",
      "0.626 (+/-0.002) for {'max_depth': 16, 'n_estimators': 5}\n",
      "0.645 (+/-0.002) for {'max_depth': 16, 'n_estimators': 20}\n",
      "0.655 (+/-0.003) for {'max_depth': 16, 'n_estimators': 250}\n",
      "0.601 (+/-0.003) for {'max_depth': 32, 'n_estimators': 5}\n",
      "0.628 (+/-0.006) for {'max_depth': 32, 'n_estimators': 20}\n",
      "0.642 (+/-0.003) for {'max_depth': 32, 'n_estimators': 250}\n",
      "BEST PARAMS: {'max_depth': 8, 'n_estimators': 250}\n",
      "\n"
     ]
    }
   ],
   "source": [
    "print_results(rf_cv)"
   ]
  },
  {
   "cell_type": "markdown",
   "metadata": {},
   "source": [
    "### 4.2.4 Gradient Boosting"
   ]
  },
  {
   "cell_type": "code",
   "execution_count": 36,
   "metadata": {},
   "outputs": [
    {
     "name": "stdout",
     "output_type": "stream",
     "text": [
      "Fitting 3 folds for each of 64 candidates, totalling 192 fits\n",
      "[CV 1/3] END learning_rate=0.01, max_depth=3, n_estimators=5;, score=0.638 total time=   0.2s\n",
      "[CV 2/3] END learning_rate=0.01, max_depth=3, n_estimators=5;, score=0.646 total time=   0.1s\n",
      "[CV 3/3] END learning_rate=0.01, max_depth=3, n_estimators=5;, score=0.633 total time=   0.1s\n",
      "[CV 1/3] END learning_rate=0.01, max_depth=3, n_estimators=50;, score=0.651 total time=   2.1s\n",
      "[CV 2/3] END learning_rate=0.01, max_depth=3, n_estimators=50;, score=0.648 total time=   2.1s\n",
      "[CV 3/3] END learning_rate=0.01, max_depth=3, n_estimators=50;, score=0.645 total time=   2.5s\n",
      "[CV 1/3] END learning_rate=0.01, max_depth=3, n_estimators=100;, score=0.653 total time=   4.4s\n",
      "[CV 2/3] END learning_rate=0.01, max_depth=3, n_estimators=100;, score=0.650 total time=   4.3s\n",
      "[CV 3/3] END learning_rate=0.01, max_depth=3, n_estimators=100;, score=0.647 total time=   4.4s\n",
      "[CV 1/3] END learning_rate=0.01, max_depth=3, n_estimators=250;, score=0.660 total time=  10.8s\n",
      "[CV 2/3] END learning_rate=0.01, max_depth=3, n_estimators=250;, score=0.659 total time=  11.3s\n",
      "[CV 3/3] END learning_rate=0.01, max_depth=3, n_estimators=250;, score=0.655 total time=  11.2s\n",
      "[CV 1/3] END learning_rate=0.01, max_depth=5, n_estimators=5;, score=0.653 total time=   0.3s\n",
      "[CV 2/3] END learning_rate=0.01, max_depth=5, n_estimators=5;, score=0.649 total time=   0.3s\n",
      "[CV 3/3] END learning_rate=0.01, max_depth=5, n_estimators=5;, score=0.650 total time=   0.3s\n",
      "[CV 1/3] END learning_rate=0.01, max_depth=5, n_estimators=50;, score=0.657 total time=   3.5s\n",
      "[CV 2/3] END learning_rate=0.01, max_depth=5, n_estimators=50;, score=0.654 total time=   3.5s\n",
      "[CV 3/3] END learning_rate=0.01, max_depth=5, n_estimators=50;, score=0.654 total time=   3.5s\n",
      "[CV 1/3] END learning_rate=0.01, max_depth=5, n_estimators=100;, score=0.660 total time=   7.1s\n",
      "[CV 2/3] END learning_rate=0.01, max_depth=5, n_estimators=100;, score=0.655 total time=   7.1s\n",
      "[CV 3/3] END learning_rate=0.01, max_depth=5, n_estimators=100;, score=0.655 total time=   7.1s\n",
      "[CV 1/3] END learning_rate=0.01, max_depth=5, n_estimators=250;, score=0.664 total time=  17.7s\n",
      "[CV 2/3] END learning_rate=0.01, max_depth=5, n_estimators=250;, score=0.658 total time=  17.6s\n",
      "[CV 3/3] END learning_rate=0.01, max_depth=5, n_estimators=250;, score=0.659 total time=  17.6s\n",
      "[CV 1/3] END learning_rate=0.01, max_depth=7, n_estimators=5;, score=0.652 total time=   0.4s\n",
      "[CV 2/3] END learning_rate=0.01, max_depth=7, n_estimators=5;, score=0.650 total time=   0.4s\n",
      "[CV 3/3] END learning_rate=0.01, max_depth=7, n_estimators=5;, score=0.653 total time=   0.4s\n",
      "[CV 1/3] END learning_rate=0.01, max_depth=7, n_estimators=50;, score=0.660 total time=   5.0s\n",
      "[CV 2/3] END learning_rate=0.01, max_depth=7, n_estimators=50;, score=0.656 total time=   5.0s\n",
      "[CV 3/3] END learning_rate=0.01, max_depth=7, n_estimators=50;, score=0.657 total time=   5.0s\n",
      "[CV 1/3] END learning_rate=0.01, max_depth=7, n_estimators=100;, score=0.662 total time=  10.0s\n",
      "[CV 2/3] END learning_rate=0.01, max_depth=7, n_estimators=100;, score=0.658 total time=  10.0s\n",
      "[CV 3/3] END learning_rate=0.01, max_depth=7, n_estimators=100;, score=0.657 total time=  10.0s\n",
      "[CV 1/3] END learning_rate=0.01, max_depth=7, n_estimators=250;, score=0.665 total time=  24.7s\n",
      "[CV 2/3] END learning_rate=0.01, max_depth=7, n_estimators=250;, score=0.661 total time=  24.8s\n",
      "[CV 3/3] END learning_rate=0.01, max_depth=7, n_estimators=250;, score=0.660 total time=  24.7s\n",
      "[CV 1/3] END learning_rate=0.01, max_depth=9, n_estimators=5;, score=0.646 total time=   0.6s\n",
      "[CV 2/3] END learning_rate=0.01, max_depth=9, n_estimators=5;, score=0.644 total time=   0.6s\n",
      "[CV 3/3] END learning_rate=0.01, max_depth=9, n_estimators=5;, score=0.646 total time=   0.6s\n",
      "[CV 1/3] END learning_rate=0.01, max_depth=9, n_estimators=50;, score=0.656 total time=   6.9s\n",
      "[CV 2/3] END learning_rate=0.01, max_depth=9, n_estimators=50;, score=0.653 total time=   6.9s\n",
      "[CV 3/3] END learning_rate=0.01, max_depth=9, n_estimators=50;, score=0.655 total time=   6.9s\n",
      "[CV 1/3] END learning_rate=0.01, max_depth=9, n_estimators=100;, score=0.659 total time=  14.8s\n",
      "[CV 2/3] END learning_rate=0.01, max_depth=9, n_estimators=100;, score=0.657 total time=  15.5s\n",
      "[CV 3/3] END learning_rate=0.01, max_depth=9, n_estimators=100;, score=0.658 total time=  15.4s\n",
      "[CV 1/3] END learning_rate=0.01, max_depth=9, n_estimators=250;, score=0.661 total time=  37.8s\n",
      "[CV 2/3] END learning_rate=0.01, max_depth=9, n_estimators=250;, score=0.658 total time=  38.3s\n",
      "[CV 3/3] END learning_rate=0.01, max_depth=9, n_estimators=250;, score=0.659 total time=  34.8s\n",
      "[CV 1/3] END learning_rate=0.1, max_depth=3, n_estimators=5;, score=0.650 total time=   0.1s\n",
      "[CV 2/3] END learning_rate=0.1, max_depth=3, n_estimators=5;, score=0.647 total time=   0.1s\n",
      "[CV 3/3] END learning_rate=0.1, max_depth=3, n_estimators=5;, score=0.643 total time=   0.1s\n",
      "[CV 1/3] END learning_rate=0.1, max_depth=3, n_estimators=50;, score=0.666 total time=   2.1s\n",
      "[CV 2/3] END learning_rate=0.1, max_depth=3, n_estimators=50;, score=0.659 total time=   2.1s\n",
      "[CV 3/3] END learning_rate=0.1, max_depth=3, n_estimators=50;, score=0.661 total time=   2.1s\n",
      "[CV 1/3] END learning_rate=0.1, max_depth=3, n_estimators=100;, score=0.666 total time=   4.2s\n",
      "[CV 2/3] END learning_rate=0.1, max_depth=3, n_estimators=100;, score=0.661 total time=   4.2s\n",
      "[CV 3/3] END learning_rate=0.1, max_depth=3, n_estimators=100;, score=0.663 total time=   4.2s\n",
      "[CV 1/3] END learning_rate=0.1, max_depth=3, n_estimators=250;, score=0.663 total time=  10.5s\n",
      "[CV 2/3] END learning_rate=0.1, max_depth=3, n_estimators=250;, score=0.661 total time=  10.6s\n",
      "[CV 3/3] END learning_rate=0.1, max_depth=3, n_estimators=250;, score=0.662 total time=  10.6s\n",
      "[CV 1/3] END learning_rate=0.1, max_depth=5, n_estimators=5;, score=0.658 total time=   0.3s\n",
      "[CV 2/3] END learning_rate=0.1, max_depth=5, n_estimators=5;, score=0.653 total time=   0.3s\n",
      "[CV 3/3] END learning_rate=0.1, max_depth=5, n_estimators=5;, score=0.652 total time=   0.3s\n",
      "[CV 1/3] END learning_rate=0.1, max_depth=5, n_estimators=50;, score=0.664 total time=   3.4s\n",
      "[CV 2/3] END learning_rate=0.1, max_depth=5, n_estimators=50;, score=0.661 total time=   3.4s\n",
      "[CV 3/3] END learning_rate=0.1, max_depth=5, n_estimators=50;, score=0.661 total time=   3.4s\n",
      "[CV 1/3] END learning_rate=0.1, max_depth=5, n_estimators=100;, score=0.662 total time=   6.8s\n",
      "[CV 2/3] END learning_rate=0.1, max_depth=5, n_estimators=100;, score=0.661 total time=   6.8s\n",
      "[CV 3/3] END learning_rate=0.1, max_depth=5, n_estimators=100;, score=0.660 total time=   6.8s\n",
      "[CV 1/3] END learning_rate=0.1, max_depth=5, n_estimators=250;, score=0.660 total time=  17.2s\n",
      "[CV 2/3] END learning_rate=0.1, max_depth=5, n_estimators=250;, score=0.658 total time=  17.2s\n",
      "[CV 3/3] END learning_rate=0.1, max_depth=5, n_estimators=250;, score=0.658 total time=  17.1s\n",
      "[CV 1/3] END learning_rate=0.1, max_depth=7, n_estimators=5;, score=0.658 total time=   0.4s\n",
      "[CV 2/3] END learning_rate=0.1, max_depth=7, n_estimators=5;, score=0.652 total time=   0.4s\n",
      "[CV 3/3] END learning_rate=0.1, max_depth=7, n_estimators=5;, score=0.656 total time=   0.4s\n",
      "[CV 1/3] END learning_rate=0.1, max_depth=7, n_estimators=50;, score=0.661 total time=   4.8s\n",
      "[CV 2/3] END learning_rate=0.1, max_depth=7, n_estimators=50;, score=0.661 total time=   4.9s\n",
      "[CV 3/3] END learning_rate=0.1, max_depth=7, n_estimators=50;, score=0.658 total time=   4.9s\n",
      "[CV 1/3] END learning_rate=0.1, max_depth=7, n_estimators=100;, score=0.660 total time=   9.7s\n",
      "[CV 2/3] END learning_rate=0.1, max_depth=7, n_estimators=100;, score=0.659 total time=   9.8s\n",
      "[CV 3/3] END learning_rate=0.1, max_depth=7, n_estimators=100;, score=0.656 total time=   9.8s\n",
      "[CV 1/3] END learning_rate=0.1, max_depth=7, n_estimators=250;, score=0.657 total time=  24.4s\n",
      "[CV 2/3] END learning_rate=0.1, max_depth=7, n_estimators=250;, score=0.652 total time=  24.5s\n",
      "[CV 3/3] END learning_rate=0.1, max_depth=7, n_estimators=250;, score=0.649 total time=  24.8s\n",
      "[CV 1/3] END learning_rate=0.1, max_depth=9, n_estimators=5;, score=0.651 total time=   0.7s\n",
      "[CV 2/3] END learning_rate=0.1, max_depth=9, n_estimators=5;, score=0.647 total time=   0.8s\n",
      "[CV 3/3] END learning_rate=0.1, max_depth=9, n_estimators=5;, score=0.650 total time=   0.7s\n",
      "[CV 1/3] END learning_rate=0.1, max_depth=9, n_estimators=50;, score=0.657 total time=   7.2s\n",
      "[CV 2/3] END learning_rate=0.1, max_depth=9, n_estimators=50;, score=0.654 total time=   6.7s\n",
      "[CV 3/3] END learning_rate=0.1, max_depth=9, n_estimators=50;, score=0.656 total time=   6.7s\n",
      "[CV 1/3] END learning_rate=0.1, max_depth=9, n_estimators=100;, score=0.653 total time=  13.4s\n",
      "[CV 2/3] END learning_rate=0.1, max_depth=9, n_estimators=100;, score=0.653 total time=  13.1s\n",
      "[CV 3/3] END learning_rate=0.1, max_depth=9, n_estimators=100;, score=0.650 total time=  13.1s\n",
      "[CV 1/3] END learning_rate=0.1, max_depth=9, n_estimators=250;, score=0.647 total time=  32.2s\n",
      "[CV 2/3] END learning_rate=0.1, max_depth=9, n_estimators=250;, score=0.643 total time=  32.1s\n",
      "[CV 3/3] END learning_rate=0.1, max_depth=9, n_estimators=250;, score=0.642 total time=  32.3s\n",
      "[CV 1/3] END learning_rate=1, max_depth=3, n_estimators=5;, score=0.656 total time=   0.1s\n",
      "[CV 2/3] END learning_rate=1, max_depth=3, n_estimators=5;, score=0.654 total time=   0.2s\n",
      "[CV 3/3] END learning_rate=1, max_depth=3, n_estimators=5;, score=0.655 total time=   0.1s\n",
      "[CV 1/3] END learning_rate=1, max_depth=3, n_estimators=50;, score=0.653 total time=   2.1s\n",
      "[CV 2/3] END learning_rate=1, max_depth=3, n_estimators=50;, score=0.648 total time=   2.1s\n",
      "[CV 3/3] END learning_rate=1, max_depth=3, n_estimators=50;, score=0.649 total time=   2.1s\n",
      "[CV 1/3] END learning_rate=1, max_depth=3, n_estimators=100;, score=0.645 total time=   4.3s\n",
      "[CV 2/3] END learning_rate=1, max_depth=3, n_estimators=100;, score=0.640 total time=   4.2s\n",
      "[CV 3/3] END learning_rate=1, max_depth=3, n_estimators=100;, score=0.643 total time=   4.2s\n",
      "[CV 1/3] END learning_rate=1, max_depth=3, n_estimators=250;, score=0.627 total time=  10.7s\n",
      "[CV 2/3] END learning_rate=1, max_depth=3, n_estimators=250;, score=0.622 total time=  10.6s\n",
      "[CV 3/3] END learning_rate=1, max_depth=3, n_estimators=250;, score=0.632 total time=  10.5s\n",
      "[CV 1/3] END learning_rate=1, max_depth=5, n_estimators=5;, score=0.652 total time=   0.3s\n",
      "[CV 2/3] END learning_rate=1, max_depth=5, n_estimators=5;, score=0.654 total time=   0.3s\n",
      "[CV 3/3] END learning_rate=1, max_depth=5, n_estimators=5;, score=0.656 total time=   0.3s\n",
      "[CV 1/3] END learning_rate=1, max_depth=5, n_estimators=50;, score=0.631 total time=   3.4s\n",
      "[CV 2/3] END learning_rate=1, max_depth=5, n_estimators=50;, score=0.635 total time=   3.4s\n",
      "[CV 3/3] END learning_rate=1, max_depth=5, n_estimators=50;, score=0.633 total time=   3.4s\n",
      "[CV 1/3] END learning_rate=1, max_depth=5, n_estimators=100;, score=0.620 total time=   6.9s\n",
      "[CV 2/3] END learning_rate=1, max_depth=5, n_estimators=100;, score=0.616 total time=   6.9s\n",
      "[CV 3/3] END learning_rate=1, max_depth=5, n_estimators=100;, score=0.617 total time=   6.9s\n",
      "[CV 1/3] END learning_rate=1, max_depth=5, n_estimators=250;, score=0.604 total time=  16.8s\n",
      "[CV 2/3] END learning_rate=1, max_depth=5, n_estimators=250;, score=0.600 total time=  16.7s\n",
      "[CV 3/3] END learning_rate=1, max_depth=5, n_estimators=250;, score=0.598 total time=  17.0s\n",
      "[CV 1/3] END learning_rate=1, max_depth=7, n_estimators=5;, score=0.649 total time=   0.5s\n",
      "[CV 2/3] END learning_rate=1, max_depth=7, n_estimators=5;, score=0.648 total time=   0.4s\n",
      "[CV 3/3] END learning_rate=1, max_depth=7, n_estimators=5;, score=0.652 total time=   0.4s\n",
      "[CV 1/3] END learning_rate=1, max_depth=7, n_estimators=50;, score=0.612 total time=   5.0s\n",
      "[CV 2/3] END learning_rate=1, max_depth=7, n_estimators=50;, score=0.606 total time=   4.8s\n",
      "[CV 3/3] END learning_rate=1, max_depth=7, n_estimators=50;, score=0.613 total time=   4.8s\n",
      "[CV 1/3] END learning_rate=1, max_depth=7, n_estimators=100;, score=0.603 total time=   9.8s\n",
      "[CV 2/3] END learning_rate=1, max_depth=7, n_estimators=100;, score=0.595 total time=   9.9s\n",
      "[CV 3/3] END learning_rate=1, max_depth=7, n_estimators=100;, score=0.605 total time=   9.9s\n",
      "[CV 1/3] END learning_rate=1, max_depth=7, n_estimators=250;, score=0.597 total time=  24.5s\n",
      "[CV 2/3] END learning_rate=1, max_depth=7, n_estimators=250;, score=0.592 total time=  24.2s\n",
      "[CV 3/3] END learning_rate=1, max_depth=7, n_estimators=250;, score=0.595 total time=  24.4s\n",
      "[CV 1/3] END learning_rate=1, max_depth=9, n_estimators=5;, score=0.640 total time=   0.6s\n",
      "[CV 2/3] END learning_rate=1, max_depth=9, n_estimators=5;, score=0.634 total time=   0.6s\n",
      "[CV 3/3] END learning_rate=1, max_depth=9, n_estimators=5;, score=0.636 total time=   0.6s\n",
      "[CV 1/3] END learning_rate=1, max_depth=9, n_estimators=50;, score=0.604 total time=   6.4s\n",
      "[CV 2/3] END learning_rate=1, max_depth=9, n_estimators=50;, score=0.592 total time=   6.4s\n",
      "[CV 3/3] END learning_rate=1, max_depth=9, n_estimators=50;, score=0.601 total time=   6.5s\n",
      "[CV 1/3] END learning_rate=1, max_depth=9, n_estimators=100;, score=0.602 total time=  12.9s\n",
      "[CV 2/3] END learning_rate=1, max_depth=9, n_estimators=100;, score=0.592 total time=  13.6s\n",
      "[CV 3/3] END learning_rate=1, max_depth=9, n_estimators=100;, score=0.594 total time=  13.0s\n",
      "[CV 1/3] END learning_rate=1, max_depth=9, n_estimators=250;, score=0.606 total time=  32.8s\n",
      "[CV 2/3] END learning_rate=1, max_depth=9, n_estimators=250;, score=0.601 total time=  37.6s\n",
      "[CV 3/3] END learning_rate=1, max_depth=9, n_estimators=250;, score=0.602 total time=  38.7s\n",
      "[CV 1/3] END learning_rate=10, max_depth=3, n_estimators=5;, score=0.426 total time=   0.2s\n",
      "[CV 2/3] END learning_rate=10, max_depth=3, n_estimators=5;, score=0.563 total time=   0.2s\n",
      "[CV 3/3] END learning_rate=10, max_depth=3, n_estimators=5;, score=0.611 total time=   0.2s\n",
      "[CV 1/3] END learning_rate=10, max_depth=3, n_estimators=50;, score=0.426 total time=   2.7s\n",
      "[CV 2/3] END learning_rate=10, max_depth=3, n_estimators=50;, score=0.563 total time=   2.8s\n",
      "[CV 3/3] END learning_rate=10, max_depth=3, n_estimators=50;, score=0.611 total time=   3.3s\n",
      "[CV 1/3] END learning_rate=10, max_depth=3, n_estimators=100;, score=0.426 total time=   6.4s\n",
      "[CV 2/3] END learning_rate=10, max_depth=3, n_estimators=100;, score=0.563 total time=   6.3s\n",
      "[CV 3/3] END learning_rate=10, max_depth=3, n_estimators=100;, score=0.611 total time=   5.7s\n",
      "[CV 1/3] END learning_rate=10, max_depth=3, n_estimators=250;, score=0.426 total time=  13.4s\n",
      "[CV 2/3] END learning_rate=10, max_depth=3, n_estimators=250;, score=0.563 total time=  14.1s\n",
      "[CV 3/3] END learning_rate=10, max_depth=3, n_estimators=250;, score=0.611 total time=  14.5s\n",
      "[CV 1/3] END learning_rate=10, max_depth=5, n_estimators=5;, score=0.608 total time=   0.4s\n",
      "[CV 2/3] END learning_rate=10, max_depth=5, n_estimators=5;, score=0.538 total time=   0.4s\n",
      "[CV 3/3] END learning_rate=10, max_depth=5, n_estimators=5;, score=0.502 total time=   0.4s\n",
      "[CV 1/3] END learning_rate=10, max_depth=5, n_estimators=50;, score=0.608 total time=   4.7s\n",
      "[CV 2/3] END learning_rate=10, max_depth=5, n_estimators=50;, score=0.538 total time=   6.1s\n",
      "[CV 3/3] END learning_rate=10, max_depth=5, n_estimators=50;, score=0.502 total time=   6.3s\n",
      "[CV 1/3] END learning_rate=10, max_depth=5, n_estimators=100;, score=0.608 total time=  10.3s\n",
      "[CV 2/3] END learning_rate=10, max_depth=5, n_estimators=100;, score=0.538 total time=   9.4s\n",
      "[CV 3/3] END learning_rate=10, max_depth=5, n_estimators=100;, score=0.502 total time=   9.3s\n",
      "[CV 1/3] END learning_rate=10, max_depth=5, n_estimators=250;, score=0.608 total time=  22.9s\n",
      "[CV 2/3] END learning_rate=10, max_depth=5, n_estimators=250;, score=0.538 total time=  22.8s\n",
      "[CV 3/3] END learning_rate=10, max_depth=5, n_estimators=250;, score=0.502 total time=  22.3s\n",
      "[CV 1/3] END learning_rate=10, max_depth=7, n_estimators=5;, score=0.479 total time=   0.6s\n",
      "[CV 2/3] END learning_rate=10, max_depth=7, n_estimators=5;, score=0.464 total time=   0.6s\n",
      "[CV 3/3] END learning_rate=10, max_depth=7, n_estimators=5;, score=0.524 total time=   0.6s\n",
      "[CV 1/3] END learning_rate=10, max_depth=7, n_estimators=50;, score=0.479 total time=   6.9s\n",
      "[CV 2/3] END learning_rate=10, max_depth=7, n_estimators=50;, score=0.464 total time=   6.4s\n",
      "[CV 3/3] END learning_rate=10, max_depth=7, n_estimators=50;, score=0.471 total time=   7.0s\n",
      "[CV 1/3] END learning_rate=10, max_depth=7, n_estimators=100;, score=0.490 total time=  14.4s\n",
      "[CV 2/3] END learning_rate=10, max_depth=7, n_estimators=100;, score=0.464 total time=  12.9s\n",
      "[CV 3/3] END learning_rate=10, max_depth=7, n_estimators=100;, score=0.471 total time=  13.1s\n",
      "[CV 1/3] END learning_rate=10, max_depth=7, n_estimators=250;, score=0.479 total time=  32.5s\n",
      "[CV 2/3] END learning_rate=10, max_depth=7, n_estimators=250;, score=0.464 total time=  31.6s\n",
      "[CV 3/3] END learning_rate=10, max_depth=7, n_estimators=250;, score=0.526 total time=  31.6s\n",
      "[CV 1/3] END learning_rate=10, max_depth=9, n_estimators=5;, score=0.516 total time=   1.0s\n",
      "[CV 2/3] END learning_rate=10, max_depth=9, n_estimators=5;, score=0.554 total time=   0.9s\n",
      "[CV 3/3] END learning_rate=10, max_depth=9, n_estimators=5;, score=0.509 total time=   0.9s\n",
      "[CV 1/3] END learning_rate=10, max_depth=9, n_estimators=50;, score=0.523 total time=   9.9s\n",
      "[CV 2/3] END learning_rate=10, max_depth=9, n_estimators=50;, score=0.560 total time=   9.4s\n",
      "[CV 3/3] END learning_rate=10, max_depth=9, n_estimators=50;, score=0.498 total time=   9.2s\n",
      "[CV 1/3] END learning_rate=10, max_depth=9, n_estimators=100;, score=0.516 total time=  18.9s\n",
      "[CV 2/3] END learning_rate=10, max_depth=9, n_estimators=100;, score=0.534 total time=  17.9s\n",
      "[CV 3/3] END learning_rate=10, max_depth=9, n_estimators=100;, score=0.536 total time=  17.3s\n",
      "[CV 1/3] END learning_rate=10, max_depth=9, n_estimators=250;, score=0.496 total time=  44.3s\n",
      "[CV 2/3] END learning_rate=10, max_depth=9, n_estimators=250;, score=0.542 total time=  43.8s\n",
      "[CV 3/3] END learning_rate=10, max_depth=9, n_estimators=250;, score=0.506 total time=  41.8s\n"
     ]
    },
    {
     "data": {
      "text/html": [
       "<style>#sk-container-id-4 {color: black;background-color: white;}#sk-container-id-4 pre{padding: 0;}#sk-container-id-4 div.sk-toggleable {background-color: white;}#sk-container-id-4 label.sk-toggleable__label {cursor: pointer;display: block;width: 100%;margin-bottom: 0;padding: 0.3em;box-sizing: border-box;text-align: center;}#sk-container-id-4 label.sk-toggleable__label-arrow:before {content: \"▸\";float: left;margin-right: 0.25em;color: #696969;}#sk-container-id-4 label.sk-toggleable__label-arrow:hover:before {color: black;}#sk-container-id-4 div.sk-estimator:hover label.sk-toggleable__label-arrow:before {color: black;}#sk-container-id-4 div.sk-toggleable__content {max-height: 0;max-width: 0;overflow: hidden;text-align: left;background-color: #f0f8ff;}#sk-container-id-4 div.sk-toggleable__content pre {margin: 0.2em;color: black;border-radius: 0.25em;background-color: #f0f8ff;}#sk-container-id-4 input.sk-toggleable__control:checked~div.sk-toggleable__content {max-height: 200px;max-width: 100%;overflow: auto;}#sk-container-id-4 input.sk-toggleable__control:checked~label.sk-toggleable__label-arrow:before {content: \"▾\";}#sk-container-id-4 div.sk-estimator input.sk-toggleable__control:checked~label.sk-toggleable__label {background-color: #d4ebff;}#sk-container-id-4 div.sk-label input.sk-toggleable__control:checked~label.sk-toggleable__label {background-color: #d4ebff;}#sk-container-id-4 input.sk-hidden--visually {border: 0;clip: rect(1px 1px 1px 1px);clip: rect(1px, 1px, 1px, 1px);height: 1px;margin: -1px;overflow: hidden;padding: 0;position: absolute;width: 1px;}#sk-container-id-4 div.sk-estimator {font-family: monospace;background-color: #f0f8ff;border: 1px dotted black;border-radius: 0.25em;box-sizing: border-box;margin-bottom: 0.5em;}#sk-container-id-4 div.sk-estimator:hover {background-color: #d4ebff;}#sk-container-id-4 div.sk-parallel-item::after {content: \"\";width: 100%;border-bottom: 1px solid gray;flex-grow: 1;}#sk-container-id-4 div.sk-label:hover label.sk-toggleable__label {background-color: #d4ebff;}#sk-container-id-4 div.sk-serial::before {content: \"\";position: absolute;border-left: 1px solid gray;box-sizing: border-box;top: 0;bottom: 0;left: 50%;z-index: 0;}#sk-container-id-4 div.sk-serial {display: flex;flex-direction: column;align-items: center;background-color: white;padding-right: 0.2em;padding-left: 0.2em;position: relative;}#sk-container-id-4 div.sk-item {position: relative;z-index: 1;}#sk-container-id-4 div.sk-parallel {display: flex;align-items: stretch;justify-content: center;background-color: white;position: relative;}#sk-container-id-4 div.sk-item::before, #sk-container-id-4 div.sk-parallel-item::before {content: \"\";position: absolute;border-left: 1px solid gray;box-sizing: border-box;top: 0;bottom: 0;left: 50%;z-index: -1;}#sk-container-id-4 div.sk-parallel-item {display: flex;flex-direction: column;z-index: 1;position: relative;background-color: white;}#sk-container-id-4 div.sk-parallel-item:first-child::after {align-self: flex-end;width: 50%;}#sk-container-id-4 div.sk-parallel-item:last-child::after {align-self: flex-start;width: 50%;}#sk-container-id-4 div.sk-parallel-item:only-child::after {width: 0;}#sk-container-id-4 div.sk-dashed-wrapped {border: 1px dashed gray;margin: 0 0.4em 0.5em 0.4em;box-sizing: border-box;padding-bottom: 0.4em;background-color: white;}#sk-container-id-4 div.sk-label label {font-family: monospace;font-weight: bold;display: inline-block;line-height: 1.2em;}#sk-container-id-4 div.sk-label-container {text-align: center;}#sk-container-id-4 div.sk-container {/* jupyter's `normalize.less` sets `[hidden] { display: none; }` but bootstrap.min.css set `[hidden] { display: none !important; }` so we also need the `!important` here to be able to override the default hidden behavior on the sphinx rendered scikit-learn.org. See: https://github.com/scikit-learn/scikit-learn/issues/21755 */display: inline-block !important;position: relative;}#sk-container-id-4 div.sk-text-repr-fallback {display: none;}</style><div id=\"sk-container-id-4\" class=\"sk-top-container\"><div class=\"sk-text-repr-fallback\"><pre>GridSearchCV(cv=3, estimator=GradientBoostingClassifier(),\n",
       "             param_grid={&#x27;learning_rate&#x27;: [0.01, 0.1, 1, 10],\n",
       "                         &#x27;max_depth&#x27;: [3, 5, 7, 9],\n",
       "                         &#x27;n_estimators&#x27;: [5, 50, 100, 250]},\n",
       "             verbose=3)</pre><b>In a Jupyter environment, please rerun this cell to show the HTML representation or trust the notebook. <br />On GitHub, the HTML representation is unable to render, please try loading this page with nbviewer.org.</b></div><div class=\"sk-container\" hidden><div class=\"sk-item sk-dashed-wrapped\"><div class=\"sk-label-container\"><div class=\"sk-label sk-toggleable\"><input class=\"sk-toggleable__control sk-hidden--visually\" id=\"sk-estimator-id-10\" type=\"checkbox\" ><label for=\"sk-estimator-id-10\" class=\"sk-toggleable__label sk-toggleable__label-arrow\">GridSearchCV</label><div class=\"sk-toggleable__content\"><pre>GridSearchCV(cv=3, estimator=GradientBoostingClassifier(),\n",
       "             param_grid={&#x27;learning_rate&#x27;: [0.01, 0.1, 1, 10],\n",
       "                         &#x27;max_depth&#x27;: [3, 5, 7, 9],\n",
       "                         &#x27;n_estimators&#x27;: [5, 50, 100, 250]},\n",
       "             verbose=3)</pre></div></div></div><div class=\"sk-parallel\"><div class=\"sk-parallel-item\"><div class=\"sk-item\"><div class=\"sk-label-container\"><div class=\"sk-label sk-toggleable\"><input class=\"sk-toggleable__control sk-hidden--visually\" id=\"sk-estimator-id-11\" type=\"checkbox\" ><label for=\"sk-estimator-id-11\" class=\"sk-toggleable__label sk-toggleable__label-arrow\">estimator: GradientBoostingClassifier</label><div class=\"sk-toggleable__content\"><pre>GradientBoostingClassifier()</pre></div></div></div><div class=\"sk-serial\"><div class=\"sk-item\"><div class=\"sk-estimator sk-toggleable\"><input class=\"sk-toggleable__control sk-hidden--visually\" id=\"sk-estimator-id-12\" type=\"checkbox\" ><label for=\"sk-estimator-id-12\" class=\"sk-toggleable__label sk-toggleable__label-arrow\">GradientBoostingClassifier</label><div class=\"sk-toggleable__content\"><pre>GradientBoostingClassifier()</pre></div></div></div></div></div></div></div></div></div></div>"
      ],
      "text/plain": [
       "GridSearchCV(cv=3, estimator=GradientBoostingClassifier(),\n",
       "             param_grid={'learning_rate': [0.01, 0.1, 1, 10],\n",
       "                         'max_depth': [3, 5, 7, 9],\n",
       "                         'n_estimators': [5, 50, 100, 250]},\n",
       "             verbose=3)"
      ]
     },
     "execution_count": 36,
     "metadata": {},
     "output_type": "execute_result"
    }
   ],
   "source": [
    "gb = GradientBoostingClassifier()\n",
    "gb_params = {\n",
    "    'n_estimators': [5, 50, 100, 250],\n",
    "    'max_depth': [3, 5, 7, 9],\n",
    "    'learning_rate': [0.01, 0.1, 1, 10]\n",
    "}\n",
    "\n",
    "gb_cv = GridSearchCV(gb, gb_params, cv=3, verbose=3)\n",
    "gb_cv.fit(tr_features_resample, tr_labels_resample.values)"
   ]
  },
  {
   "cell_type": "code",
   "execution_count": 37,
   "metadata": {},
   "outputs": [
    {
     "name": "stdout",
     "output_type": "stream",
     "text": [
      "0.639 (+/-0.01) for {'learning_rate': 0.01, 'max_depth': 3, 'n_estimators': 5}\n",
      "0.648 (+/-0.004) for {'learning_rate': 0.01, 'max_depth': 3, 'n_estimators': 50}\n",
      "0.65 (+/-0.005) for {'learning_rate': 0.01, 'max_depth': 3, 'n_estimators': 100}\n",
      "0.658 (+/-0.005) for {'learning_rate': 0.01, 'max_depth': 3, 'n_estimators': 250}\n",
      "0.651 (+/-0.003) for {'learning_rate': 0.01, 'max_depth': 5, 'n_estimators': 5}\n",
      "0.655 (+/-0.003) for {'learning_rate': 0.01, 'max_depth': 5, 'n_estimators': 50}\n",
      "0.657 (+/-0.005) for {'learning_rate': 0.01, 'max_depth': 5, 'n_estimators': 100}\n",
      "0.661 (+/-0.005) for {'learning_rate': 0.01, 'max_depth': 5, 'n_estimators': 250}\n",
      "0.652 (+/-0.003) for {'learning_rate': 0.01, 'max_depth': 7, 'n_estimators': 5}\n",
      "0.657 (+/-0.004) for {'learning_rate': 0.01, 'max_depth': 7, 'n_estimators': 50}\n",
      "0.659 (+/-0.004) for {'learning_rate': 0.01, 'max_depth': 7, 'n_estimators': 100}\n",
      "0.662 (+/-0.004) for {'learning_rate': 0.01, 'max_depth': 7, 'n_estimators': 250}\n",
      "0.645 (+/-0.002) for {'learning_rate': 0.01, 'max_depth': 9, 'n_estimators': 5}\n",
      "0.654 (+/-0.002) for {'learning_rate': 0.01, 'max_depth': 9, 'n_estimators': 50}\n",
      "0.658 (+/-0.001) for {'learning_rate': 0.01, 'max_depth': 9, 'n_estimators': 100}\n",
      "0.659 (+/-0.002) for {'learning_rate': 0.01, 'max_depth': 9, 'n_estimators': 250}\n",
      "0.647 (+/-0.006) for {'learning_rate': 0.1, 'max_depth': 3, 'n_estimators': 5}\n",
      "0.662 (+/-0.005) for {'learning_rate': 0.1, 'max_depth': 3, 'n_estimators': 50}\n",
      "0.663 (+/-0.004) for {'learning_rate': 0.1, 'max_depth': 3, 'n_estimators': 100}\n",
      "0.662 (+/-0.002) for {'learning_rate': 0.1, 'max_depth': 3, 'n_estimators': 250}\n",
      "0.654 (+/-0.005) for {'learning_rate': 0.1, 'max_depth': 5, 'n_estimators': 5}\n",
      "0.662 (+/-0.004) for {'learning_rate': 0.1, 'max_depth': 5, 'n_estimators': 50}\n",
      "0.661 (+/-0.002) for {'learning_rate': 0.1, 'max_depth': 5, 'n_estimators': 100}\n",
      "0.659 (+/-0.002) for {'learning_rate': 0.1, 'max_depth': 5, 'n_estimators': 250}\n",
      "0.655 (+/-0.005) for {'learning_rate': 0.1, 'max_depth': 7, 'n_estimators': 5}\n",
      "0.66 (+/-0.003) for {'learning_rate': 0.1, 'max_depth': 7, 'n_estimators': 50}\n",
      "0.659 (+/-0.004) for {'learning_rate': 0.1, 'max_depth': 7, 'n_estimators': 100}\n",
      "0.653 (+/-0.007) for {'learning_rate': 0.1, 'max_depth': 7, 'n_estimators': 250}\n",
      "0.649 (+/-0.003) for {'learning_rate': 0.1, 'max_depth': 9, 'n_estimators': 5}\n",
      "0.655 (+/-0.003) for {'learning_rate': 0.1, 'max_depth': 9, 'n_estimators': 50}\n",
      "0.652 (+/-0.003) for {'learning_rate': 0.1, 'max_depth': 9, 'n_estimators': 100}\n",
      "0.644 (+/-0.005) for {'learning_rate': 0.1, 'max_depth': 9, 'n_estimators': 250}\n",
      "0.655 (+/-0.001) for {'learning_rate': 1, 'max_depth': 3, 'n_estimators': 5}\n",
      "0.65 (+/-0.005) for {'learning_rate': 1, 'max_depth': 3, 'n_estimators': 50}\n",
      "0.643 (+/-0.005) for {'learning_rate': 1, 'max_depth': 3, 'n_estimators': 100}\n",
      "0.627 (+/-0.008) for {'learning_rate': 1, 'max_depth': 3, 'n_estimators': 250}\n",
      "0.654 (+/-0.003) for {'learning_rate': 1, 'max_depth': 5, 'n_estimators': 5}\n",
      "0.633 (+/-0.003) for {'learning_rate': 1, 'max_depth': 5, 'n_estimators': 50}\n",
      "0.617 (+/-0.004) for {'learning_rate': 1, 'max_depth': 5, 'n_estimators': 100}\n",
      "0.601 (+/-0.004) for {'learning_rate': 1, 'max_depth': 5, 'n_estimators': 250}\n",
      "0.65 (+/-0.004) for {'learning_rate': 1, 'max_depth': 7, 'n_estimators': 5}\n",
      "0.61 (+/-0.006) for {'learning_rate': 1, 'max_depth': 7, 'n_estimators': 50}\n",
      "0.601 (+/-0.009) for {'learning_rate': 1, 'max_depth': 7, 'n_estimators': 100}\n",
      "0.595 (+/-0.004) for {'learning_rate': 1, 'max_depth': 7, 'n_estimators': 250}\n",
      "0.637 (+/-0.005) for {'learning_rate': 1, 'max_depth': 9, 'n_estimators': 5}\n",
      "0.599 (+/-0.01) for {'learning_rate': 1, 'max_depth': 9, 'n_estimators': 50}\n",
      "0.596 (+/-0.009) for {'learning_rate': 1, 'max_depth': 9, 'n_estimators': 100}\n",
      "0.603 (+/-0.004) for {'learning_rate': 1, 'max_depth': 9, 'n_estimators': 250}\n",
      "0.533 (+/-0.157) for {'learning_rate': 10, 'max_depth': 3, 'n_estimators': 5}\n",
      "0.533 (+/-0.157) for {'learning_rate': 10, 'max_depth': 3, 'n_estimators': 50}\n",
      "0.533 (+/-0.157) for {'learning_rate': 10, 'max_depth': 3, 'n_estimators': 100}\n",
      "0.533 (+/-0.157) for {'learning_rate': 10, 'max_depth': 3, 'n_estimators': 250}\n",
      "0.549 (+/-0.088) for {'learning_rate': 10, 'max_depth': 5, 'n_estimators': 5}\n",
      "0.549 (+/-0.088) for {'learning_rate': 10, 'max_depth': 5, 'n_estimators': 50}\n",
      "0.549 (+/-0.088) for {'learning_rate': 10, 'max_depth': 5, 'n_estimators': 100}\n",
      "0.549 (+/-0.088) for {'learning_rate': 10, 'max_depth': 5, 'n_estimators': 250}\n",
      "0.489 (+/-0.051) for {'learning_rate': 10, 'max_depth': 7, 'n_estimators': 5}\n",
      "0.471 (+/-0.012) for {'learning_rate': 10, 'max_depth': 7, 'n_estimators': 50}\n",
      "0.475 (+/-0.022) for {'learning_rate': 10, 'max_depth': 7, 'n_estimators': 100}\n",
      "0.49 (+/-0.052) for {'learning_rate': 10, 'max_depth': 7, 'n_estimators': 250}\n",
      "0.526 (+/-0.04) for {'learning_rate': 10, 'max_depth': 9, 'n_estimators': 5}\n",
      "0.527 (+/-0.051) for {'learning_rate': 10, 'max_depth': 9, 'n_estimators': 50}\n",
      "0.529 (+/-0.017) for {'learning_rate': 10, 'max_depth': 9, 'n_estimators': 100}\n",
      "0.515 (+/-0.04) for {'learning_rate': 10, 'max_depth': 9, 'n_estimators': 250}\n",
      "BEST PARAMS: {'learning_rate': 0.1, 'max_depth': 3, 'n_estimators': 100}\n",
      "\n"
     ]
    }
   ],
   "source": [
    "print_results(gb_cv)"
   ]
  },
  {
   "cell_type": "markdown",
   "metadata": {},
   "source": [
    "### 4.2.5 Multi Layer Perceptron"
   ]
  },
  {
   "cell_type": "code",
   "execution_count": 42,
   "metadata": {},
   "outputs": [
    {
     "name": "stdout",
     "output_type": "stream",
     "text": [
      "Fitting 3 folds for each of 27 candidates, totalling 81 fits\n",
      "[CV 1/3] END activation=relu, hidden_layer_sizes=(10,), learning_rate=constant;, score=0.658 total time=   2.0s\n",
      "[CV 2/3] END activation=relu, hidden_layer_sizes=(10,), learning_rate=constant;, score=0.656 total time=   1.7s\n",
      "[CV 3/3] END activation=relu, hidden_layer_sizes=(10,), learning_rate=constant;, score=0.658 total time=   3.1s\n",
      "[CV 1/3] END activation=relu, hidden_layer_sizes=(10,), learning_rate=invscaling;, score=0.661 total time=   2.6s\n",
      "[CV 2/3] END activation=relu, hidden_layer_sizes=(10,), learning_rate=invscaling;, score=0.656 total time=   1.6s\n",
      "[CV 3/3] END activation=relu, hidden_layer_sizes=(10,), learning_rate=invscaling;, score=0.661 total time=   1.5s\n",
      "[CV 1/3] END activation=relu, hidden_layer_sizes=(10,), learning_rate=adaptive;, score=0.661 total time=   2.4s\n",
      "[CV 2/3] END activation=relu, hidden_layer_sizes=(10,), learning_rate=adaptive;, score=0.656 total time=   2.0s\n",
      "[CV 3/3] END activation=relu, hidden_layer_sizes=(10,), learning_rate=adaptive;, score=0.659 total time=   3.1s\n",
      "[CV 1/3] END activation=relu, hidden_layer_sizes=(50,), learning_rate=constant;, score=0.659 total time=  10.3s\n",
      "[CV 2/3] END activation=relu, hidden_layer_sizes=(50,), learning_rate=constant;, score=0.655 total time=   7.1s\n",
      "[CV 3/3] END activation=relu, hidden_layer_sizes=(50,), learning_rate=constant;, score=0.659 total time=   6.2s\n",
      "[CV 1/3] END activation=relu, hidden_layer_sizes=(50,), learning_rate=invscaling;, score=0.660 total time=   8.8s\n",
      "[CV 2/3] END activation=relu, hidden_layer_sizes=(50,), learning_rate=invscaling;, score=0.655 total time=  13.6s\n",
      "[CV 3/3] END activation=relu, hidden_layer_sizes=(50,), learning_rate=invscaling;, score=0.657 total time=  11.5s\n",
      "[CV 1/3] END activation=relu, hidden_layer_sizes=(50,), learning_rate=adaptive;, score=0.662 total time=   9.1s\n",
      "[CV 2/3] END activation=relu, hidden_layer_sizes=(50,), learning_rate=adaptive;, score=0.655 total time=   7.1s\n",
      "[CV 3/3] END activation=relu, hidden_layer_sizes=(50,), learning_rate=adaptive;, score=0.658 total time=   6.6s\n",
      "[CV 1/3] END activation=relu, hidden_layer_sizes=(100,), learning_rate=constant;, score=0.660 total time=  10.5s\n",
      "[CV 2/3] END activation=relu, hidden_layer_sizes=(100,), learning_rate=constant;, score=0.653 total time=  12.2s\n",
      "[CV 3/3] END activation=relu, hidden_layer_sizes=(100,), learning_rate=constant;, score=0.658 total time=   9.1s\n",
      "[CV 1/3] END activation=relu, hidden_layer_sizes=(100,), learning_rate=invscaling;, score=0.661 total time=  12.2s\n",
      "[CV 2/3] END activation=relu, hidden_layer_sizes=(100,), learning_rate=invscaling;, score=0.658 total time=   9.5s\n",
      "[CV 3/3] END activation=relu, hidden_layer_sizes=(100,), learning_rate=invscaling;, score=0.656 total time=  12.8s\n",
      "[CV 1/3] END activation=relu, hidden_layer_sizes=(100,), learning_rate=adaptive;, score=0.660 total time=   8.5s\n",
      "[CV 2/3] END activation=relu, hidden_layer_sizes=(100,), learning_rate=adaptive;, score=0.656 total time=  11.7s\n",
      "[CV 3/3] END activation=relu, hidden_layer_sizes=(100,), learning_rate=adaptive;, score=0.659 total time=  13.6s\n",
      "[CV 1/3] END activation=tanh, hidden_layer_sizes=(10,), learning_rate=constant;, score=0.659 total time=   1.5s\n",
      "[CV 2/3] END activation=tanh, hidden_layer_sizes=(10,), learning_rate=constant;, score=0.655 total time=   1.2s\n",
      "[CV 3/3] END activation=tanh, hidden_layer_sizes=(10,), learning_rate=constant;, score=0.659 total time=   0.9s\n",
      "[CV 1/3] END activation=tanh, hidden_layer_sizes=(10,), learning_rate=invscaling;, score=0.658 total time=   1.2s\n",
      "[CV 2/3] END activation=tanh, hidden_layer_sizes=(10,), learning_rate=invscaling;, score=0.653 total time=   1.1s\n",
      "[CV 3/3] END activation=tanh, hidden_layer_sizes=(10,), learning_rate=invscaling;, score=0.660 total time=   2.4s\n",
      "[CV 1/3] END activation=tanh, hidden_layer_sizes=(10,), learning_rate=adaptive;, score=0.657 total time=   1.1s\n",
      "[CV 2/3] END activation=tanh, hidden_layer_sizes=(10,), learning_rate=adaptive;, score=0.653 total time=   1.2s\n",
      "[CV 3/3] END activation=tanh, hidden_layer_sizes=(10,), learning_rate=adaptive;, score=0.660 total time=   2.0s\n",
      "[CV 1/3] END activation=tanh, hidden_layer_sizes=(50,), learning_rate=constant;, score=0.660 total time=   2.7s\n",
      "[CV 2/3] END activation=tanh, hidden_layer_sizes=(50,), learning_rate=constant;, score=0.652 total time=   3.2s\n",
      "[CV 3/3] END activation=tanh, hidden_layer_sizes=(50,), learning_rate=constant;, score=0.662 total time=   2.6s\n",
      "[CV 1/3] END activation=tanh, hidden_layer_sizes=(50,), learning_rate=invscaling;, score=0.658 total time=   4.9s\n",
      "[CV 2/3] END activation=tanh, hidden_layer_sizes=(50,), learning_rate=invscaling;, score=0.655 total time=   4.6s\n",
      "[CV 3/3] END activation=tanh, hidden_layer_sizes=(50,), learning_rate=invscaling;, score=0.656 total time=   3.0s\n",
      "[CV 1/3] END activation=tanh, hidden_layer_sizes=(50,), learning_rate=adaptive;, score=0.657 total time=   2.7s\n",
      "[CV 2/3] END activation=tanh, hidden_layer_sizes=(50,), learning_rate=adaptive;, score=0.653 total time=   2.7s\n",
      "[CV 3/3] END activation=tanh, hidden_layer_sizes=(50,), learning_rate=adaptive;, score=0.659 total time=   2.5s\n",
      "[CV 1/3] END activation=tanh, hidden_layer_sizes=(100,), learning_rate=constant;, score=0.656 total time=   3.2s\n",
      "[CV 2/3] END activation=tanh, hidden_layer_sizes=(100,), learning_rate=constant;, score=0.654 total time=   3.4s\n",
      "[CV 3/3] END activation=tanh, hidden_layer_sizes=(100,), learning_rate=constant;, score=0.661 total time=   3.3s\n",
      "[CV 1/3] END activation=tanh, hidden_layer_sizes=(100,), learning_rate=invscaling;, score=0.657 total time=   2.7s\n",
      "[CV 2/3] END activation=tanh, hidden_layer_sizes=(100,), learning_rate=invscaling;, score=0.654 total time=   3.3s\n",
      "[CV 3/3] END activation=tanh, hidden_layer_sizes=(100,), learning_rate=invscaling;, score=0.660 total time=   3.1s\n",
      "[CV 1/3] END activation=tanh, hidden_layer_sizes=(100,), learning_rate=adaptive;, score=0.657 total time=   4.0s\n",
      "[CV 2/3] END activation=tanh, hidden_layer_sizes=(100,), learning_rate=adaptive;, score=0.653 total time=   4.0s\n",
      "[CV 3/3] END activation=tanh, hidden_layer_sizes=(100,), learning_rate=adaptive;, score=0.660 total time=   3.5s\n",
      "[CV 1/3] END activation=logistic, hidden_layer_sizes=(10,), learning_rate=constant;, score=0.657 total time=   1.8s\n",
      "[CV 2/3] END activation=logistic, hidden_layer_sizes=(10,), learning_rate=constant;, score=0.653 total time=   1.9s\n",
      "[CV 3/3] END activation=logistic, hidden_layer_sizes=(10,), learning_rate=constant;, score=0.658 total time=   1.5s\n",
      "[CV 1/3] END activation=logistic, hidden_layer_sizes=(10,), learning_rate=invscaling;, score=0.657 total time=   1.6s\n",
      "[CV 2/3] END activation=logistic, hidden_layer_sizes=(10,), learning_rate=invscaling;, score=0.653 total time=   1.4s\n",
      "[CV 3/3] END activation=logistic, hidden_layer_sizes=(10,), learning_rate=invscaling;, score=0.657 total time=   1.7s\n",
      "[CV 1/3] END activation=logistic, hidden_layer_sizes=(10,), learning_rate=adaptive;, score=0.657 total time=   1.6s\n",
      "[CV 2/3] END activation=logistic, hidden_layer_sizes=(10,), learning_rate=adaptive;, score=0.652 total time=   1.7s\n",
      "[CV 3/3] END activation=logistic, hidden_layer_sizes=(10,), learning_rate=adaptive;, score=0.658 total time=   1.5s\n",
      "[CV 1/3] END activation=logistic, hidden_layer_sizes=(50,), learning_rate=constant;, score=0.657 total time=   2.8s\n",
      "[CV 2/3] END activation=logistic, hidden_layer_sizes=(50,), learning_rate=constant;, score=0.654 total time=   4.0s\n",
      "[CV 3/3] END activation=logistic, hidden_layer_sizes=(50,), learning_rate=constant;, score=0.657 total time=   3.3s\n",
      "[CV 1/3] END activation=logistic, hidden_layer_sizes=(50,), learning_rate=invscaling;, score=0.656 total time=   2.6s\n",
      "[CV 2/3] END activation=logistic, hidden_layer_sizes=(50,), learning_rate=invscaling;, score=0.653 total time=   4.4s\n",
      "[CV 3/3] END activation=logistic, hidden_layer_sizes=(50,), learning_rate=invscaling;, score=0.658 total time=   3.0s\n",
      "[CV 1/3] END activation=logistic, hidden_layer_sizes=(50,), learning_rate=adaptive;, score=0.658 total time=   3.0s\n",
      "[CV 2/3] END activation=logistic, hidden_layer_sizes=(50,), learning_rate=adaptive;, score=0.653 total time=   2.6s\n",
      "[CV 3/3] END activation=logistic, hidden_layer_sizes=(50,), learning_rate=adaptive;, score=0.660 total time=   4.7s\n",
      "[CV 1/3] END activation=logistic, hidden_layer_sizes=(100,), learning_rate=constant;, score=0.656 total time=   5.5s\n",
      "[CV 2/3] END activation=logistic, hidden_layer_sizes=(100,), learning_rate=constant;, score=0.652 total time=   4.8s\n",
      "[CV 3/3] END activation=logistic, hidden_layer_sizes=(100,), learning_rate=constant;, score=0.661 total time=   3.2s\n",
      "[CV 1/3] END activation=logistic, hidden_layer_sizes=(100,), learning_rate=invscaling;, score=0.659 total time=   3.3s\n",
      "[CV 2/3] END activation=logistic, hidden_layer_sizes=(100,), learning_rate=invscaling;, score=0.654 total time=   4.2s\n",
      "[CV 3/3] END activation=logistic, hidden_layer_sizes=(100,), learning_rate=invscaling;, score=0.659 total time=   3.6s\n",
      "[CV 1/3] END activation=logistic, hidden_layer_sizes=(100,), learning_rate=adaptive;, score=0.659 total time=   5.6s\n",
      "[CV 2/3] END activation=logistic, hidden_layer_sizes=(100,), learning_rate=adaptive;, score=0.653 total time=   5.6s\n",
      "[CV 3/3] END activation=logistic, hidden_layer_sizes=(100,), learning_rate=adaptive;, score=0.658 total time=   3.4s\n"
     ]
    },
    {
     "data": {
      "text/html": [
       "<style>#sk-container-id-6 {color: black;background-color: white;}#sk-container-id-6 pre{padding: 0;}#sk-container-id-6 div.sk-toggleable {background-color: white;}#sk-container-id-6 label.sk-toggleable__label {cursor: pointer;display: block;width: 100%;margin-bottom: 0;padding: 0.3em;box-sizing: border-box;text-align: center;}#sk-container-id-6 label.sk-toggleable__label-arrow:before {content: \"▸\";float: left;margin-right: 0.25em;color: #696969;}#sk-container-id-6 label.sk-toggleable__label-arrow:hover:before {color: black;}#sk-container-id-6 div.sk-estimator:hover label.sk-toggleable__label-arrow:before {color: black;}#sk-container-id-6 div.sk-toggleable__content {max-height: 0;max-width: 0;overflow: hidden;text-align: left;background-color: #f0f8ff;}#sk-container-id-6 div.sk-toggleable__content pre {margin: 0.2em;color: black;border-radius: 0.25em;background-color: #f0f8ff;}#sk-container-id-6 input.sk-toggleable__control:checked~div.sk-toggleable__content {max-height: 200px;max-width: 100%;overflow: auto;}#sk-container-id-6 input.sk-toggleable__control:checked~label.sk-toggleable__label-arrow:before {content: \"▾\";}#sk-container-id-6 div.sk-estimator input.sk-toggleable__control:checked~label.sk-toggleable__label {background-color: #d4ebff;}#sk-container-id-6 div.sk-label input.sk-toggleable__control:checked~label.sk-toggleable__label {background-color: #d4ebff;}#sk-container-id-6 input.sk-hidden--visually {border: 0;clip: rect(1px 1px 1px 1px);clip: rect(1px, 1px, 1px, 1px);height: 1px;margin: -1px;overflow: hidden;padding: 0;position: absolute;width: 1px;}#sk-container-id-6 div.sk-estimator {font-family: monospace;background-color: #f0f8ff;border: 1px dotted black;border-radius: 0.25em;box-sizing: border-box;margin-bottom: 0.5em;}#sk-container-id-6 div.sk-estimator:hover {background-color: #d4ebff;}#sk-container-id-6 div.sk-parallel-item::after {content: \"\";width: 100%;border-bottom: 1px solid gray;flex-grow: 1;}#sk-container-id-6 div.sk-label:hover label.sk-toggleable__label {background-color: #d4ebff;}#sk-container-id-6 div.sk-serial::before {content: \"\";position: absolute;border-left: 1px solid gray;box-sizing: border-box;top: 0;bottom: 0;left: 50%;z-index: 0;}#sk-container-id-6 div.sk-serial {display: flex;flex-direction: column;align-items: center;background-color: white;padding-right: 0.2em;padding-left: 0.2em;position: relative;}#sk-container-id-6 div.sk-item {position: relative;z-index: 1;}#sk-container-id-6 div.sk-parallel {display: flex;align-items: stretch;justify-content: center;background-color: white;position: relative;}#sk-container-id-6 div.sk-item::before, #sk-container-id-6 div.sk-parallel-item::before {content: \"\";position: absolute;border-left: 1px solid gray;box-sizing: border-box;top: 0;bottom: 0;left: 50%;z-index: -1;}#sk-container-id-6 div.sk-parallel-item {display: flex;flex-direction: column;z-index: 1;position: relative;background-color: white;}#sk-container-id-6 div.sk-parallel-item:first-child::after {align-self: flex-end;width: 50%;}#sk-container-id-6 div.sk-parallel-item:last-child::after {align-self: flex-start;width: 50%;}#sk-container-id-6 div.sk-parallel-item:only-child::after {width: 0;}#sk-container-id-6 div.sk-dashed-wrapped {border: 1px dashed gray;margin: 0 0.4em 0.5em 0.4em;box-sizing: border-box;padding-bottom: 0.4em;background-color: white;}#sk-container-id-6 div.sk-label label {font-family: monospace;font-weight: bold;display: inline-block;line-height: 1.2em;}#sk-container-id-6 div.sk-label-container {text-align: center;}#sk-container-id-6 div.sk-container {/* jupyter's `normalize.less` sets `[hidden] { display: none; }` but bootstrap.min.css set `[hidden] { display: none !important; }` so we also need the `!important` here to be able to override the default hidden behavior on the sphinx rendered scikit-learn.org. See: https://github.com/scikit-learn/scikit-learn/issues/21755 */display: inline-block !important;position: relative;}#sk-container-id-6 div.sk-text-repr-fallback {display: none;}</style><div id=\"sk-container-id-6\" class=\"sk-top-container\"><div class=\"sk-text-repr-fallback\"><pre>GridSearchCV(cv=3, estimator=MLPClassifier(),\n",
       "             param_grid={&#x27;activation&#x27;: [&#x27;relu&#x27;, &#x27;tanh&#x27;, &#x27;logistic&#x27;],\n",
       "                         &#x27;hidden_layer_sizes&#x27;: [(10,), (50,), (100,)],\n",
       "                         &#x27;learning_rate&#x27;: [&#x27;constant&#x27;, &#x27;invscaling&#x27;,\n",
       "                                           &#x27;adaptive&#x27;]},\n",
       "             verbose=3)</pre><b>In a Jupyter environment, please rerun this cell to show the HTML representation or trust the notebook. <br />On GitHub, the HTML representation is unable to render, please try loading this page with nbviewer.org.</b></div><div class=\"sk-container\" hidden><div class=\"sk-item sk-dashed-wrapped\"><div class=\"sk-label-container\"><div class=\"sk-label sk-toggleable\"><input class=\"sk-toggleable__control sk-hidden--visually\" id=\"sk-estimator-id-16\" type=\"checkbox\" ><label for=\"sk-estimator-id-16\" class=\"sk-toggleable__label sk-toggleable__label-arrow\">GridSearchCV</label><div class=\"sk-toggleable__content\"><pre>GridSearchCV(cv=3, estimator=MLPClassifier(),\n",
       "             param_grid={&#x27;activation&#x27;: [&#x27;relu&#x27;, &#x27;tanh&#x27;, &#x27;logistic&#x27;],\n",
       "                         &#x27;hidden_layer_sizes&#x27;: [(10,), (50,), (100,)],\n",
       "                         &#x27;learning_rate&#x27;: [&#x27;constant&#x27;, &#x27;invscaling&#x27;,\n",
       "                                           &#x27;adaptive&#x27;]},\n",
       "             verbose=3)</pre></div></div></div><div class=\"sk-parallel\"><div class=\"sk-parallel-item\"><div class=\"sk-item\"><div class=\"sk-label-container\"><div class=\"sk-label sk-toggleable\"><input class=\"sk-toggleable__control sk-hidden--visually\" id=\"sk-estimator-id-17\" type=\"checkbox\" ><label for=\"sk-estimator-id-17\" class=\"sk-toggleable__label sk-toggleable__label-arrow\">estimator: MLPClassifier</label><div class=\"sk-toggleable__content\"><pre>MLPClassifier()</pre></div></div></div><div class=\"sk-serial\"><div class=\"sk-item\"><div class=\"sk-estimator sk-toggleable\"><input class=\"sk-toggleable__control sk-hidden--visually\" id=\"sk-estimator-id-18\" type=\"checkbox\" ><label for=\"sk-estimator-id-18\" class=\"sk-toggleable__label sk-toggleable__label-arrow\">MLPClassifier</label><div class=\"sk-toggleable__content\"><pre>MLPClassifier()</pre></div></div></div></div></div></div></div></div></div></div>"
      ],
      "text/plain": [
       "GridSearchCV(cv=3, estimator=MLPClassifier(),\n",
       "             param_grid={'activation': ['relu', 'tanh', 'logistic'],\n",
       "                         'hidden_layer_sizes': [(10,), (50,), (100,)],\n",
       "                         'learning_rate': ['constant', 'invscaling',\n",
       "                                           'adaptive']},\n",
       "             verbose=3)"
      ]
     },
     "execution_count": 42,
     "metadata": {},
     "output_type": "execute_result"
    }
   ],
   "source": [
    "mlp = MLPClassifier()\n",
    "mlp_params = {\n",
    "    'hidden_layer_sizes': [(10,), (50,), (100,)],\n",
    "    'activation': ['relu', 'tanh', 'logistic'],\n",
    "    'learning_rate': ['constant', 'invscaling', 'adaptive']\n",
    "}\n",
    "\n",
    "mlp_cv = GridSearchCV(mlp, mlp_params, cv=3, verbose=3)\n",
    "mlp_cv.fit(tr_features_resample, tr_labels_resample.values)"
   ]
  },
  {
   "cell_type": "code",
   "execution_count": 43,
   "metadata": {},
   "outputs": [
    {
     "name": "stdout",
     "output_type": "stream",
     "text": [
      "0.657 (+/-0.002) for {'activation': 'relu', 'hidden_layer_sizes': (10,), 'learning_rate': 'constant'}\n",
      "0.659 (+/-0.004) for {'activation': 'relu', 'hidden_layer_sizes': (10,), 'learning_rate': 'invscaling'}\n",
      "0.659 (+/-0.004) for {'activation': 'relu', 'hidden_layer_sizes': (10,), 'learning_rate': 'adaptive'}\n",
      "0.658 (+/-0.003) for {'activation': 'relu', 'hidden_layer_sizes': (50,), 'learning_rate': 'constant'}\n",
      "0.658 (+/-0.004) for {'activation': 'relu', 'hidden_layer_sizes': (50,), 'learning_rate': 'invscaling'}\n",
      "0.658 (+/-0.006) for {'activation': 'relu', 'hidden_layer_sizes': (50,), 'learning_rate': 'adaptive'}\n",
      "0.657 (+/-0.006) for {'activation': 'relu', 'hidden_layer_sizes': (100,), 'learning_rate': 'constant'}\n",
      "0.658 (+/-0.004) for {'activation': 'relu', 'hidden_layer_sizes': (100,), 'learning_rate': 'invscaling'}\n",
      "0.658 (+/-0.003) for {'activation': 'relu', 'hidden_layer_sizes': (100,), 'learning_rate': 'adaptive'}\n",
      "0.658 (+/-0.004) for {'activation': 'tanh', 'hidden_layer_sizes': (10,), 'learning_rate': 'constant'}\n",
      "0.657 (+/-0.006) for {'activation': 'tanh', 'hidden_layer_sizes': (10,), 'learning_rate': 'invscaling'}\n",
      "0.657 (+/-0.006) for {'activation': 'tanh', 'hidden_layer_sizes': (10,), 'learning_rate': 'adaptive'}\n",
      "0.658 (+/-0.008) for {'activation': 'tanh', 'hidden_layer_sizes': (50,), 'learning_rate': 'constant'}\n",
      "0.656 (+/-0.003) for {'activation': 'tanh', 'hidden_layer_sizes': (50,), 'learning_rate': 'invscaling'}\n",
      "0.656 (+/-0.005) for {'activation': 'tanh', 'hidden_layer_sizes': (50,), 'learning_rate': 'adaptive'}\n",
      "0.657 (+/-0.006) for {'activation': 'tanh', 'hidden_layer_sizes': (100,), 'learning_rate': 'constant'}\n",
      "0.657 (+/-0.005) for {'activation': 'tanh', 'hidden_layer_sizes': (100,), 'learning_rate': 'invscaling'}\n",
      "0.657 (+/-0.006) for {'activation': 'tanh', 'hidden_layer_sizes': (100,), 'learning_rate': 'adaptive'}\n",
      "0.656 (+/-0.004) for {'activation': 'logistic', 'hidden_layer_sizes': (10,), 'learning_rate': 'constant'}\n",
      "0.655 (+/-0.004) for {'activation': 'logistic', 'hidden_layer_sizes': (10,), 'learning_rate': 'invscaling'}\n",
      "0.656 (+/-0.005) for {'activation': 'logistic', 'hidden_layer_sizes': (10,), 'learning_rate': 'adaptive'}\n",
      "0.656 (+/-0.003) for {'activation': 'logistic', 'hidden_layer_sizes': (50,), 'learning_rate': 'constant'}\n",
      "0.656 (+/-0.004) for {'activation': 'logistic', 'hidden_layer_sizes': (50,), 'learning_rate': 'invscaling'}\n",
      "0.657 (+/-0.005) for {'activation': 'logistic', 'hidden_layer_sizes': (50,), 'learning_rate': 'adaptive'}\n",
      "0.656 (+/-0.007) for {'activation': 'logistic', 'hidden_layer_sizes': (100,), 'learning_rate': 'constant'}\n",
      "0.657 (+/-0.005) for {'activation': 'logistic', 'hidden_layer_sizes': (100,), 'learning_rate': 'invscaling'}\n",
      "0.657 (+/-0.005) for {'activation': 'logistic', 'hidden_layer_sizes': (100,), 'learning_rate': 'adaptive'}\n",
      "BEST PARAMS: {'activation': 'relu', 'hidden_layer_sizes': (10,), 'learning_rate': 'invscaling'}\n",
      "\n"
     ]
    }
   ],
   "source": [
    "print_results(mlp_cv)"
   ]
  },
  {
   "cell_type": "markdown",
   "metadata": {},
   "source": [
    "In case we need the model right away, save all the models for later use using joblib."
   ]
  },
  {
   "cell_type": "code",
   "execution_count": 49,
   "metadata": {},
   "outputs": [],
   "source": [
    "import joblib\n",
    "\n",
    "models = {\n",
    "    'LR': lr_cv.best_estimator_,\n",
    "    'SVM': svc_cv.best_estimator_,\n",
    "    'RF': rf_cv.best_estimator_,\n",
    "    'GB': gb_cv.best_estimator_,\n",
    "    'MLP': mlp_cv.best_estimator_\n",
    "    }\n",
    "for model in models:\n",
    "    joblib.dump(models[model], f\"./models/{model}.pkl\")"
   ]
  },
  {
   "cell_type": "markdown",
   "metadata": {},
   "source": [
    "## 4.3 Model Evaluation"
   ]
  },
  {
   "cell_type": "markdown",
   "metadata": {},
   "source": [
    "### 4.3.1 Early Elimination"
   ]
  },
  {
   "cell_type": "markdown",
   "metadata": {},
   "source": [
    "Next, we will compare the 5 models with its best parameters and evaluate each of them using the overall training set and use the f1 score and roc auc score to pick the best model."
   ]
  },
  {
   "cell_type": "code",
   "execution_count": 72,
   "metadata": {},
   "outputs": [
    {
     "name": "stdout",
     "output_type": "stream",
     "text": [
      "LR:\n",
      "     accuracy: 0.6570 | precision: 0.6620\n",
      "     recall: 0.6415 | f_1: 0.6516\n",
      "     roc_auc: 0.6570\n",
      "SVM:\n",
      "     accuracy: 0.6636 | precision: 0.6658\n",
      "     recall: 0.6572 | f_1: 0.6615\n",
      "     roc_auc: 0.6636\n",
      "RF:\n",
      "     accuracy: 0.6790 | precision: 0.6793\n",
      "     recall: 0.6782 | f_1: 0.6787\n",
      "     roc_auc: 0.6790\n",
      "GB:\n",
      "     accuracy: 0.6687 | precision: 0.6692\n",
      "     recall: 0.6675 | f_1: 0.6683\n",
      "     roc_auc: 0.6687\n",
      "MLP:\n",
      "     accuracy: 0.6592 | precision: 0.6670\n",
      "     recall: 0.6359 | f_1: 0.6511\n",
      "     roc_auc: 0.6592\n"
     ]
    }
   ],
   "source": [
    "from sklearn.metrics import accuracy_score, precision_score, recall_score, f1_score, roc_auc_score\n",
    "def eval_model(name, model, features, labels):\n",
    "    pred = model.predict(features)\n",
    "    acc = accuracy_score(labels, pred)\n",
    "    prec = precision_score(labels, pred)\n",
    "    rec = recall_score(labels, pred)\n",
    "    f_1 = f1_score(labels, pred)\n",
    "    roc_auc = roc_auc_score(labels, pred)\n",
    "    print(f\"{name}:\\n     accuracy: {acc:.4f} | precision: {prec:.4f}\\n     recall: {rec:.4f} | f_1: {f_1:.4f}\\n     roc_auc: {roc_auc:.4f}\")\n",
    "\n",
    "for model in models:\n",
    "    eval_model(model, models[model], tr_features_resample, tr_labels_resample)"
   ]
  },
  {
   "cell_type": "markdown",
   "metadata": {},
   "source": [
    "From the metric scores observation above (F1 and ROC AUC score), we can clearly see that **Random Forest (RF)** model have the both largest F1 score and largest ROC AUC score. Since we want to see how it'll perform compared by **Logistic Regression (LR)**, we'll choose these 2 models to do K-Fold Cross-Validation testing."
   ]
  },
  {
   "cell_type": "markdown",
   "metadata": {},
   "source": [
    "### 4.3.2 K-Fold Cross-Validation"
   ]
  },
  {
   "cell_type": "code",
   "execution_count": 77,
   "metadata": {},
   "outputs": [],
   "source": [
    "from sklearn.model_selection import KFold, cross_val_score\n",
    "\n",
    "kfold = KFold(n_splits=10, shuffle=True, random_state=20)"
   ]
  },
  {
   "cell_type": "code",
   "execution_count": 88,
   "metadata": {},
   "outputs": [],
   "source": [
    "new_rf = RandomForestClassifier(n_estimators=250, max_depth=8) # From the best previous hyperparameter\n",
    "new_rf_f1 = cross_val_score(new_rf, tr_features_resample, tr_labels_resample.values.ravel(), cv=kfold, n_jobs=-1, scoring='f1')\n",
    "new_rf_roc_auc = cross_val_score(new_rf, tr_features_resample, tr_labels_resample.values.ravel(), cv=kfold, n_jobs=-1, scoring='roc_auc')\n",
    "\n",
    "new_lr = LogisticRegression(C=0.1) # From the best previous hyperparameter\n",
    "new_lr_f1 = cross_val_score(new_lr, tr_features_resample, tr_labels_resample.values.ravel(), cv=kfold, n_jobs=-1, scoring='f1')\n",
    "new_lr_roc_auc = cross_val_score(new_lr, tr_features_resample, tr_labels_resample.values.ravel(), cv=kfold, n_jobs=-1, scoring='roc_auc')"
   ]
  },
  {
   "cell_type": "code",
   "execution_count": 98,
   "metadata": {},
   "outputs": [
    {
     "name": "stdout",
     "output_type": "stream",
     "text": [
      "Random Forest:\n",
      "    F1: 0.660 +/- 0.008 | ROC_AUC: 0.719 +/- 0.009\n",
      "Logistic Regression:\n",
      "    F1: 0.652 +/- 0.008 | ROC_AUC: 0.713 +/- 0.010\n"
     ]
    }
   ],
   "source": [
    "print(f\"Random Forest:\\n    \\\n",
    "F1: {np.mean(new_rf_f1):.3f} +/- {np.std(new_rf_f1):.3f} | ROC_AUC: {np.mean(new_rf_roc_auc):.3f} +/- {np.std(new_rf_roc_auc):.3f}\\n\\\n",
    "Logistic Regression:\\n    \\\n",
    "F1: {np.mean(new_lr_f1):.3f} +/- {np.std(new_lr_f1):.3f} | ROC_AUC: {np.mean(new_lr_roc_auc):.3f} +/- {np.std(new_lr_roc_auc):.3f}\")"
   ]
  },
  {
   "cell_type": "markdown",
   "metadata": {},
   "source": [
    "From the K-Fold Cross-Validation testing above, we can see that RF model have higher both F1 score and ROC_AUC score while maintain roughly the same deviation as the LR model. Thus, we will chose **Random Forest** model for the test data prediction.\n",
    "\n",
    "But before we go to the prediction step, we will tune the hyperparameter once more but only for the RF model."
   ]
  },
  {
   "cell_type": "markdown",
   "metadata": {},
   "source": [
    "### 4.3.3 Final Model Tuning"
   ]
  },
  {
   "cell_type": "code",
   "execution_count": 103,
   "metadata": {},
   "outputs": [
    {
     "name": "stdout",
     "output_type": "stream",
     "text": [
      "Fitting 5 folds for each of 15 candidates, totalling 75 fits\n"
     ]
    },
    {
     "data": {
      "text/html": [
       "<style>#sk-container-id-8 {color: black;background-color: white;}#sk-container-id-8 pre{padding: 0;}#sk-container-id-8 div.sk-toggleable {background-color: white;}#sk-container-id-8 label.sk-toggleable__label {cursor: pointer;display: block;width: 100%;margin-bottom: 0;padding: 0.3em;box-sizing: border-box;text-align: center;}#sk-container-id-8 label.sk-toggleable__label-arrow:before {content: \"▸\";float: left;margin-right: 0.25em;color: #696969;}#sk-container-id-8 label.sk-toggleable__label-arrow:hover:before {color: black;}#sk-container-id-8 div.sk-estimator:hover label.sk-toggleable__label-arrow:before {color: black;}#sk-container-id-8 div.sk-toggleable__content {max-height: 0;max-width: 0;overflow: hidden;text-align: left;background-color: #f0f8ff;}#sk-container-id-8 div.sk-toggleable__content pre {margin: 0.2em;color: black;border-radius: 0.25em;background-color: #f0f8ff;}#sk-container-id-8 input.sk-toggleable__control:checked~div.sk-toggleable__content {max-height: 200px;max-width: 100%;overflow: auto;}#sk-container-id-8 input.sk-toggleable__control:checked~label.sk-toggleable__label-arrow:before {content: \"▾\";}#sk-container-id-8 div.sk-estimator input.sk-toggleable__control:checked~label.sk-toggleable__label {background-color: #d4ebff;}#sk-container-id-8 div.sk-label input.sk-toggleable__control:checked~label.sk-toggleable__label {background-color: #d4ebff;}#sk-container-id-8 input.sk-hidden--visually {border: 0;clip: rect(1px 1px 1px 1px);clip: rect(1px, 1px, 1px, 1px);height: 1px;margin: -1px;overflow: hidden;padding: 0;position: absolute;width: 1px;}#sk-container-id-8 div.sk-estimator {font-family: monospace;background-color: #f0f8ff;border: 1px dotted black;border-radius: 0.25em;box-sizing: border-box;margin-bottom: 0.5em;}#sk-container-id-8 div.sk-estimator:hover {background-color: #d4ebff;}#sk-container-id-8 div.sk-parallel-item::after {content: \"\";width: 100%;border-bottom: 1px solid gray;flex-grow: 1;}#sk-container-id-8 div.sk-label:hover label.sk-toggleable__label {background-color: #d4ebff;}#sk-container-id-8 div.sk-serial::before {content: \"\";position: absolute;border-left: 1px solid gray;box-sizing: border-box;top: 0;bottom: 0;left: 50%;z-index: 0;}#sk-container-id-8 div.sk-serial {display: flex;flex-direction: column;align-items: center;background-color: white;padding-right: 0.2em;padding-left: 0.2em;position: relative;}#sk-container-id-8 div.sk-item {position: relative;z-index: 1;}#sk-container-id-8 div.sk-parallel {display: flex;align-items: stretch;justify-content: center;background-color: white;position: relative;}#sk-container-id-8 div.sk-item::before, #sk-container-id-8 div.sk-parallel-item::before {content: \"\";position: absolute;border-left: 1px solid gray;box-sizing: border-box;top: 0;bottom: 0;left: 50%;z-index: -1;}#sk-container-id-8 div.sk-parallel-item {display: flex;flex-direction: column;z-index: 1;position: relative;background-color: white;}#sk-container-id-8 div.sk-parallel-item:first-child::after {align-self: flex-end;width: 50%;}#sk-container-id-8 div.sk-parallel-item:last-child::after {align-self: flex-start;width: 50%;}#sk-container-id-8 div.sk-parallel-item:only-child::after {width: 0;}#sk-container-id-8 div.sk-dashed-wrapped {border: 1px dashed gray;margin: 0 0.4em 0.5em 0.4em;box-sizing: border-box;padding-bottom: 0.4em;background-color: white;}#sk-container-id-8 div.sk-label label {font-family: monospace;font-weight: bold;display: inline-block;line-height: 1.2em;}#sk-container-id-8 div.sk-label-container {text-align: center;}#sk-container-id-8 div.sk-container {/* jupyter's `normalize.less` sets `[hidden] { display: none; }` but bootstrap.min.css set `[hidden] { display: none !important; }` so we also need the `!important` here to be able to override the default hidden behavior on the sphinx rendered scikit-learn.org. See: https://github.com/scikit-learn/scikit-learn/issues/21755 */display: inline-block !important;position: relative;}#sk-container-id-8 div.sk-text-repr-fallback {display: none;}</style><div id=\"sk-container-id-8\" class=\"sk-top-container\"><div class=\"sk-text-repr-fallback\"><pre>GridSearchCV(cv=5, estimator=RandomForestClassifier(), n_jobs=-1,\n",
       "             param_grid={&#x27;max_depth&#x27;: [2, 4, 8, 16, 32],\n",
       "                         &#x27;n_estimators&#x27;: [5, 20, 250]},\n",
       "             refit=&#x27;roc_auc&#x27;, scoring=[&#x27;f1&#x27;, &#x27;roc_auc&#x27;], verbose=3)</pre><b>In a Jupyter environment, please rerun this cell to show the HTML representation or trust the notebook. <br />On GitHub, the HTML representation is unable to render, please try loading this page with nbviewer.org.</b></div><div class=\"sk-container\" hidden><div class=\"sk-item sk-dashed-wrapped\"><div class=\"sk-label-container\"><div class=\"sk-label sk-toggleable\"><input class=\"sk-toggleable__control sk-hidden--visually\" id=\"sk-estimator-id-22\" type=\"checkbox\" ><label for=\"sk-estimator-id-22\" class=\"sk-toggleable__label sk-toggleable__label-arrow\">GridSearchCV</label><div class=\"sk-toggleable__content\"><pre>GridSearchCV(cv=5, estimator=RandomForestClassifier(), n_jobs=-1,\n",
       "             param_grid={&#x27;max_depth&#x27;: [2, 4, 8, 16, 32],\n",
       "                         &#x27;n_estimators&#x27;: [5, 20, 250]},\n",
       "             refit=&#x27;roc_auc&#x27;, scoring=[&#x27;f1&#x27;, &#x27;roc_auc&#x27;], verbose=3)</pre></div></div></div><div class=\"sk-parallel\"><div class=\"sk-parallel-item\"><div class=\"sk-item\"><div class=\"sk-label-container\"><div class=\"sk-label sk-toggleable\"><input class=\"sk-toggleable__control sk-hidden--visually\" id=\"sk-estimator-id-23\" type=\"checkbox\" ><label for=\"sk-estimator-id-23\" class=\"sk-toggleable__label sk-toggleable__label-arrow\">estimator: RandomForestClassifier</label><div class=\"sk-toggleable__content\"><pre>RandomForestClassifier()</pre></div></div></div><div class=\"sk-serial\"><div class=\"sk-item\"><div class=\"sk-estimator sk-toggleable\"><input class=\"sk-toggleable__control sk-hidden--visually\" id=\"sk-estimator-id-24\" type=\"checkbox\" ><label for=\"sk-estimator-id-24\" class=\"sk-toggleable__label sk-toggleable__label-arrow\">RandomForestClassifier</label><div class=\"sk-toggleable__content\"><pre>RandomForestClassifier()</pre></div></div></div></div></div></div></div></div></div></div>"
      ],
      "text/plain": [
       "GridSearchCV(cv=5, estimator=RandomForestClassifier(), n_jobs=-1,\n",
       "             param_grid={'max_depth': [2, 4, 8, 16, 32],\n",
       "                         'n_estimators': [5, 20, 250]},\n",
       "             refit='roc_auc', scoring=['f1', 'roc_auc'], verbose=3)"
      ]
     },
     "execution_count": 103,
     "metadata": {},
     "output_type": "execute_result"
    }
   ],
   "source": [
    "final_rf = RandomForestClassifier()\n",
    "final_rf_params = {\n",
    "    'n_estimators': [200, 225, 250, 275, 300],\n",
    "    'max_depth': [6, 7, 8, 9, 10]\n",
    "}\n",
    "final_rf_cv = GridSearchCV(rf, rf_params, cv=5, verbose=3, n_jobs=-1, scoring=['f1', 'roc_auc'], refit='roc_auc')\n",
    "final_rf_cv.fit(tr_features_resample, tr_labels_resample.values.ravel())"
   ]
  },
  {
   "cell_type": "code",
   "execution_count": 108,
   "metadata": {},
   "outputs": [
    {
     "name": "stdout",
     "output_type": "stream",
     "text": [
      "{'max_depth': 8, 'n_estimators': 250}\n",
      "0.719\n"
     ]
    },
    {
     "data": {
      "text/plain": [
       "['./models/final_RF.pkl']"
      ]
     },
     "execution_count": 108,
     "metadata": {},
     "output_type": "execute_result"
    }
   ],
   "source": [
    "print(final_rf_cv.best_params_)\n",
    "print(f\"{final_rf_cv.best_score_:.3f}\")\n",
    "joblib.dump(final_rf_cv.best_estimator_, './models/final_RF.pkl')"
   ]
  },
  {
   "cell_type": "markdown",
   "metadata": {},
   "source": [
    "From the tuning above, we can see that the best parameter for the final RF model is still 8 max depth and 250 estimators. We will use it for the prediction."
   ]
  },
  {
   "cell_type": "markdown",
   "metadata": {
    "collapsed": false,
    "pycharm": {
     "name": "#%% md\n"
    }
   },
   "source": [
    "# 5. Business Recommendation"
   ]
  },
  {
   "cell_type": "markdown",
   "metadata": {},
   "source": [
    "Here, we will use the final model to do the TARGET prediction from test dataset."
   ]
  },
  {
   "cell_type": "code",
   "execution_count": 154,
   "metadata": {},
   "outputs": [],
   "source": [
    "# Load the test dataset\n",
    "test_data = pd.read_csv('./home-credit-default-risk/application_test.csv')\n",
    "test_features = test_data[tr_features_resample.columns].copy()\n",
    "\n",
    "# Encode the categorical columns\n",
    "for feature in encoder_dict.keys():\n",
    "    try:\n",
    "        test_features[feature] = encoder_dict[feature].transform(test_features[feature])\n",
    "    except:\n",
    "        continue\n",
    "\n",
    "# Scale using MinMaxscaler\n",
    "for feature in test_features.columns:\n",
    "    test_features[feature] = min_max_scaler_dict[feature].transform(test_features[[feature]])\n",
    "test_features['EXT_SOURCE_2'] = test_features['EXT_SOURCE_2'].apply(lambda x: x if str(x)!=\"nan\" else np.random.choice(test_features[feature].dropna().values))\n",
    "test_features['EXT_SOURCE_3'] = test_features['EXT_SOURCE_3'].apply(lambda x: x if str(x)!=\"nan\" else np.random.choice(test_features[feature].dropna().values))\n",
    "\n",
    "# Get prediction\n",
    "test_result = final_rf_cv.best_estimator_.predict(test_features)\n",
    "test_result = pd.concat([test_data['SK_ID_CURR'], pd.DataFrame(test_result)], axis=1)\n",
    "test_result.columns = ['SK_ID_CURR', 'TARGET']\n",
    "test_result.to_csv('test_result.csv', index=False)"
   ]
  },
  {
   "cell_type": "markdown",
   "metadata": {},
   "source": [
    "We have get the prediction for the test dataset. Our model predict that 37.9% of our applicant will have payment difficulties and 62.1% won't have payment dificulties. We can say that while our model will help to predit the applicant payment difficulties, but **I suggest that don't use the model as an absolute decision maker. Instead, use the model as an early warning. anyone predicted will have payment difficulties should be inspected more carefully before we reject the application so we will not lose too much customer**.\n",
    "\n",
    "Another business recommendation is as I mention before:\n",
    "- **TI suggest that Home Credit Indonesia can expand their marketing in region with city rating category 1 so the company can achieve more total sum of customer loans with fewer customer count.**\n",
    "- **The company should market the revolving loans more intensively so the we can increase the total amount share of revolving loans and close the gap between revolving and cash loan. We also have a chance to decrease our customer's failure of repayment**"
   ]
  }
 ],
 "metadata": {
  "kernelspec": {
   "display_name": "Python 3.10.6 64-bit",
   "language": "python",
   "name": "python3"
  },
  "language_info": {
   "codemirror_mode": {
    "name": "ipython",
    "version": 3
   },
   "file_extension": ".py",
   "mimetype": "text/x-python",
   "name": "python",
   "nbconvert_exporter": "python",
   "pygments_lexer": "ipython3",
   "version": "3.10.6"
  },
  "vscode": {
   "interpreter": {
    "hash": "26de051ba29f2982a8de78e945f0abaf191376122a1563185a90213a26c5da77"
   }
  }
 },
 "nbformat": 4,
 "nbformat_minor": 0
}
